{
 "cells": [
  {
   "cell_type": "code",
   "execution_count": 64,
   "outputs": [],
   "source": [
    "import matplotlib.pyplot as plt\n",
    "\n",
    "from Bio import Seq\n",
    "from Bio import SeqIO\n",
    "from Bio.SeqUtils import GC"
   ],
   "metadata": {
    "collapsed": false,
    "pycharm": {
     "name": "#%%\n"
    }
   }
  },
  {
   "cell_type": "markdown",
   "source": [
    "## Task 1"
   ],
   "metadata": {
    "collapsed": false
   }
  },
  {
   "cell_type": "markdown",
   "source": [
    "**1. Class that describes students in Bioinformatic Institute:**\n",
    "- methods `subject_semester1` and `subject_semester2` will show which subjects student will learn during the 1 and 2 semester subsequently\n",
    "- method `learning` will add a new skill to student\n",
    "- method `meeting` will show if two students can meet offline\n",
    "- method `skills_show` will show what student can do"
   ],
   "metadata": {
    "collapsed": false
   }
  },
  {
   "cell_type": "code",
   "execution_count": 161,
   "outputs": [],
   "source": [
    "class BioinformaticsStudent:\n",
    "    def __init__(self, name, course, city, skills=None):\n",
    "        self.skills = skills\n",
    "        if self.skills is None:\n",
    "            self.skills = set()\n",
    "        self.name = name\n",
    "        self.course = course\n",
    "        self.city = city\n",
    "    def subjects_semester1(self):\n",
    "        bio_subjects = ['Discrete math,',\n",
    "                        'Statistics and R,',\n",
    "                        'Python programming,',\n",
    "                        'Command line,',\n",
    "                        'Bioinformatics practice']\n",
    "        programmer_subjects = ['Algorithms,',\n",
    "                               'Statistics,',\n",
    "                               'Molecular biology,',\n",
    "                               'Bioinformatics practice']\n",
    "\n",
    "        if self.course == 'Bioinformatics for biologists':\n",
    "            print(*bio_subjects)\n",
    "        elif self.course == 'Algorithmic bioinformatics':\n",
    "            print(*programmer_subjects)\n",
    "    def subjects_semester2(self):\n",
    "        bio_subjects = ['Introduction to ML,',\n",
    "                        'Python programming,',\n",
    "                        'Jornal club,',\n",
    "                        'Molecular phylogenetics and evolution,',\n",
    "                        'Bioinformatics practice,',\n",
    "                        'Project']\n",
    "        programmer_subjects = ['ML,',\n",
    "                               'Statistics,',\n",
    "                               'Jornal club,',\n",
    "                               'Molecular phylogenetics and evolution,',\n",
    "                               'Bioinformatics practice,',\n",
    "                               'Project']\n",
    "        if self.course == 'Bioinformatics for biologists':\n",
    "            print(*bio_subjects)\n",
    "        elif self.course == 'Algorithmic bioinformatics':\n",
    "            print(*programmer_subjects)\n",
    "    def learning(self, new_skill):\n",
    "        self.skills.add(new_skill)\n",
    "    def meeting(self, student):\n",
    "        if self.city == student.city:\n",
    "            print(f'{self.name} and {student.name} can meet offline in {self.city}!')\n",
    "        else:\n",
    "            print(f'{self.name} and {student.name} can meet only online')\n",
    "    def skills_show(self):\n",
    "        print(f'{self.name} can', *self.skills)"
   ],
   "metadata": {
    "collapsed": false,
    "pycharm": {
     "name": "#%%\n"
    }
   }
  },
  {
   "cell_type": "markdown",
   "source": [
    "**2. Tests for task 1**"
   ],
   "metadata": {
    "collapsed": false
   }
  },
  {
   "cell_type": "code",
   "execution_count": 162,
   "outputs": [
    {
     "name": "stdout",
     "output_type": "stream",
     "text": [
      "Discrete math, Statistics and R, Python programming, Command line, Bioinformatics practice\n",
      "ML, Statistics, Jornal club, Molecular phylogenetics and evolution, Bioinformatics practice, Project\n",
      "Vasya and Masha can meet offline in Moscow!\n",
      "Masha and Dasha can meet only online\n",
      "Dasha can write classes in Python\n"
     ]
    }
   ],
   "source": [
    "# any similarity to real people, places, or events are coincidental\n",
    "student1 = BioinformaticsStudent('Vasya', course= 'Bioinformatics for biologists', city='Moscow')\n",
    "student2 = BioinformaticsStudent('Masha', course= 'Algorithmic bioinformatics', city='Moscow')\n",
    "student3 = BioinformaticsStudent('Dasha', course= 'Bioinformatics for biologists', city='Saint-Petersburg')\n",
    "\n",
    "student1.subjects_semester1()\n",
    "student2.subjects_semester2()\n",
    "\n",
    "student3.learning('write classes in Python')\n",
    "\n",
    "student1.meeting(student2)\n",
    "student2.meeting(student3)\n",
    "\n",
    "student3.skills_show()"
   ],
   "metadata": {
    "collapsed": false,
    "pycharm": {
     "name": "#%%\n"
    }
   }
  },
  {
   "cell_type": "markdown",
   "source": [
    "## Task 2 - working with RNA"
   ],
   "metadata": {
    "collapsed": false
   }
  },
  {
   "cell_type": "markdown",
   "source": [
    "**1. Creating class for working with RNA**\n",
    "- Consrtuctor takes RNA sequence and creates object with it\n",
    "- Method `translation` returns string with protein (only one reading frame)\n",
    "- Method  `reversed` returns sequence with cDNA"
   ],
   "metadata": {
    "collapsed": false
   }
  },
  {
   "cell_type": "code",
   "execution_count": 178,
   "outputs": [],
   "source": [
    "class Rna:\n",
    "    def __init__(self, sequence):\n",
    "        self.sequence = Seq.Seq(sequence)\n",
    "    def translation(self):\n",
    "        translated_sequence = self.sequence.translate()\n",
    "        return translated_sequence\n",
    "    def reverse_transcription (self):\n",
    "        dna = self.sequence.back_transcribe()\n",
    "        return dna"
   ],
   "metadata": {
    "collapsed": false,
    "pycharm": {
     "name": "#%%\n"
    }
   }
  },
  {
   "cell_type": "markdown",
   "source": [
    "**2. Test for task 2**"
   ],
   "metadata": {
    "collapsed": false
   }
  },
  {
   "cell_type": "code",
   "execution_count": 180,
   "outputs": [
    {
     "name": "stdout",
     "output_type": "stream",
     "text": [
      "protein: IVC\n",
      "cDNA: ATCGTCTGTA\n"
     ]
    }
   ],
   "source": [
    "rna_test = Rna('AUCGUCUGUA')\n",
    "translated_rna = rna_test.translation()\n",
    "print('protein:', translated_rna)\n",
    "cdna = rna_test.reverse_transcription()\n",
    "print('cDNA:', cdna)"
   ],
   "metadata": {
    "collapsed": false,
    "pycharm": {
     "name": "#%%\n"
    }
   }
  },
  {
   "cell_type": "markdown",
   "source": [
    "## Task 3 - positive sets"
   ],
   "metadata": {
    "collapsed": false
   }
  },
  {
   "cell_type": "markdown",
   "source": [
    "**1. Creating descendant class from *sets* that adds only positive numbers**\n",
    "Method `add` can add only positive numbers, otherwise an error will occur"
   ],
   "metadata": {
    "collapsed": false
   }
  },
  {
   "cell_type": "code",
   "execution_count": 181,
   "outputs": [],
   "source": [
    "class PositiveSet(set):\n",
    "    def __init__(self, *args):\n",
    "        if len(args) == 0:\n",
    "            super().__init__(*args)\n",
    "        else:\n",
    "            for i in args:\n",
    "                if i > 0:\n",
    "                    super(PositiveSet, self).add(i)\n",
    "    def add (self, *args):\n",
    "        for number in args:\n",
    "            if number > 0:\n",
    "                super(PositiveSet, self).add(number)"
   ],
   "metadata": {
    "collapsed": false,
    "pycharm": {
     "name": "#%%\n"
    }
   }
  },
  {
   "cell_type": "markdown",
   "source": [
    "**2. Test for task 3**"
   ],
   "metadata": {
    "collapsed": false
   }
  },
  {
   "cell_type": "code",
   "execution_count": 182,
   "outputs": [
    {
     "name": "stdout",
     "output_type": "stream",
     "text": [
      "test 1:\n",
      "test 2: 1 4 5\n",
      "test 3: 1 5\n",
      "positive number added to test 1: 3\n",
      "positive number added to test 1: 3\n"
     ]
    }
   ],
   "source": [
    "test_set = PositiveSet()\n",
    "test_set1 = PositiveSet(1, 4, 5)\n",
    "test_set2 = PositiveSet(1, -4, 5)\n",
    "# test for positive number\n",
    "print('test 1:', *test_set) # empty\n",
    "print('test 2:', *test_set1) # 1 4 5\n",
    "print('test 3:', *test_set2) # 1 5\n",
    "test_set.add(3)\n",
    "print('positive number added to test 1:', *test_set) # 3\n",
    "# test for negative number\n",
    "test_set.add(-5)\n",
    "print('positive number added to test 1:', *test_set) # 3"
   ],
   "metadata": {
    "collapsed": false,
    "pycharm": {
     "name": "#%%\n"
    }
   }
  },
  {
   "cell_type": "markdown",
   "source": [
    "## Task  4 - Fasta"
   ],
   "metadata": {
    "collapsed": false
   }
  },
  {
   "cell_type": "markdown",
   "source": [
    "**1. Creating class to work with fasta sequences**\n",
    "takes path to fasta file\n",
    "- `seq_amount` - count the amount of sequences in the file\n",
    "- `length_hist` - makes a plot with lengths of sequences\n",
    "- `gc_count` - counts a GC-content for all the sequences\n",
    "- `four_mers` - makes a histogram of possible 4-mers\n",
    "- `metrics` - implementation of all the metrics\n",
    "- when using `print` for object of the class output is the path to fasta file"
   ],
   "metadata": {
    "collapsed": false
   }
  },
  {
   "cell_type": "code",
   "execution_count": 187,
   "outputs": [],
   "source": [
    "class Fasta:\n",
    "    def __str__(self):\n",
    "        return self.path\n",
    "    __repr__ = __str__\n",
    "    def __init__(self, path):\n",
    "        self.path = path\n",
    "        self.sequences = [sequence.seq for sequence in SeqIO.parse(path,'fasta')]\n",
    "    def seq_amount(self):\n",
    "        return len(self.sequences)\n",
    "    def length_hist(self):\n",
    "        lengths = [len(sequence) for sequence in self.sequences]\n",
    "        fig, axis = plt.subplots(figsize=(15, 7))\n",
    "        axis.hist(lengths)\n",
    "        plt.xlabel(\"Sequence length\")\n",
    "        plt.ylabel(\"Sequences count\")\n",
    "        plt.show()\n",
    "    def gc_count(self):\n",
    "        gc_count = [GC(sequence) for sequence in self.sequences]\n",
    "        return gc_count\n",
    "    def four_mers(self):\n",
    "        four_mer = {}\n",
    "        for sequence in self.sequences:\n",
    "            for i in range(4):\n",
    "                for j in range(i, len(sequence), 4):\n",
    "                    mer = sequence[i+j:i+j+4]\n",
    "                    if len(mer) == 4:\n",
    "                        if mer in four_mer.keys():\n",
    "                            four_mer[mer] += 1\n",
    "                        else:\n",
    "                            four_mer[mer] = 1\n",
    "        four_mers_sum = sum(four_mer.values())\n",
    "        four_mer = dict(sorted(four_mer.items(), key=lambda x: x[0]))\n",
    "        for key, value in four_mer.items():\n",
    "            four_mer[key] = value/four_mers_sum\n",
    "        fig, axis = plt.subplots(figsize=(15, 7))\n",
    "        axis.bar(x=list(range(len(four_mer))), height=four_mer.values())\n",
    "        axis.set_xticks(range(0, len(four_mer), 1))\n",
    "        axis.set_xticklabels(four_mer.keys(), rotation = 90)\n",
    "        plt.xlabel(\"4-mer\")\n",
    "        plt.ylabel(\"4-mer count\")\n",
    "        plt.show()\n",
    "    def metrics(self):\n",
    "        return self.seq_amount(), self.gc_count()"
   ],
   "metadata": {
    "collapsed": false,
    "pycharm": {
     "name": "#%%\n"
    }
   }
  },
  {
   "cell_type": "markdown",
   "source": [
    "**2. Test for task 4**"
   ],
   "metadata": {
    "collapsed": false
   }
  },
  {
   "cell_type": "code",
   "execution_count": 189,
   "outputs": [
    {
     "name": "stdout",
     "output_type": "stream",
     "text": [
      "amount of sequences: 3\n"
     ]
    },
    {
     "data": {
      "text/plain": "<Figure size 1080x504 with 1 Axes>",
      "image/png": "[encoded data removed]"
     },
     "metadata": {
      "needs_background": "light"
     },
     "output_type": "display_data"
    },
    {
     "name": "stdout",
     "output_type": "stream",
     "text": [
      "gc_count: [48.57142857142857, 42.0, 28.26086956521739]\n"
     ]
    },
    {
     "data": {
      "text/plain": "<Figure size 1080x504 with 1 Axes>",
      "image/png": "[encoded data removed]"
     },
     "metadata": {
      "needs_background": "light"
     },
     "output_type": "display_data"
    },
    {
     "name": "stdout",
     "output_type": "stream",
     "text": [
      "example.fasta\n",
      "[example.fasta]\n",
      "3 [48.57142857142857, 42.0, 28.26086956521739]\n"
     ]
    }
   ],
   "source": [
    "seq = Fasta('example.fasta')\n",
    "print('amount of sequences:', seq.seq_amount())\n",
    "seq.length_hist()\n",
    "print('gc_count:', seq.gc_count())\n",
    "seq.four_mers()\n",
    "print(seq)\n",
    "print([seq])\n",
    "print(*seq.metrics())"
   ],
   "metadata": {
    "collapsed": false,
    "pycharm": {
     "name": "#%%\n"
    }
   }
  }
 ],
 "metadata": {
  "kernelspec": {
   "display_name": "Python 3",
   "language": "python",
   "name": "python3"
  },
  "language_info": {
   "codemirror_mode": {
    "name": "ipython",
    "version": 2
   },
   "file_extension": ".py",
   "mimetype": "text/x-python",
   "name": "python",
   "nbconvert_exporter": "python",
   "pygments_lexer": "ipython2",
   "version": "2.7.6"
  }
 },
 "nbformat": 4,
 "nbformat_minor": 0
}