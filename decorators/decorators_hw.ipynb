{
 "cells": [
  {
   "cell_type": "code",
   "execution_count": 42,
   "outputs": [],
   "source": [
    "import time\n",
    "import random"
   ],
   "metadata": {
    "collapsed": false,
    "pycharm": {
     "name": "#%%\n"
    }
   }
  },
  {
   "cell_type": "markdown",
   "source": [
    "## Task 1\n",
    "To write simple decorator that change returned value of decorated function for run time."
   ],
   "metadata": {
    "collapsed": false
   }
  },
  {
   "cell_type": "code",
   "execution_count": 7,
   "metadata": {
    "collapsed": true
   },
   "outputs": [],
   "source": [
    "def measure_time(func):\n",
    "    def inner_function(*args, **kwargs):\n",
    "        start = time.time()\n",
    "        func(*args, **kwargs)\n",
    "        end = time.time()\n",
    "        runtime = end - start\n",
    "        return runtime\n",
    "    return inner_function"
   ]
  },
  {
   "cell_type": "markdown",
   "source": [
    "**Teat for task 1**"
   ],
   "metadata": {
    "collapsed": false
   }
  },
  {
   "cell_type": "code",
   "execution_count": 8,
   "outputs": [],
   "source": [
    "@measure_time\n",
    "def some_function(a, b, c, d, e=0, f=2, g=\"3\"):\n",
    "    time.sleep(a)\n",
    "    time.sleep(b)\n",
    "    time.sleep(c)\n",
    "    time.sleep(d)\n",
    "    time.sleep(e)\n",
    "    time.sleep(f)\n",
    "    return g"
   ],
   "metadata": {
    "collapsed": false,
    "pycharm": {
     "name": "#%%\n"
    }
   }
  },
  {
   "cell_type": "code",
   "execution_count": 9,
   "outputs": [
    {
     "data": {
      "text/plain": "21.03341507911682"
     },
     "execution_count": 9,
     "metadata": {},
     "output_type": "execute_result"
    }
   ],
   "source": [
    "some_function(a=1, b=2, c=3, d=4, e=5, f=6, g=\"999\")"
   ],
   "metadata": {
    "collapsed": false,
    "pycharm": {
     "name": "#%%\n"
    }
   }
  },
  {
   "cell_type": "markdown",
   "source": [
    "## Task 2\n",
    "To write decorator that prints input data and type of returned values of given function"
   ],
   "metadata": {
    "collapsed": false
   }
  },
  {
   "cell_type": "code",
   "execution_count": 34,
   "outputs": [],
   "source": [
    "def function_logging(func):\n",
    "    def inner_function(*args, **kwargs):\n",
    "        func_result = func(*args, **kwargs)\n",
    "        if len(args) == 0 and len(kwargs) == 0:\n",
    "            print(f'Function {func.__name__} is called with no arguments')\n",
    "        elif len(args) == 0:\n",
    "            print(f'Function {func.__name__} is called with keyword arguments: {kwargs}')\n",
    "        elif len(kwargs) == 0:\n",
    "            print(f'Function {func.__name__} is called with positional arguments: {args}')\n",
    "        else:\n",
    "            print(f'Function {func.__name__} is called with positional arguments: {args} '\n",
    "                   f'and with keyword arguments: {kwargs}')\n",
    "        print(f'Function {func.__name__} returns output of type {type(func_result).__name__}')\n",
    "        return func_result\n",
    "    return inner_function"
   ],
   "metadata": {
    "collapsed": false,
    "pycharm": {
     "name": "#%%\n"
    }
   }
  },
  {
   "cell_type": "markdown",
   "source": [
    "**Test for task 2**"
   ],
   "metadata": {
    "collapsed": false
   }
  },
  {
   "cell_type": "code",
   "execution_count": 35,
   "outputs": [
    {
     "name": "stdout",
     "output_type": "stream",
     "text": [
      "Function func1 is called with no arguments\n",
      "Function func1 returns output of type set\n",
      "set()\n",
      "\n",
      "Function func2 is called with positional arguments: (1, 2, 3)\n",
      "Function func2 returns output of type float\n",
      "1.0\n",
      "\n",
      "Function func3 is called with positional arguments: (1, 2) and with keyword arguments: {'c': 3, 'd': 2}\n",
      "Function func3 returns output of type list\n",
      "[7, 7]\n",
      "\n",
      "Function func4 is called with keyword arguments: {'a': None, 'b': -inf}\n",
      "Function func4 returns output of type dict\n",
      "{None: -inf}\n",
      "\n"
     ]
    }
   ],
   "source": [
    "@function_logging\n",
    "def func1():\n",
    "    return set()\n",
    "\n",
    "@function_logging\n",
    "def func2(a, b, c):\n",
    "    return (a + b) / c\n",
    "\n",
    "@function_logging\n",
    "def func3(a, b, c, d=4):\n",
    "    return [a + b * c] * d\n",
    "\n",
    "@function_logging\n",
    "def func4(a=None, b=None):\n",
    "    return {a: b}\n",
    "\n",
    "print(func1(), end='\\n\\n')\n",
    "print(func2(1, 2, 3), end='\\n\\n')\n",
    "print(func3(1, 2, c=3, d=2), end='\\n\\n')\n",
    "print(func4(a=None, b=float('-inf')), end='\\n\\n')"
   ],
   "metadata": {
    "collapsed": false,
    "pycharm": {
     "name": "#%%\n"
    }
   }
  },
  {
   "cell_type": "markdown",
   "source": [
    "## Task 3\n",
    "\n",
    "To make russian rulette decorator that can change function returned value to given value with given probability"
   ],
   "metadata": {
    "collapsed": false
   }
  },
  {
   "cell_type": "code",
   "execution_count": 96,
   "outputs": [],
   "source": [
    "def russian_roulette_decorator(probability, return_value):\n",
    "    def decorator(func):\n",
    "        def inner_function(*args, **kwargs):\n",
    "            func_result = func(*args, **kwargs)\n",
    "            prob = random.random()\n",
    "            if prob >= probability:\n",
    "                return func_result\n",
    "            else:\n",
    "                return return_value\n",
    "        return inner_function\n",
    "    return decorator"
   ],
   "metadata": {
    "collapsed": false,
    "pycharm": {
     "name": "#%%\n"
    }
   }
  },
  {
   "cell_type": "markdown",
   "source": [
    "**Test for task 3**"
   ],
   "metadata": {
    "collapsed": false
   }
  },
  {
   "cell_type": "code",
   "execution_count": 97,
   "outputs": [],
   "source": [
    "@russian_roulette_decorator(probability=0.2, return_value=\"Ooops, your output has been stolen!\")\n",
    "def func3(a, b, c, d=4):\n",
    "    return [a + b * c] * d"
   ],
   "metadata": {
    "collapsed": false,
    "pycharm": {
     "name": "#%%\n"
    }
   }
  },
  {
   "cell_type": "code",
   "execution_count": 104,
   "outputs": [
    {
     "name": "stdout",
     "output_type": "stream",
     "text": [
      "[6, 6]\n",
      "[7, 7]\n",
      "[8, 8]\n",
      "[9, 9]\n",
      "[10, 10]\n",
      "Ooops, your output has been stolen!\n",
      "[12, 12]\n",
      "Ooops, your output has been stolen!\n",
      "[14, 14]\n",
      "[15, 15]\n"
     ]
    }
   ],
   "source": [
    "for i in range(10):\n",
    "    print(func3(i, 2, c=3, d=2))"
   ],
   "metadata": {
    "collapsed": false,
    "pycharm": {
     "name": "#%%\n"
    }
   }
  }
 ],
 "metadata": {
  "kernelspec": {
   "display_name": "Python 3",
   "language": "python",
   "name": "python3"
  },
  "language_info": {
   "codemirror_mode": {
    "name": "ipython",
    "version": 2
   },
   "file_extension": ".py",
   "mimetype": "text/x-python",
   "name": "python",
   "nbconvert_exporter": "python",
   "pygments_lexer": "ipython2",
   "version": "2.7.6"
  }
 },
 "nbformat": 4,
 "nbformat_minor": 0
}