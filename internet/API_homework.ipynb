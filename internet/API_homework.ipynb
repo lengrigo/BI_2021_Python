{
 "cells": [
  {
   "cell_type": "code",
   "execution_count": 27,
   "metadata": {
    "collapsed": true
   },
   "outputs": [],
   "source": [
    "import requests\n",
    "from bs4 import BeautifulSoup\n",
    "import re"
   ]
  },
  {
   "cell_type": "markdown",
   "source": [
    "## class `GenscanOutput`\n",
    "Attributes:\n",
    "- `status` - request status\n",
    "- `cds_list` - the list with predicted protein sequences\n",
    "- `intron_list` - the list if found introns. It could be any data type but it should contain information about its number, start and stop positions\n",
    "- `exon_list` - same , but with exons."
   ],
   "metadata": {
    "collapsed": false
   }
  },
  {
   "cell_type": "code",
   "execution_count": 90,
   "outputs": [],
   "source": [
    "class GenscanOutput:\n",
    "    def __init__(self, status, cds_list, intron_list,exon_list):\n",
    "        self.status = status\n",
    "        self.cds_list = cds_list\n",
    "        self.intron_list = intron_list\n",
    "        self.exon_list = exon_list"
   ],
   "metadata": {
    "collapsed": false,
    "pycharm": {
     "name": "#%%\n"
    }
   }
  },
  {
   "cell_type": "markdown",
   "source": [
    "## Function `run_genscan (sequence=None, sequence_file=None, organism=\"Vertebrate\", exon_cutoff=1.00, sequence_name=\"\")`\n",
    " This function get request likewise filling the form.\n",
    "It takes same parameters as you should give from site (except Print options):\n",
    "- `sequence` - sequence in format of string or any other that will be convenient,\n",
    "- `sequence_file` - path to file with sequence that will be uploaded instead of sequence.\n",
    "\n",
    "Returns object of class GenscanOutput"
   ],
   "metadata": {
    "collapsed": false
   }
  },
  {
   "cell_type": "code",
   "execution_count": 92,
   "outputs": [],
   "source": [
    "def run_genscan(sequence=None, sequence_file=None, organism=\"Vertebrate\", exon_cutoff=1.00, sequence_name=\"\"):\n",
    "\n",
    "    #request\n",
    "    url = 'http://hollywood.mit.edu/cgi-bin/genscanw_py.cgi'\n",
    "    payload = {\n",
    "        \"-o\": organism,\n",
    "        \"-e\": exon_cutoff,\n",
    "        \"-n\": sequence_name,\n",
    "        \"-p\": \"Predicted peptides only\"\n",
    "    }\n",
    "    if sequence is not None:\n",
    "        payload['-s'] = sequence\n",
    "        resp = requests.post(url, data=payload)\n",
    "    if sequence_file is not None:\n",
    "        seq_file = open(sequence_file, 'rb')\n",
    "        file_list = {'-u': seq_file}\n",
    "        resp = requests.post(url, data=payload, files = file_list)\n",
    "        seq_file.close()\n",
    "    resp_status = resp.status_code\n",
    "    # save_content(resp, \"page.html\")\n",
    "    soup = BeautifulSoup(resp.content)\n",
    "    out = soup.find(\"pre\").text\n",
    "    out = str(out)\n",
    "\n",
    "    # cds\n",
    "    cds_list = []\n",
    "    cds_pattern = re.compile(r'^>.+\\n+([A-Z\\n]+)', re.M)\n",
    "    cds_drop_title = re.compile(r'^[A-Z\\n]*', re.M)\n",
    "    cds_find = cds_pattern.finditer(out)\n",
    "    for i in cds_find:\n",
    "        seq = cds_drop_title.findall(i.group())\n",
    "        cds_list.append(seq[1].replace('\\n', ''))\n",
    "\n",
    "    # introns\n",
    "    intron_list = []\n",
    "    intron_pattern = re.compile(r'\\d+ [A-z]{4}.*', re.M)\n",
    "    intron_find = intron_pattern.finditer(out)\n",
    "    for i in intron_find:\n",
    "        start_pos = int(i.group()[12:16])\n",
    "        end_pos = int(i.group()[19:23])\n",
    "        intron_list += [[start_pos, end_pos]]\n",
    "\n",
    "    # exons\n",
    "    exon_list = []\n",
    "    seq_length_pattern = re.compile(r'(\\d+) bp', re.M)\n",
    "    seq_length = seq_length_pattern.findall(out)\n",
    "    length = int(seq_length[0])\n",
    "    if len(intron_list) >= 1:\n",
    "        exon_list += [[1, intron_list[0][0]]]\n",
    "        if len(intron_list) >= 2:\n",
    "            exon_list += [[intron_list[-1][1], length]]\n",
    "            if len(intron_list) >=3:\n",
    "                for i in range(1, len(intron_list)):\n",
    "                    exon_list += [[intron_list[i-1][1], intron_list[i][0]]]\n",
    "\n",
    "    return GenscanOutput(status = resp_status, cds_list = cds_list, intron_list = intron_list ,exon_list = exon_list)"
   ],
   "metadata": {
    "collapsed": false,
    "pycharm": {
     "name": "#%%\n"
    }
   }
  },
  {
   "cell_type": "markdown",
   "source": [
    "### Example for running with sequence"
   ],
   "metadata": {
    "collapsed": false
   }
  },
  {
   "cell_type": "code",
   "execution_count": 4,
   "outputs": [],
   "source": [
    "sequence = \"\"\"GTATAATATCGATTTTAATTTTAACCAAGTAAACCGGATAGGAGGAGATTCGTAAATTGTAATCGATAAA\n",
    "AGAGATCTGTGTCAAAAGTACGCGTGAGGTTCTCTCTTCTCTGCAAACAAAAATCCTGGCGTTGATAGCG\n",
    "ATTGGTTAATTGTCGGTGAATCAACGTTTTTCTGTTACACATATCAATCAATCATCATCCTCTTCATACT\n",
    "CTCTTCTTCTTCTTCATCGTAATCATTAGCTTCAATTCCGAGTTTTCTCTTCGTCGCCGTTGTGCTAGAG\n",
    "TTTTGTCAGATCTCGCCGGGAAATTAGCAATGGCGTTTTAGTCTGTTTACCTGTGAAGCTTTTGCGTAAA\n",
    "CGCTGGATTCTTCTCAAATCTCTCTCACCTGATCTCTTATTAGATTCCGAGTATGATTTGTTTCTCTCCT\n",
    "TCATTATATTCGGGTTGCTTCCACGATTTCGTTGCTTGATTTAGTTTTTTTTTTGAATTTGATAGGGATG\n",
    "GCGCTAAAGCGAGGGCTATCTGGAGTTAACCGGATTAGAGGAAGTGGTGGTGGATCTCGATCTGTGCTTG\n",
    "TGCTTCTCATATTTTTCTGTGTTTTTGCACCTCTTTGCTTCTTTGTTGGCCGAGGAGTGTATATCGATTC\n",
    "CTCAAATGGTATGCATATATTGCTTATCTTTCTATATACTAATTTGCAGATTCATGTATAGAGATTCAGA\n",
    "AATTCTATTAATGATTGAGAACATTAGCATAGTTTTACCACTCTTTAGTTTTCAGCCTTTACTATCTCAA\n",
    "TTTTAAGTTACTTTTAGCTTGATGTGACACTGATGATATTCAGACAATTGCTATTTTTCTAGACTGGCAA\n",
    "AATTGGTTCTTTGCTATTTTACTATCGAGCTTTGGTTTCAAGGATTAGTGTCTCTCGATTTTGTGTTACA\n",
    "TATATAATTTATCTGCGAATTGTCCATCTGATGGAGCTTACTTTCATTACTGCAGATTATTCAATTGTTT\n",
    "CTGTGAAGCAGGTATGTCGGCTTAAACTCTATCAAATTATCTACTTGTATGTTTTGACAGAAGTAAGAAT\n",
    "GTTGTTTGATTGGACTGTTTTTTTTTGTTTTTTTTGGCAGAATCTTGACTGGAGAGAACGTTTAGCAATG\n",
    "CAATCTGTTAGATCTCTTTTCTCGAAAGAGGTAGTTTAAATCTTTGAAACTTTGCTTCGATTTATTGTCT\n",
    "TTGTCAGTTTTTCTGAGACTGGATAGTTTCTTACTAAATTTGTTGTCCAGATACTAGATGTTATAGCAAC\n",
    "CAGCACAGCTGATTTGGGTCCTCTTAGCCTTGATTCTTTTAAGAAAAACAATTTGTCTGCATCATGGCGG\n",
    "GGAACCGGAGTAGACCCCTCCTTTAGACATTCTGAGGTGTGGTTTAAGTGTCTCATTTCTTTTCTAAGCT\n",
    "TCTATTCTCAATGATGTTTTCTCATAGTTTTCATCTTTTGCTGTACTTGAGGCAGAATCCAGCAACTCCT\n",
    "GATGTCAAATCTAATAACCTGAATGAAAAACGTGACAGCATTTCAAAAGGTAGTGGCTTTTAATTTAAGT\n",
    "GGCATCTCTGATTTGACGTTTTCCATCTCTGATTCTTCTATATATTGCTGATGCAGATAGTATCCATCAG\n",
    "AAAGTTGAGACACCTACAAAGATTCACAGAAGGGTAACTATTATTTATTAAAGTTCAATGTCATGATGCA\n",
    "TCAAATACTCTTTAGGGACTTCTTGTGTCTTTAGTATTTCATTATCAACATTTTTTTTATCCATCTTGAC\n",
    "ATTTCAGCAACTAAGAGAGAAAAGGCGTGAGATGCGGGCAAATGAGTTAGTTCAGCACAATGATGACACG\n",
    "ATTTTGAAACTCGAAAATGCTGCCATTGAACGCTCTAAGTCTGTTGATTCTGCAGTCCTTGGTAAATACA\n",
    "GTATTTGGAGAAGAGAAAATGAGAATGACAACTCTGATTCAAATATACGCTTGATGCGGGATCAAGTAAT\n",
    "AATGGCTAGAGTCTATAGTGGGATTGCAAAATTGAAAAACAAGAACGATTTGTTACAAGAACTCCAGGCC\n",
    "CGACTTAAGGACAGCCAACGGGTTTTGGGGGAAGCAACATCTGATGCTGATCTTCCTCGGAGGTAAATTA\n",
    "CTCCTTTTGGTTTCTACTACTTGCCTTTTTTCGACTGCTTGTGTACTTCTTAAAGTAACATGCTCTCTAA\n",
    "ATTACTTTTCATATAGTGCGCATGAGAAACTCAGAGCCATGGGTCAAGTCTTGGCTAAAGCTAAGATGCA\n",
    "GTTATATGACTGCAAGCTGGTTACTGGAAAGCTGAGAGCAATGCTTCAGACTGCCGACGAACAAGTGAGG\n",
    "AGCTTAAAGAAGCAGAGTACTTTTCTGGCTCAGTTAGCAGCAAAAACCATTCCAAATCCTATCCATTGCC\n",
    "TATCAATGCGCTTGACTATCGATTACTATCTTCTGTCTCCGGAGAAAAGAAAATTCCCTCGGAGTGAAAA\n",
    "CCTAGAAAACCCTAATCTTTATCATTATGCCCTCTTTTCCGACAATGTATTAGCTGCATCAGTAGTTGTT\n",
    "AACTCAACCATCATGAATGCCAAGGTAAAATCATTAGCTCTTATCACTTGATTCGTCCTAATATCTGTAT\n",
    "GTTTAATTTTAGATACGCATTGCAGAGCTGAAATTAAAAATGTCTTTATTCCCTATATGTGCAGGATCCT\n",
    "TCTAAGCATGTTTTTCACCTTGTCACGGATAAACTCAATTTCGGAGCAATGAACATGTGGTTCCTCCTAA\n",
    "ACCCACCCGGAAAGGCAACCATACATGTGGAAAACGTCGATGAGTTTAAGTGGCTCAATTCATCTTACTG\n",
    "TCCTGTCCTTCGTCAGCTTGAATCTGCAGCAATGAGAGAGTACTATTTTAAAGCAGACCATCCAACTTCA\n",
    "GGCTCTTCGAATCTAAAATACAGAAACCCAAAGTATCTATCCATGTTGAATCACTTGAGATTCTACCTCC\n",
    "CTGAGGTTTATCCCAAGCTGAACAAAATCCTCTTCCTGGACGATGACATCATTGTTCAGAAAGACTTGAC\n",
    "TCCACTCTGGGAAGTTAACCTGAACGGCAAAGTCAACGGTGCAGTCGAAACCTGTGGGGAAAGTTTCCAC\n",
    "AGATTCGACAAGTATCTCAACTTTTCGAATCCTCACATTGCGAGGAACTTCAATCCAAATGCTTGTGGAT\n",
    "GGGCTTATGGAATGAACATGTTCGACCTAAAGGAATGGAAGAAGAGAGACATCACTGGTATATACCACAA\n",
    "GTGGCAAAACATGGTAAATAACTCTTTAATTCTTTGCAACAAATAGTCTAATGATGGTTTATTATTTTAT\n",
    "TTATTGTGGTTTGCTCATTTTGGCTTGTGTTGTTTAGAATGAGAACAGGACACTATGGAAGCTAGGGACA\n",
    "TTGCCACCAGGATTAATAACATTCTACGGATTAACACATCCCTTAAACAAGGCGTGGCATGTGCTGGGAC\n",
    "TTGGATATAACCCGAGTATCGACAAGAAGGACATTGAGAATGCAGCAGTGGTTCACTATAACGGGAACAT\n",
    "GAAACCATGGTTGGAGTTGGCAATGTCCAAATATCGGCCGTATTGGACCAAGTACATCAAGTTTGATCAC\n",
    "CCATATCTTCGTCGTTGCAACCTTCATGAATAAAATCAAATCTTTGTTAGATGATTTGAGGTAATTACTT\n",
    "CTAATGTTCTGTTGTTCCCATTCCATTGCTCTTTATTCCACACATTGTTAATTGTTTATTCATATCGTTT\n",
    "TTTAGTCATTCTTTTCTTCTCTTCTTCTTTCGGGTTAAAAACACTTATGTTATTTTTTGAGTTTTTCTAA\n",
    "TGATAGTAATATGTTTCTGGAGATTCTCTTGATGGTCTTGTGAAAAAATTGAAGAACACATACTATCTCT\n",
    "CTATTTACTATATACTGTAAGTCAAAATAATAATCCAATTTTTTGTT\"\"\""
   ],
   "metadata": {
    "collapsed": false,
    "pycharm": {
     "name": "#%%\n"
    }
   }
  },
  {
   "cell_type": "code",
   "execution_count": 99,
   "outputs": [],
   "source": [
    "example = run_genscan(sequence=sequence)"
   ],
   "metadata": {
    "collapsed": false,
    "pycharm": {
     "name": "#%%\n"
    }
   }
  },
  {
   "cell_type": "code",
   "execution_count": 100,
   "outputs": [
    {
     "data": {
      "text/plain": "['ILDVIATSTADLGPLSLDSFKKNNLSASWRGTGVDPSFRHSEQLREKRREMRANELVQHNDDTILKLENAAIERSKSVDSAVLGKYSIWRRENENDNSDSNIRLMRDQVIMARVYSGIAKLKNKNDLLQELQARLKDSQRVLGEATSDADLPRSAHEKLRAMGQVLAKAKMQLYDCKLVTGKLRAMLQTADEQVRSLKKQSTFLAQLAAKTIPNPIHCLSMRLTIDYYLLSPEKRKFPRSENLENPNLYHYALFSDNVLAASVVVNSTIMNAKDPSKHVFHLVTDKLNFGAMNMWFLLNPPGKATIHVENVDEFKWLNSSYCPVLRQLESAAMREYYFKADHPTSGSSNLKYRNPKYLSMLNHLRFYLPEVYPKLNKILFLDDDIIVQKDLTPLWEVNLNGKVNGAVETCGESFHRFDKYLNFSNPHIARNFNPNACGWAYGMNMFDLKEWKKRDITGIYHKWQNMNENRTLWKLGTLPPGLITFYGLTHPLNKAWHVLGLGYNPSIDKKDIENAAVVHYNGNMKPWLELAMSKYRPYWTKYIKFDHPYLRRCNLHE']"
     },
     "execution_count": 100,
     "metadata": {},
     "output_type": "execute_result"
    }
   ],
   "source": [
    "example.cds_list"
   ],
   "metadata": {
    "collapsed": false,
    "pycharm": {
     "name": "#%%\n"
    }
   }
  },
  {
   "cell_type": "code",
   "execution_count": 101,
   "outputs": [
    {
     "data": {
      "text/plain": "[[1, 1241],\n [3828, 3897],\n [1366, 1758],\n [2092, 2187],\n [2544, 2655],\n [3233, 3328],\n [3603, 3823]]"
     },
     "execution_count": 101,
     "metadata": {},
     "output_type": "execute_result"
    }
   ],
   "source": [
    "example.exon_list"
   ],
   "metadata": {
    "collapsed": false,
    "pycharm": {
     "name": "#%%\n"
    }
   }
  },
  {
   "cell_type": "code",
   "execution_count": 102,
   "outputs": [
    {
     "data": {
      "text/plain": "[[1241, 1366],\n [1758, 2092],\n [2187, 2544],\n [2655, 3233],\n [3328, 3603],\n [3823, 3828]]"
     },
     "execution_count": 102,
     "metadata": {},
     "output_type": "execute_result"
    }
   ],
   "source": [
    "example.intron_list"
   ],
   "metadata": {
    "collapsed": false,
    "pycharm": {
     "name": "#%%\n"
    }
   }
  },
  {
   "cell_type": "markdown",
   "source": [
    "### Example for running with `./test_file`"
   ],
   "metadata": {
    "collapsed": false
   }
  },
  {
   "cell_type": "code",
   "execution_count": 105,
   "outputs": [],
   "source": [
    "example = run_genscan(sequence_file='./test_file.fasta')"
   ],
   "metadata": {
    "collapsed": false,
    "pycharm": {
     "name": "#%%\n"
    }
   }
  },
  {
   "cell_type": "code",
   "execution_count": 106,
   "outputs": [
    {
     "data": {
      "text/plain": "['ILDVIATSTADLGPLSLDSFKKNNLSASWRGTGVDPSFRHSEQLREKRREMRANELVQHNDDTILKLENAAIERSKSVDSAVLGKYSIWRRENENDNSDSNIRLMRDQVIMARVYSGIAKLKNKNDLLQELQARLKDSQRVLGEATSDADLPRSAHEKLRAMGQVLAKAKMQLYDCKLVTGKLRAMLQTADEQVRSLKKQSTFLAQLAAKTIPNPIHCLSMRLTIDYYLLSPEKRKFPRSENLENPNLYHYALFSDNVLAASVVVNSTIMNAKDPSKHVFHLVTDKLNFGAMNMWFLLNPPGKATIHVENVDEFKWLNSSYCPVLRQLESAAMREYYFKADHPTSGSSNLKYRNPKYLSMLNHLRFYLPEVYPKLNKILFLDDDIIVQKDLTPLWEVNLNGKVNGAVETCGESFHRFDKYLNFSNPHIARNFNPNACGWAYGMNMFDLKEWKKRDITGIYHKWQNMNENRTLWKLGTLPPGLITFYGLTHPLNKAWHVLGLGYNPSIDKKDIENAAVVHYNGNMKPWLELAMSKYRPYWTKYIKFDHPYLRRCNLHE']"
     },
     "execution_count": 106,
     "metadata": {},
     "output_type": "execute_result"
    }
   ],
   "source": [
    "example.cds_list"
   ],
   "metadata": {
    "collapsed": false,
    "pycharm": {
     "name": "#%%\n"
    }
   }
  },
  {
   "cell_type": "code",
   "execution_count": 107,
   "outputs": [
    {
     "data": {
      "text/plain": "[[1, 1280],\n [3867, 3936],\n [1405, 1797],\n [2131, 2226],\n [2583, 2694],\n [3272, 3367],\n [3642, 3862]]"
     },
     "execution_count": 107,
     "metadata": {},
     "output_type": "execute_result"
    }
   ],
   "source": [
    "example.exon_list"
   ],
   "metadata": {
    "collapsed": false,
    "pycharm": {
     "name": "#%%\n"
    }
   }
  },
  {
   "cell_type": "code",
   "execution_count": 108,
   "outputs": [
    {
     "data": {
      "text/plain": "[[1280, 1405],\n [1797, 2131],\n [2226, 2583],\n [2694, 3272],\n [3367, 3642],\n [3862, 3867]]"
     },
     "execution_count": 108,
     "metadata": {},
     "output_type": "execute_result"
    }
   ],
   "source": [
    "example.intron_list"
   ],
   "metadata": {
    "collapsed": false,
    "pycharm": {
     "name": "#%%\n"
    }
   }
  }
 ],
 "metadata": {
  "kernelspec": {
   "display_name": "Python 3",
   "language": "python",
   "name": "python3"
  },
  "language_info": {
   "codemirror_mode": {
    "name": "ipython",
    "version": 2
   },
   "file_extension": ".py",
   "mimetype": "text/x-python",
   "name": "python",
   "nbconvert_exporter": "python",
   "pygments_lexer": "ipython2",
   "version": "2.7.6"
  }
 },
 "nbformat": 4,
 "nbformat_minor": 0
}