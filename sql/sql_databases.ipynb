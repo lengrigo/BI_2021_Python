{
 "cells": [
  {
   "cell_type": "code",
   "execution_count": 1,
   "metadata": {
    "collapsed": true
   },
   "outputs": [],
   "source": [
    "import sqlite3\n",
    "import pandas as pd"
   ]
  },
  {
   "cell_type": "markdown",
   "source": [
    "## Looking at data"
   ],
   "metadata": {
    "collapsed": false
   }
  },
  {
   "cell_type": "code",
   "execution_count": 2,
   "outputs": [
    {
     "name": "stderr",
     "output_type": "stream",
     "text": [
      "C:\\Users\\Legri\\AppData\\Local\\Temp\\ipykernel_12104\\1793631667.py:1: DtypeWarning: Columns (13) have mixed types. Specify dtype option on import or set low_memory=False.\n",
      "  genstudio = pd.read_csv('genstudio.csv')\n"
     ]
    }
   ],
   "source": [
    "genstudio = pd.read_csv('genstudio.csv')\n",
    "metadata = pd.read_csv('metadata.csv')"
   ],
   "metadata": {
    "collapsed": false,
    "pycharm": {
     "name": "#%%\n"
    }
   }
  },
  {
   "cell_type": "code",
   "execution_count": 3,
   "outputs": [
    {
     "data": {
      "text/plain": "   Unnamed: 0    SNP Name  SNP Index  SNP Aux           Sample ID    SNP  \\\n0           0  1_10573221          1        0  202341831114R01C01  [T/C]   \n1           1  1_10673082          2        0  202341831114R01C01  [T/C]   \n2           2  1_10723065          3        0  202341831114R01C01  [A/G]   \n3           3  1_11337555          4        0  202341831114R01C01  [A/G]   \n4           4  1_11407894          5        0  202341831114R01C01  [A/G]   \n\n  Allele1 - Top Allele2 - Top Allele1 - Forward Allele2 - Forward  \\\n0             -             -                 -                 -   \n1             A             A                 T                 T   \n2             A             A                 T                 T   \n3             A             A                 T                 T   \n4             G             G                 G                 G   \n\n  Allele1 - AB Allele2 - AB Chr  Position  GC Score  GT Score  Theta      R  \\\n0            -            -   1  10573221    0.0000    0.0000  0.942  0.413   \n1            A            A   1  10673082    0.8272    0.8076  0.039  0.968   \n2            A            A   1  10723065    0.8316    0.8107  0.011  1.577   \n3            A            A   1  11337555    0.3781    0.7925  0.045  1.104   \n4            B            B   1  11407894    0.9038    0.8670  0.983  1.122   \n\n   B Allele Freq  Log R Ratio  \n0         1.0000       0.4040  \n1         0.0000       0.3017  \n2         0.0000       0.0388  \n3         0.0000       0.2761  \n4         0.9994       0.0022  ",
      "text/html": "<div>\n<style scoped>\n    .dataframe tbody tr th:only-of-type {\n        vertical-align: middle;\n    }\n\n    .dataframe tbody tr th {\n        vertical-align: top;\n    }\n\n    .dataframe thead th {\n        text-align: right;\n    }\n</style>\n<table border=\"1\" class=\"dataframe\">\n  <thead>\n    <tr style=\"text-align: right;\">\n      <th></th>\n      <th>Unnamed: 0</th>\n      <th>SNP Name</th>\n      <th>SNP Index</th>\n      <th>SNP Aux</th>\n      <th>Sample ID</th>\n      <th>SNP</th>\n      <th>Allele1 - Top</th>\n      <th>Allele2 - Top</th>\n      <th>Allele1 - Forward</th>\n      <th>Allele2 - Forward</th>\n      <th>Allele1 - AB</th>\n      <th>Allele2 - AB</th>\n      <th>Chr</th>\n      <th>Position</th>\n      <th>GC Score</th>\n      <th>GT Score</th>\n      <th>Theta</th>\n      <th>R</th>\n      <th>B Allele Freq</th>\n      <th>Log R Ratio</th>\n    </tr>\n  </thead>\n  <tbody>\n    <tr>\n      <th>0</th>\n      <td>0</td>\n      <td>1_10573221</td>\n      <td>1</td>\n      <td>0</td>\n      <td>202341831114R01C01</td>\n      <td>[T/C]</td>\n      <td>-</td>\n      <td>-</td>\n      <td>-</td>\n      <td>-</td>\n      <td>-</td>\n      <td>-</td>\n      <td>1</td>\n      <td>10573221</td>\n      <td>0.0000</td>\n      <td>0.0000</td>\n      <td>0.942</td>\n      <td>0.413</td>\n      <td>1.0000</td>\n      <td>0.4040</td>\n    </tr>\n    <tr>\n      <th>1</th>\n      <td>1</td>\n      <td>1_10673082</td>\n      <td>2</td>\n      <td>0</td>\n      <td>202341831114R01C01</td>\n      <td>[T/C]</td>\n      <td>A</td>\n      <td>A</td>\n      <td>T</td>\n      <td>T</td>\n      <td>A</td>\n      <td>A</td>\n      <td>1</td>\n      <td>10673082</td>\n      <td>0.8272</td>\n      <td>0.8076</td>\n      <td>0.039</td>\n      <td>0.968</td>\n      <td>0.0000</td>\n      <td>0.3017</td>\n    </tr>\n    <tr>\n      <th>2</th>\n      <td>2</td>\n      <td>1_10723065</td>\n      <td>3</td>\n      <td>0</td>\n      <td>202341831114R01C01</td>\n      <td>[A/G]</td>\n      <td>A</td>\n      <td>A</td>\n      <td>T</td>\n      <td>T</td>\n      <td>A</td>\n      <td>A</td>\n      <td>1</td>\n      <td>10723065</td>\n      <td>0.8316</td>\n      <td>0.8107</td>\n      <td>0.011</td>\n      <td>1.577</td>\n      <td>0.0000</td>\n      <td>0.0388</td>\n    </tr>\n    <tr>\n      <th>3</th>\n      <td>3</td>\n      <td>1_11337555</td>\n      <td>4</td>\n      <td>0</td>\n      <td>202341831114R01C01</td>\n      <td>[A/G]</td>\n      <td>A</td>\n      <td>A</td>\n      <td>T</td>\n      <td>T</td>\n      <td>A</td>\n      <td>A</td>\n      <td>1</td>\n      <td>11337555</td>\n      <td>0.3781</td>\n      <td>0.7925</td>\n      <td>0.045</td>\n      <td>1.104</td>\n      <td>0.0000</td>\n      <td>0.2761</td>\n    </tr>\n    <tr>\n      <th>4</th>\n      <td>4</td>\n      <td>1_11407894</td>\n      <td>5</td>\n      <td>0</td>\n      <td>202341831114R01C01</td>\n      <td>[A/G]</td>\n      <td>G</td>\n      <td>G</td>\n      <td>G</td>\n      <td>G</td>\n      <td>B</td>\n      <td>B</td>\n      <td>1</td>\n      <td>11407894</td>\n      <td>0.9038</td>\n      <td>0.8670</td>\n      <td>0.983</td>\n      <td>1.122</td>\n      <td>0.9994</td>\n      <td>0.0022</td>\n    </tr>\n  </tbody>\n</table>\n</div>"
     },
     "execution_count": 3,
     "metadata": {},
     "output_type": "execute_result"
    }
   ],
   "source": [
    "genstudio.head()"
   ],
   "metadata": {
    "collapsed": false,
    "pycharm": {
     "name": "#%%\n"
    }
   }
  },
  {
   "cell_type": "code",
   "execution_count": 4,
   "outputs": [
    {
     "data": {
      "text/plain": "(2000000, 20)"
     },
     "execution_count": 4,
     "metadata": {},
     "output_type": "execute_result"
    }
   ],
   "source": [
    "genstudio.shape"
   ],
   "metadata": {
    "collapsed": false,
    "pycharm": {
     "name": "#%%\n"
    }
   }
  },
  {
   "cell_type": "code",
   "execution_count": 5,
   "outputs": [],
   "source": [
    "genstudio = genstudio.drop('Unnamed: 0', axis=1)"
   ],
   "metadata": {
    "collapsed": false,
    "pycharm": {
     "name": "#%%\n"
    }
   }
  },
  {
   "cell_type": "code",
   "execution_count": 6,
   "outputs": [
    {
     "data": {
      "text/plain": "   Unnamed: 0         dna_chip_id breed sex\n0           0  202290551164R09C01     Д  Хр\n1           1  202341831114R02C01     Д  Хр\n2           2  202341831114R03C01     Д  Хр\n3           3  202341831114R04C01     Д  Хр\n4           4  202290551140R01C01     Д  Хр",
      "text/html": "<div>\n<style scoped>\n    .dataframe tbody tr th:only-of-type {\n        vertical-align: middle;\n    }\n\n    .dataframe tbody tr th {\n        vertical-align: top;\n    }\n\n    .dataframe thead th {\n        text-align: right;\n    }\n</style>\n<table border=\"1\" class=\"dataframe\">\n  <thead>\n    <tr style=\"text-align: right;\">\n      <th></th>\n      <th>Unnamed: 0</th>\n      <th>dna_chip_id</th>\n      <th>breed</th>\n      <th>sex</th>\n    </tr>\n  </thead>\n  <tbody>\n    <tr>\n      <th>0</th>\n      <td>0</td>\n      <td>202290551164R09C01</td>\n      <td>Д</td>\n      <td>Хр</td>\n    </tr>\n    <tr>\n      <th>1</th>\n      <td>1</td>\n      <td>202341831114R02C01</td>\n      <td>Д</td>\n      <td>Хр</td>\n    </tr>\n    <tr>\n      <th>2</th>\n      <td>2</td>\n      <td>202341831114R03C01</td>\n      <td>Д</td>\n      <td>Хр</td>\n    </tr>\n    <tr>\n      <th>3</th>\n      <td>3</td>\n      <td>202341831114R04C01</td>\n      <td>Д</td>\n      <td>Хр</td>\n    </tr>\n    <tr>\n      <th>4</th>\n      <td>4</td>\n      <td>202290551140R01C01</td>\n      <td>Д</td>\n      <td>Хр</td>\n    </tr>\n  </tbody>\n</table>\n</div>"
     },
     "execution_count": 6,
     "metadata": {},
     "output_type": "execute_result"
    }
   ],
   "source": [
    "metadata.head()"
   ],
   "metadata": {
    "collapsed": false,
    "pycharm": {
     "name": "#%%\n"
    }
   }
  },
  {
   "cell_type": "code",
   "execution_count": 7,
   "outputs": [],
   "source": [
    "metadata = metadata.drop('Unnamed: 0', axis=1)"
   ],
   "metadata": {
    "collapsed": false,
    "pycharm": {
     "name": "#%%\n"
    }
   }
  },
  {
   "cell_type": "code",
   "execution_count": 8,
   "outputs": [
    {
     "data": {
      "text/plain": "(841, 3)"
     },
     "execution_count": 8,
     "metadata": {},
     "output_type": "execute_result"
    }
   ],
   "source": [
    "metadata.shape"
   ],
   "metadata": {
    "collapsed": false,
    "pycharm": {
     "name": "#%%\n"
    }
   }
  },
  {
   "cell_type": "code",
   "execution_count": 9,
   "outputs": [
    {
     "data": {
      "text/plain": "0          True\n1          True\n2          True\n3          True\n4          True\n           ... \n1999995    True\n1999996    True\n1999997    True\n1999998    True\n1999999    True\nName: Sample ID, Length: 2000000, dtype: bool"
     },
     "execution_count": 9,
     "metadata": {},
     "output_type": "execute_result"
    }
   ],
   "source": [
    "genstudio['Sample ID'].isin(metadata.dna_chip_id)"
   ],
   "metadata": {
    "collapsed": false,
    "pycharm": {
     "name": "#%%\n"
    }
   }
  },
  {
   "cell_type": "markdown",
   "source": [
    "As we can see, items from column `dna_chip_id` of metadata dataframe are presented in `Sample ID` column of genstudio dataframe. So we can make a linked database."
   ],
   "metadata": {
    "collapsed": false,
    "pycharm": {
     "name": "#%% md\n"
    }
   }
  },
  {
   "cell_type": "markdown",
   "source": [
    "## Creating databases"
   ],
   "metadata": {
    "collapsed": false
   }
  },
  {
   "cell_type": "markdown",
   "source": [
    "Database from `genstudio` dataframe"
   ],
   "metadata": {
    "collapsed": false
   }
  },
  {
   "cell_type": "code",
   "execution_count": 10,
   "outputs": [],
   "source": [
    "connection = sqlite3.connect('genstudio.db')\n",
    "cursor = connection.cursor()"
   ],
   "metadata": {
    "collapsed": false,
    "pycharm": {
     "name": "#%%\n"
    }
   }
  },
  {
   "cell_type": "code",
   "execution_count": 11,
   "outputs": [
    {
     "data": {
      "text/plain": "2000000"
     },
     "execution_count": 11,
     "metadata": {},
     "output_type": "execute_result"
    }
   ],
   "source": [
    "genstudio.to_sql('genstudio', con=connection, if_exists=\"replace\")"
   ],
   "metadata": {
    "collapsed": false,
    "pycharm": {
     "name": "#%%\n"
    }
   }
  },
  {
   "cell_type": "code",
   "execution_count": 12,
   "outputs": [
    {
     "data": {
      "text/plain": "           index     SNP Name  SNP Index  SNP Aux           Sample ID    SNP  \\\n0              0   1_10573221          1        0  202341831114R01C01  [T/C]   \n1              1   1_10673082          2        0  202341831114R01C01  [T/C]   \n2              2   1_10723065          3        0  202341831114R01C01  [A/G]   \n3              3   1_11337555          4        0  202341831114R01C01  [A/G]   \n4              4   1_11407894          5        0  202341831114R01C01  [A/G]   \n...          ...          ...        ...      ...                 ...    ...   \n1999995  1999995  ALGA0111890      13032        0  202341831127R03C02  [A/G]   \n1999996  1999996  ALGA0111894      13033        0  202341831127R03C02  [A/G]   \n1999997  1999997  ALGA0111899      13034        0  202341831127R03C02  [A/G]   \n1999998  1999998  ALGA0111904      13035        0  202341831127R03C02  [A/G]   \n1999999  1999999  ALGA0111908      13036        0  202341831127R03C02  [A/G]   \n\n        Allele1 - Top Allele2 - Top Allele1 - Forward Allele2 - Forward  \\\n0                   -             -                 -                 -   \n1                   A             A                 T                 T   \n2                   A             A                 T                 T   \n3                   A             A                 T                 T   \n4                   G             G                 G                 G   \n...               ...           ...               ...               ...   \n1999995             A             G                 T                 C   \n1999996             A             G                 T                 C   \n1999997             A             G                 A                 G   \n1999998             G             G                 C                 C   \n1999999             G             G                 C                 C   \n\n        Allele1 - AB Allele2 - AB   Chr   Position  GC Score  GT Score  Theta  \\\n0                  -            -     1   10573221    0.0000    0.0000  0.942   \n1                  A            A     1   10673082    0.8272    0.8076  0.039   \n2                  A            A     1   10723065    0.8316    0.8107  0.011   \n3                  A            A     1   11337555    0.3781    0.7925  0.045   \n4                  B            B     1   11407894    0.9038    0.8670  0.983   \n...              ...          ...   ...        ...       ...       ...    ...   \n1999995            A            B     6   90920481    0.8159    0.8002  0.581   \n1999996            A            B    13   73955342    0.9596    0.9298  0.468   \n1999997            A            B  UWGS  118787518    0.8900    0.8548  0.502   \n1999998            B            B     6   17436645    0.8433    0.8187  0.941   \n1999999            B            B     9   71711489    0.9192    0.8819  0.977   \n\n             R  B Allele Freq  Log R Ratio  \n0        0.413         1.0000       0.4040  \n1        0.968         0.0000       0.3017  \n2        1.577         0.0000       0.0388  \n3        1.104         0.0000       0.2761  \n4        1.122         0.9994       0.0022  \n...        ...            ...          ...  \n1999995  1.572         0.5540      -0.0907  \n1999996  1.415         0.4746       0.0558  \n1999997  1.282         0.5313      -0.0773  \n1999998  1.180         1.0000       0.0258  \n1999999  0.923         0.9972       0.0996  \n\n[2000000 rows x 20 columns]",
      "text/html": "<div>\n<style scoped>\n    .dataframe tbody tr th:only-of-type {\n        vertical-align: middle;\n    }\n\n    .dataframe tbody tr th {\n        vertical-align: top;\n    }\n\n    .dataframe thead th {\n        text-align: right;\n    }\n</style>\n<table border=\"1\" class=\"dataframe\">\n  <thead>\n    <tr style=\"text-align: right;\">\n      <th></th>\n      <th>index</th>\n      <th>SNP Name</th>\n      <th>SNP Index</th>\n      <th>SNP Aux</th>\n      <th>Sample ID</th>\n      <th>SNP</th>\n      <th>Allele1 - Top</th>\n      <th>Allele2 - Top</th>\n      <th>Allele1 - Forward</th>\n      <th>Allele2 - Forward</th>\n      <th>Allele1 - AB</th>\n      <th>Allele2 - AB</th>\n      <th>Chr</th>\n      <th>Position</th>\n      <th>GC Score</th>\n      <th>GT Score</th>\n      <th>Theta</th>\n      <th>R</th>\n      <th>B Allele Freq</th>\n      <th>Log R Ratio</th>\n    </tr>\n  </thead>\n  <tbody>\n    <tr>\n      <th>0</th>\n      <td>0</td>\n      <td>1_10573221</td>\n      <td>1</td>\n      <td>0</td>\n      <td>202341831114R01C01</td>\n      <td>[T/C]</td>\n      <td>-</td>\n      <td>-</td>\n      <td>-</td>\n      <td>-</td>\n      <td>-</td>\n      <td>-</td>\n      <td>1</td>\n      <td>10573221</td>\n      <td>0.0000</td>\n      <td>0.0000</td>\n      <td>0.942</td>\n      <td>0.413</td>\n      <td>1.0000</td>\n      <td>0.4040</td>\n    </tr>\n    <tr>\n      <th>1</th>\n      <td>1</td>\n      <td>1_10673082</td>\n      <td>2</td>\n      <td>0</td>\n      <td>202341831114R01C01</td>\n      <td>[T/C]</td>\n      <td>A</td>\n      <td>A</td>\n      <td>T</td>\n      <td>T</td>\n      <td>A</td>\n      <td>A</td>\n      <td>1</td>\n      <td>10673082</td>\n      <td>0.8272</td>\n      <td>0.8076</td>\n      <td>0.039</td>\n      <td>0.968</td>\n      <td>0.0000</td>\n      <td>0.3017</td>\n    </tr>\n    <tr>\n      <th>2</th>\n      <td>2</td>\n      <td>1_10723065</td>\n      <td>3</td>\n      <td>0</td>\n      <td>202341831114R01C01</td>\n      <td>[A/G]</td>\n      <td>A</td>\n      <td>A</td>\n      <td>T</td>\n      <td>T</td>\n      <td>A</td>\n      <td>A</td>\n      <td>1</td>\n      <td>10723065</td>\n      <td>0.8316</td>\n      <td>0.8107</td>\n      <td>0.011</td>\n      <td>1.577</td>\n      <td>0.0000</td>\n      <td>0.0388</td>\n    </tr>\n    <tr>\n      <th>3</th>\n      <td>3</td>\n      <td>1_11337555</td>\n      <td>4</td>\n      <td>0</td>\n      <td>202341831114R01C01</td>\n      <td>[A/G]</td>\n      <td>A</td>\n      <td>A</td>\n      <td>T</td>\n      <td>T</td>\n      <td>A</td>\n      <td>A</td>\n      <td>1</td>\n      <td>11337555</td>\n      <td>0.3781</td>\n      <td>0.7925</td>\n      <td>0.045</td>\n      <td>1.104</td>\n      <td>0.0000</td>\n      <td>0.2761</td>\n    </tr>\n    <tr>\n      <th>4</th>\n      <td>4</td>\n      <td>1_11407894</td>\n      <td>5</td>\n      <td>0</td>\n      <td>202341831114R01C01</td>\n      <td>[A/G]</td>\n      <td>G</td>\n      <td>G</td>\n      <td>G</td>\n      <td>G</td>\n      <td>B</td>\n      <td>B</td>\n      <td>1</td>\n      <td>11407894</td>\n      <td>0.9038</td>\n      <td>0.8670</td>\n      <td>0.983</td>\n      <td>1.122</td>\n      <td>0.9994</td>\n      <td>0.0022</td>\n    </tr>\n    <tr>\n      <th>...</th>\n      <td>...</td>\n      <td>...</td>\n      <td>...</td>\n      <td>...</td>\n      <td>...</td>\n      <td>...</td>\n      <td>...</td>\n      <td>...</td>\n      <td>...</td>\n      <td>...</td>\n      <td>...</td>\n      <td>...</td>\n      <td>...</td>\n      <td>...</td>\n      <td>...</td>\n      <td>...</td>\n      <td>...</td>\n      <td>...</td>\n      <td>...</td>\n      <td>...</td>\n    </tr>\n    <tr>\n      <th>1999995</th>\n      <td>1999995</td>\n      <td>ALGA0111890</td>\n      <td>13032</td>\n      <td>0</td>\n      <td>202341831127R03C02</td>\n      <td>[A/G]</td>\n      <td>A</td>\n      <td>G</td>\n      <td>T</td>\n      <td>C</td>\n      <td>A</td>\n      <td>B</td>\n      <td>6</td>\n      <td>90920481</td>\n      <td>0.8159</td>\n      <td>0.8002</td>\n      <td>0.581</td>\n      <td>1.572</td>\n      <td>0.5540</td>\n      <td>-0.0907</td>\n    </tr>\n    <tr>\n      <th>1999996</th>\n      <td>1999996</td>\n      <td>ALGA0111894</td>\n      <td>13033</td>\n      <td>0</td>\n      <td>202341831127R03C02</td>\n      <td>[A/G]</td>\n      <td>A</td>\n      <td>G</td>\n      <td>T</td>\n      <td>C</td>\n      <td>A</td>\n      <td>B</td>\n      <td>13</td>\n      <td>73955342</td>\n      <td>0.9596</td>\n      <td>0.9298</td>\n      <td>0.468</td>\n      <td>1.415</td>\n      <td>0.4746</td>\n      <td>0.0558</td>\n    </tr>\n    <tr>\n      <th>1999997</th>\n      <td>1999997</td>\n      <td>ALGA0111899</td>\n      <td>13034</td>\n      <td>0</td>\n      <td>202341831127R03C02</td>\n      <td>[A/G]</td>\n      <td>A</td>\n      <td>G</td>\n      <td>A</td>\n      <td>G</td>\n      <td>A</td>\n      <td>B</td>\n      <td>UWGS</td>\n      <td>118787518</td>\n      <td>0.8900</td>\n      <td>0.8548</td>\n      <td>0.502</td>\n      <td>1.282</td>\n      <td>0.5313</td>\n      <td>-0.0773</td>\n    </tr>\n    <tr>\n      <th>1999998</th>\n      <td>1999998</td>\n      <td>ALGA0111904</td>\n      <td>13035</td>\n      <td>0</td>\n      <td>202341831127R03C02</td>\n      <td>[A/G]</td>\n      <td>G</td>\n      <td>G</td>\n      <td>C</td>\n      <td>C</td>\n      <td>B</td>\n      <td>B</td>\n      <td>6</td>\n      <td>17436645</td>\n      <td>0.8433</td>\n      <td>0.8187</td>\n      <td>0.941</td>\n      <td>1.180</td>\n      <td>1.0000</td>\n      <td>0.0258</td>\n    </tr>\n    <tr>\n      <th>1999999</th>\n      <td>1999999</td>\n      <td>ALGA0111908</td>\n      <td>13036</td>\n      <td>0</td>\n      <td>202341831127R03C02</td>\n      <td>[A/G]</td>\n      <td>G</td>\n      <td>G</td>\n      <td>C</td>\n      <td>C</td>\n      <td>B</td>\n      <td>B</td>\n      <td>9</td>\n      <td>71711489</td>\n      <td>0.9192</td>\n      <td>0.8819</td>\n      <td>0.977</td>\n      <td>0.923</td>\n      <td>0.9972</td>\n      <td>0.0996</td>\n    </tr>\n  </tbody>\n</table>\n<p>2000000 rows × 20 columns</p>\n</div>"
     },
     "execution_count": 12,
     "metadata": {},
     "output_type": "execute_result"
    }
   ],
   "source": [
    "pd.read_sql('''SELECT *\n",
    "                FROM genstudio\n",
    "            ''', connection)"
   ],
   "metadata": {
    "collapsed": false,
    "pycharm": {
     "name": "#%%\n"
    }
   }
  },
  {
   "cell_type": "markdown",
   "source": [
    "Database from `metadata` dataframe"
   ],
   "metadata": {
    "collapsed": false
   }
  },
  {
   "cell_type": "code",
   "execution_count": 114,
   "outputs": [
    {
     "data": {
      "text/plain": "841"
     },
     "execution_count": 114,
     "metadata": {},
     "output_type": "execute_result"
    }
   ],
   "source": [
    "metadata.to_sql('metadata', con=connection, if_exists=\"replace\")"
   ],
   "metadata": {
    "collapsed": false,
    "pycharm": {
     "name": "#%%\n"
    }
   }
  },
  {
   "cell_type": "code",
   "execution_count": 13,
   "outputs": [
    {
     "data": {
      "text/plain": "     index         dna_chip_id breed sex\n0        0  202290551164R09C01     Д  Хр\n1        1  202341831114R02C01     Д  Хр\n2        2  202341831114R03C01     Д  Хр\n3        3  202341831114R04C01     Д  Хр\n4        4  202290551140R01C01     Д  Хр\n..     ...                 ...   ...  ..\n836    836  203071331169R10C02     Д  Хр\n837    837  203071331169R12C02     Д  Хр\n838    838  202341831114R01C01     Д  Хр\n839    839  202341831114R06C01     Д  Хр\n840    840  202341831127R04C02     Д  Хр\n\n[841 rows x 4 columns]",
      "text/html": "<div>\n<style scoped>\n    .dataframe tbody tr th:only-of-type {\n        vertical-align: middle;\n    }\n\n    .dataframe tbody tr th {\n        vertical-align: top;\n    }\n\n    .dataframe thead th {\n        text-align: right;\n    }\n</style>\n<table border=\"1\" class=\"dataframe\">\n  <thead>\n    <tr style=\"text-align: right;\">\n      <th></th>\n      <th>index</th>\n      <th>dna_chip_id</th>\n      <th>breed</th>\n      <th>sex</th>\n    </tr>\n  </thead>\n  <tbody>\n    <tr>\n      <th>0</th>\n      <td>0</td>\n      <td>202290551164R09C01</td>\n      <td>Д</td>\n      <td>Хр</td>\n    </tr>\n    <tr>\n      <th>1</th>\n      <td>1</td>\n      <td>202341831114R02C01</td>\n      <td>Д</td>\n      <td>Хр</td>\n    </tr>\n    <tr>\n      <th>2</th>\n      <td>2</td>\n      <td>202341831114R03C01</td>\n      <td>Д</td>\n      <td>Хр</td>\n    </tr>\n    <tr>\n      <th>3</th>\n      <td>3</td>\n      <td>202341831114R04C01</td>\n      <td>Д</td>\n      <td>Хр</td>\n    </tr>\n    <tr>\n      <th>4</th>\n      <td>4</td>\n      <td>202290551140R01C01</td>\n      <td>Д</td>\n      <td>Хр</td>\n    </tr>\n    <tr>\n      <th>...</th>\n      <td>...</td>\n      <td>...</td>\n      <td>...</td>\n      <td>...</td>\n    </tr>\n    <tr>\n      <th>836</th>\n      <td>836</td>\n      <td>203071331169R10C02</td>\n      <td>Д</td>\n      <td>Хр</td>\n    </tr>\n    <tr>\n      <th>837</th>\n      <td>837</td>\n      <td>203071331169R12C02</td>\n      <td>Д</td>\n      <td>Хр</td>\n    </tr>\n    <tr>\n      <th>838</th>\n      <td>838</td>\n      <td>202341831114R01C01</td>\n      <td>Д</td>\n      <td>Хр</td>\n    </tr>\n    <tr>\n      <th>839</th>\n      <td>839</td>\n      <td>202341831114R06C01</td>\n      <td>Д</td>\n      <td>Хр</td>\n    </tr>\n    <tr>\n      <th>840</th>\n      <td>840</td>\n      <td>202341831127R04C02</td>\n      <td>Д</td>\n      <td>Хр</td>\n    </tr>\n  </tbody>\n</table>\n<p>841 rows × 4 columns</p>\n</div>"
     },
     "execution_count": 13,
     "metadata": {},
     "output_type": "execute_result"
    }
   ],
   "source": [
    "pd.read_sql('''SELECT *\n",
    "                FROM metadata\n",
    "            ''', connection)"
   ],
   "metadata": {
    "collapsed": false,
    "pycharm": {
     "name": "#%%\n"
    }
   }
  },
  {
   "cell_type": "markdown",
   "source": [
    "Joining tables"
   ],
   "metadata": {
    "collapsed": false
   }
  },
  {
   "cell_type": "code",
   "execution_count": 28,
   "outputs": [],
   "source": [
    "joined_tables = \"\"\"SELECT genstudio.*, metadata.breed, metadata.sex FROM genstudio\n",
    "JOIN metadata ON genstudio.'Sample ID' = metadata.dna_chip_id;\"\"\""
   ],
   "metadata": {
    "collapsed": false,
    "pycharm": {
     "name": "#%%\n"
    }
   }
  },
  {
   "cell_type": "code",
   "execution_count": 29,
   "outputs": [
    {
     "data": {
      "text/plain": "<sqlite3.Cursor at 0x207a60c5b90>"
     },
     "execution_count": 29,
     "metadata": {},
     "output_type": "execute_result"
    }
   ],
   "source": [
    "cursor.execute(joined_tables)"
   ],
   "metadata": {
    "collapsed": false,
    "pycharm": {
     "name": "#%%\n"
    }
   }
  },
  {
   "cell_type": "code",
   "execution_count": 30,
   "outputs": [],
   "source": [
    "result = cursor.fetchall()"
   ],
   "metadata": {
    "collapsed": false,
    "pycharm": {
     "name": "#%%\n"
    }
   }
  },
  {
   "cell_type": "code",
   "execution_count": 31,
   "outputs": [],
   "source": [
    "result_df = pd.DataFrame(result)"
   ],
   "metadata": {
    "collapsed": false,
    "pycharm": {
     "name": "#%%\n"
    }
   }
  },
  {
   "cell_type": "code",
   "execution_count": 32,
   "outputs": [
    {
     "data": {
      "text/plain": "   0           1   2   3                   4      5  6  7  8  9   ... 12  \\\n0   0  1_10573221   1   0  202341831114R01C01  [T/C]  -  -  -  -  ...  1   \n1   1  1_10673082   2   0  202341831114R01C01  [T/C]  A  A  T  T  ...  1   \n2   2  1_10723065   3   0  202341831114R01C01  [A/G]  A  A  T  T  ...  1   \n3   3  1_11337555   4   0  202341831114R01C01  [A/G]  A  A  T  T  ...  1   \n4   4  1_11407894   5   0  202341831114R01C01  [A/G]  G  G  G  G  ...  1   \n\n         13      14      15     16     17      18      19  20  21  \n0  10573221  0.0000  0.0000  0.942  0.413  1.0000  0.4040   Д  Хр  \n1  10673082  0.8272  0.8076  0.039  0.968  0.0000  0.3017   Д  Хр  \n2  10723065  0.8316  0.8107  0.011  1.577  0.0000  0.0388   Д  Хр  \n3  11337555  0.3781  0.7925  0.045  1.104  0.0000  0.2761   Д  Хр  \n4  11407894  0.9038  0.8670  0.983  1.122  0.9994  0.0022   Д  Хр  \n\n[5 rows x 22 columns]",
      "text/html": "<div>\n<style scoped>\n    .dataframe tbody tr th:only-of-type {\n        vertical-align: middle;\n    }\n\n    .dataframe tbody tr th {\n        vertical-align: top;\n    }\n\n    .dataframe thead th {\n        text-align: right;\n    }\n</style>\n<table border=\"1\" class=\"dataframe\">\n  <thead>\n    <tr style=\"text-align: right;\">\n      <th></th>\n      <th>0</th>\n      <th>1</th>\n      <th>2</th>\n      <th>3</th>\n      <th>4</th>\n      <th>5</th>\n      <th>6</th>\n      <th>7</th>\n      <th>8</th>\n      <th>9</th>\n      <th>...</th>\n      <th>12</th>\n      <th>13</th>\n      <th>14</th>\n      <th>15</th>\n      <th>16</th>\n      <th>17</th>\n      <th>18</th>\n      <th>19</th>\n      <th>20</th>\n      <th>21</th>\n    </tr>\n  </thead>\n  <tbody>\n    <tr>\n      <th>0</th>\n      <td>0</td>\n      <td>1_10573221</td>\n      <td>1</td>\n      <td>0</td>\n      <td>202341831114R01C01</td>\n      <td>[T/C]</td>\n      <td>-</td>\n      <td>-</td>\n      <td>-</td>\n      <td>-</td>\n      <td>...</td>\n      <td>1</td>\n      <td>10573221</td>\n      <td>0.0000</td>\n      <td>0.0000</td>\n      <td>0.942</td>\n      <td>0.413</td>\n      <td>1.0000</td>\n      <td>0.4040</td>\n      <td>Д</td>\n      <td>Хр</td>\n    </tr>\n    <tr>\n      <th>1</th>\n      <td>1</td>\n      <td>1_10673082</td>\n      <td>2</td>\n      <td>0</td>\n      <td>202341831114R01C01</td>\n      <td>[T/C]</td>\n      <td>A</td>\n      <td>A</td>\n      <td>T</td>\n      <td>T</td>\n      <td>...</td>\n      <td>1</td>\n      <td>10673082</td>\n      <td>0.8272</td>\n      <td>0.8076</td>\n      <td>0.039</td>\n      <td>0.968</td>\n      <td>0.0000</td>\n      <td>0.3017</td>\n      <td>Д</td>\n      <td>Хр</td>\n    </tr>\n    <tr>\n      <th>2</th>\n      <td>2</td>\n      <td>1_10723065</td>\n      <td>3</td>\n      <td>0</td>\n      <td>202341831114R01C01</td>\n      <td>[A/G]</td>\n      <td>A</td>\n      <td>A</td>\n      <td>T</td>\n      <td>T</td>\n      <td>...</td>\n      <td>1</td>\n      <td>10723065</td>\n      <td>0.8316</td>\n      <td>0.8107</td>\n      <td>0.011</td>\n      <td>1.577</td>\n      <td>0.0000</td>\n      <td>0.0388</td>\n      <td>Д</td>\n      <td>Хр</td>\n    </tr>\n    <tr>\n      <th>3</th>\n      <td>3</td>\n      <td>1_11337555</td>\n      <td>4</td>\n      <td>0</td>\n      <td>202341831114R01C01</td>\n      <td>[A/G]</td>\n      <td>A</td>\n      <td>A</td>\n      <td>T</td>\n      <td>T</td>\n      <td>...</td>\n      <td>1</td>\n      <td>11337555</td>\n      <td>0.3781</td>\n      <td>0.7925</td>\n      <td>0.045</td>\n      <td>1.104</td>\n      <td>0.0000</td>\n      <td>0.2761</td>\n      <td>Д</td>\n      <td>Хр</td>\n    </tr>\n    <tr>\n      <th>4</th>\n      <td>4</td>\n      <td>1_11407894</td>\n      <td>5</td>\n      <td>0</td>\n      <td>202341831114R01C01</td>\n      <td>[A/G]</td>\n      <td>G</td>\n      <td>G</td>\n      <td>G</td>\n      <td>G</td>\n      <td>...</td>\n      <td>1</td>\n      <td>11407894</td>\n      <td>0.9038</td>\n      <td>0.8670</td>\n      <td>0.983</td>\n      <td>1.122</td>\n      <td>0.9994</td>\n      <td>0.0022</td>\n      <td>Д</td>\n      <td>Хр</td>\n    </tr>\n  </tbody>\n</table>\n<p>5 rows × 22 columns</p>\n</div>"
     },
     "execution_count": 32,
     "metadata": {},
     "output_type": "execute_result"
    }
   ],
   "source": [
    "result_df.head()"
   ],
   "metadata": {
    "collapsed": false,
    "pycharm": {
     "name": "#%%\n"
    }
   }
  },
  {
   "cell_type": "markdown",
   "source": [
    "### Some queries to data base"
   ],
   "metadata": {
    "collapsed": false
   }
  },
  {
   "cell_type": "markdown",
   "source": [
    "**Select data from sql db**"
   ],
   "metadata": {
    "collapsed": false
   }
  },
  {
   "cell_type": "code",
   "execution_count": 37,
   "outputs": [
    {
     "data": {
      "text/plain": "[('202341831114R01C01', '[T/C]', '1', '10573221'),\n ('202341831114R01C01', '[T/C]', '1', '10673082'),\n ('202341831114R01C01', '[A/G]', '1', '10723065'),\n ('202341831114R01C01', '[A/G]', '1', '11337555'),\n ('202341831114R01C01', '[A/G]', '1', '11407894'),\n ('202341831114R01C01', '[T/C]', '1', '11426075'),\n ('202341831114R01C01', '[T/C]', '1', '11445382'),\n ('202341831114R01C01', '[A/G]', '1', '135128255'),\n ('202341831114R01C01', '[T/C]', '1', '13996200'),\n ('202341831114R01C01', '[A/G]', '1', '142535524'),\n ('202341831114R01C01', '[T/C]', '1', '14638936'),\n ('202341831114R01C01', '[A/G]', '1', '161891709'),\n ('202341831114R01C01', '[A/G]', '1', '17346505'),\n ('202341831114R01C01', '[T/C]', '1', '17537210'),\n ('202341831114R01C01', '[A/G]', '1', '1901947'),\n ('202341831114R01C01', '[A/G]', '1', '242598'),\n ('202341831114R01C01', '[A/G]', '1', '2463520'),\n ('202341831114R01C01', '[T/C]', '1', '2812415'),\n ('202341831114R01C01', '[A/G]', '1', '286337402'),\n ('202341831114R01C01', '[T/C]', '1', '294072400'),\n ('202341831114R01C01', '[T/G]', '1', '296232481'),\n ('202341831114R01C01', '[A/C]', '1', '301198363'),\n ('202341831114R01C01', '[A/G]', '1', '303127440'),\n ('202341831114R01C01', '[A/G]', '1', '303828731'),\n ('202341831114R01C01', '[T/C]', '1', '304970973'),\n ('202341831114R01C01', '[T/C]', '1', '305018214'),\n ('202341831114R01C01', '[A/G]', '1', '306109327'),\n ('202341831114R01C01', '[A/G]', '1', '306358375'),\n ('202341831114R01C01', '[A/G]', '1', '307244544'),\n ('202341831114R01C01', '[T/C]', '1', '308334169'),\n ('202341831114R01C01', '[A/G]', '1', '309418215'),\n ('202341831114R01C01', '[T/C]', '1', '309509770'),\n ('202341831114R01C01', '[T/C]', '1', '310058452'),\n ('202341831114R01C01', '[T/G]', '1', '312341049'),\n ('202341831114R01C01', '[A/G]', '1', '312570992'),\n ('202341831114R01C01', '[T/C]', '1', '32706368'),\n ('202341831114R01C01', '[T/C]', '1', '3625182'),\n ('202341831114R01C01', '[T/C]', '1', '3640815'),\n ('202341831114R01C01', '[T/C]', '1', '36522164'),\n ('202341831114R01C01', '[A/G]', '1', '37669658'),\n ('202341831114R01C01', '[T/G]', '1', '7252617'),\n ('202341831114R01C01', '[T/C]', '1', '7309404'),\n ('202341831114R01C01', '[T/C]', '1', '7332244'),\n ('202341831114R01C01', '[A/G]', '1', '7692787'),\n ('202341831114R01C01', '[A/G]', '1', '8522862'),\n ('202341831114R01C01', '[A/G]', '10', '11524303'),\n ('202341831114R01C01', '[T/C]', '10', '15026457'),\n ('202341831114R01C01', '[A/G]', '10', '15270724'),\n ('202341831114R01C01', '[A/G]', '10', '17565103'),\n ('202341831114R01C01', '[A/G]', '10', '17770477'),\n ('202341831114R01C01', '[T/C]', '10', '18682426'),\n ('202341831114R01C01', '[T/G]', '10', '19324750'),\n ('202341831114R01C01', '[T/C]', '10', '20043953'),\n ('202341831114R01C01', '[A/C]', '10', '20166080'),\n ('202341831114R01C01', '[A/G]', '10', '2598359'),\n ('202341831114R01C01', '[T/C]', '10', '27014378'),\n ('202341831114R01C01', '[A/G]', '10', '27620869'),\n ('202341831114R01C01', '[T/C]', '10', '28797811'),\n ('202341831114R01C01', '[T/C]', '10', '28894311'),\n ('202341831114R01C01', '[T/C]', '10', '29099121'),\n ('202341831114R01C01', '[T/C]', '10', '29176531'),\n ('202341831114R01C01', '[A/G]', '10', '29353382'),\n ('202341831114R01C01', '[A/C]', '10', '34720438'),\n ('202341831114R01C01', '[T/C]', '10', '35026092'),\n ('202341831114R01C01', '[T/C]', '10', '35986760'),\n ('202341831114R01C01', '[T/C]', '10', '44036209'),\n ('202341831114R01C01', '[T/G]', '10', '44109567'),\n ('202341831114R01C01', '[A/G]', '10', '4489042'),\n ('202341831114R01C01', '[T/C]', '10', '46128895'),\n ('202341831114R01C01', '[T/C]', '10', '46910076'),\n ('202341831114R01C01', '[T/G]', '10', '4914686'),\n ('202341831114R01C01', '[T/C]', '10', '49282888'),\n ('202341831114R01C01', '[T/C]', '10', '50727506'),\n ('202341831114R01C01', '[T/C]', '10', '51448167'),\n ('202341831114R01C01', '[T/G]', '10', '5174608'),\n ('202341831114R01C01', '[A/G]', '10', '52762792'),\n ('202341831114R01C01', '[T/C]', '10', '5294804'),\n ('202341831114R01C01', '[A/G]', '10', '53097083'),\n ('202341831114R01C01', '[A/G]', '10', '53816155'),\n ('202341831114R01C01', '[T/C]', '10', '57020895'),\n ('202341831114R01C01', '[A/G]', '10', '57243760'),\n ('202341831114R01C01', '[A/G]', '10', '57374523'),\n ('202341831114R01C01', '[T/C]', '10', '57459335'),\n ('202341831114R01C01', '[A/G]', '10', '58089659'),\n ('202341831114R01C01', '[A/G]', '10', '58154509'),\n ('202341831114R01C01', '[T/G]', '10', '59977076'),\n ('202341831114R01C01', '[T/C]', '10', '62838236'),\n ('202341831114R01C01', '[A/G]', '10', '63954455'),\n ('202341831114R01C01', '[T/C]', '10', '64300155'),\n ('202341831114R01C01', '[T/C]', '10', '66229891'),\n ('202341831114R01C01', '[A/G]', '10', '68331424'),\n ('202341831114R01C01', '[A/G]', '10', '68542070'),\n ('202341831114R01C01', '[T/C]', '10', '70174860'),\n ('202341831114R01C01', '[T/G]', '10', '70988955'),\n ('202341831114R01C01', '[A/G]', '10', '71207399'),\n ('202341831114R01C01', '[A/G]', '10', '71396896'),\n ('202341831114R01C01', '[T/C]', '10', '71428293'),\n ('202341831114R01C01', '[A/C]', '10', '73468621'),\n ('202341831114R01C01', '[T/G]', '10', '7509337'),\n ('202341831114R01C01', '[T/C]', '10', '75273827'),\n ('202341831114R01C01', '[T/C]', '10', '7870641'),\n ('202341831114R01C01', '[A/G]', '10', '7920995'),\n ('202341831114R01C01', '[A/G]', '10', '7950637'),\n ('202341831114R01C01', '[A/G]', '10', '8039472'),\n ('202341831114R01C01', '[A/C]', '10', '8212793'),\n ('202341831114R01C01', '[A/G]', '10', '9524708'),\n ('202341831114R01C01', '[A/G]', '11', '1453632'),\n ('202341831114R01C01', '[T/C]', '11', '1715551'),\n ('202341831114R01C01', '[T/C]', '11', '18332098'),\n ('202341831114R01C01', '[A/G]', '11', '19881271'),\n ('202341831114R01C01', '[T/C]', '11', '20970219'),\n ('202341831114R01C01', '[T/C]', '11', '2105722'),\n ('202341831114R01C01', '[T/C]', '11', '21138666'),\n ('202341831114R01C01', '[T/C]', '11', '21785934'),\n ('202341831114R01C01', '[A/C]', '11', '22492037'),\n ('202341831114R01C01', '[A/C]', '11', '23902448'),\n ('202341831114R01C01', '[A/G]', '11', '2411619'),\n ('202341831114R01C01', '[A/G]', '11', '24551615'),\n ('202341831114R01C01', '[T/C]', '11', '24632221'),\n ('202341831114R01C01', '[T/C]', '11', '24666298'),\n ('202341831114R01C01', '[T/C]', '11', '24801223'),\n ('202341831114R01C01', '[A/G]', '11', '25057117'),\n ('202341831114R01C01', '[A/G]', '11', '2618338'),\n ('202341831114R01C01', '[A/G]', '11', '26259861'),\n ('202341831114R01C01', '[T/C]', '11', '414630'),\n ('202341831114R01C01', '[A/G]', '11', '4234340'),\n ('202341831114R01C01', '[A/G]', '11', '49058217'),\n ('202341831114R01C01', '[T/C]', '11', '5916192'),\n ('202341831114R01C01', '[A/G]', '11', '59280101'),\n ('202341831114R01C01', '[A/G]', '11', '67778543'),\n ('202341831114R01C01', '[A/G]', '11', '70739744'),\n ('202341831114R01C01', '[T/C]', '11', '7258963'),\n ('202341831114R01C01', '[T/C]', '11', '73737653'),\n ('202341831114R01C01', '[T/C]', '11', '7834790'),\n ('202341831114R01C01', '[T/C]', '11', '79980453'),\n ('202341831114R01C01', '[A/G]', '11', '80041169'),\n ('202341831114R01C01', '[A/G]', '11', '81298961'),\n ('202341831114R01C01', '[A/G]', '11', '81880950'),\n ('202341831114R01C01', '[T/G]', '11', '83488480'),\n ('202341831114R01C01', '[A/G]', '11', '86220977'),\n ('202341831114R01C01', '[A/G]', '11', '86277238'),\n ('202341831114R01C01', '[T/C]', '11', '86653141'),\n ('202341831114R01C01', '[A/G]', '11', '86751455'),\n ('202341831114R01C01', '[T/C]', '11', '9016311'),\n ('202341831114R01C01', '[T/G]', '11', '9371339'),\n ('202341831114R01C01', '[T/C]', '12', '10268716'),\n ('202341831114R01C01', '[A/G]', '12', '1030120'),\n ('202341831114R01C01', '[A/G]', '12', '1047496'),\n ('202341831114R01C01', '[A/G]', '12', '1139899'),\n ('202341831114R01C01', '[A/G]', '12', '12477568'),\n ('202341831114R01C01', '[T/C]', '12', '1273230'),\n ('202341831114R01C01', '[T/C]', '12', '12893835'),\n ('202341831114R01C01', '[A/C]', '12', '13701037'),\n ('202341831114R01C01', '[T/C]', '12', '1556830'),\n ('202341831114R01C01', '[T/C]', '12', '1582461'),\n ('202341831114R01C01', '[A/G]', '12', '1759150'),\n ('202341831114R01C01', '[T/C]', '12', '17821375'),\n ('202341831114R01C01', '[A/G]', '12', '18128426'),\n ('202341831114R01C01', '[T/C]', '12', '18437288'),\n ('202341831114R01C01', '[A/G]', '12', '18807453'),\n ('202341831114R01C01', '[T/C]', '12', '18954173'),\n ('202341831114R01C01', '[T/C]', '12', '19208576'),\n ('202341831114R01C01', '[T/C]', '12', '19220770'),\n ('202341831114R01C01', '[A/G]', '12', '19844264'),\n ('202341831114R01C01', '[T/C]', '12', '19933015'),\n ('202341831114R01C01', '[A/C]', '12', '20288748'),\n ('202341831114R01C01', '[A/G]', '12', '20460685'),\n ('202341831114R01C01', '[A/G]', '12', '20899467'),\n ('202341831114R01C01', '[A/G]', '12', '21073294'),\n ('202341831114R01C01', '[A/G]', '12', '23129100'),\n ('202341831114R01C01', '[A/G]', '12', '23418979'),\n ('202341831114R01C01', '[A/G]', '12', '24613872'),\n ('202341831114R01C01', '[A/G]', '12', '2535494'),\n ('202341831114R01C01', '[T/G]', '12', '33122614'),\n ('202341831114R01C01', '[A/C]', '12', '39105292'),\n ('202341831114R01C01', '[A/G]', '12', '3947042'),\n ('202341831114R01C01', '[T/C]', '12', '40005118'),\n ('202341831114R01C01', '[A/G]', '12', '40289889'),\n ('202341831114R01C01', '[T/C]', '12', '41111545'),\n ('202341831114R01C01', '[T/G]', '12', '41185242'),\n ('202341831114R01C01', '[A/G]', '12', '4141022'),\n ('202341831114R01C01', '[T/C]', '12', '41611856'),\n ('202341831114R01C01', '[T/C]', '12', '41788883'),\n ('202341831114R01C01', '[T/C]', '12', '41972142'),\n ('202341831114R01C01', '[A/G]', '12', '42196097'),\n ('202341831114R01C01', '[T/C]', '12', '42446185'),\n ('202341831114R01C01', '[T/C]', '12', '42905172'),\n ('202341831114R01C01', '[A/G]', '12', '42974372'),\n ('202341831114R01C01', '[A/G]', '12', '43004325'),\n ('202341831114R01C01', '[A/G]', '12', '43021102'),\n ('202341831114R01C01', '[A/G]', '12', '4418973'),\n ('202341831114R01C01', '[A/G]', '12', '44317562'),\n ('202341831114R01C01', '[A/G]', '12', '4432363'),\n ('202341831114R01C01', '[T/G]', '12', '44747786'),\n ('202341831114R01C01', '[T/C]', '12', '46896900'),\n ('202341831114R01C01', '[T/C]', '12', '47336825'),\n ('202341831114R01C01', '[T/C]', '12', '47728688'),\n ('202341831114R01C01', '[T/C]', '12', '47848173'),\n ('202341831114R01C01', '[A/G]', '12', '4820588'),\n ('202341831114R01C01', '[T/C]', '12', '48243261'),\n ('202341831114R01C01', '[T/C]', '12', '48968569'),\n ('202341831114R01C01', '[T/C]', '12', '49229454'),\n ('202341831114R01C01', '[A/G]', '12', '49453778'),\n ('202341831114R01C01', '[T/G]', '12', '49631586'),\n ('202341831114R01C01', '[A/C]', '12', '52249410'),\n ('202341831114R01C01', '[A/G]', '12', '52289214'),\n ('202341831114R01C01', '[A/G]', '12', '52471401'),\n ('202341831114R01C01', '[T/G]', '12', '52737540'),\n ('202341831114R01C01', '[T/C]', '12', '52900849'),\n ('202341831114R01C01', '[T/C]', '12', '5366302'),\n ('202341831114R01C01', '[A/G]', '12', '5381300'),\n ('202341831114R01C01', '[T/C]', '12', '54049967'),\n ('202341831114R01C01', '[A/G]', '12', '54960377'),\n ('202341831114R01C01', '[A/G]', '12', '55554787'),\n ('202341831114R01C01', '[T/C]', '12', '562339'),\n ('202341831114R01C01', '[T/C]', '12', '5685088'),\n ('202341831114R01C01', '[T/C]', '12', '5697303'),\n ('202341831114R01C01', '[A/G]', '12', '57051011'),\n ('202341831114R01C01', '[T/C]', '12', '59193732'),\n ('202341831114R01C01', '[A/G]', '12', '59227312'),\n ('202341831114R01C01', '[T/C]', '12', '6259463'),\n ('202341831114R01C01', '[A/C]', '12', '62758000'),\n ('202341831114R01C01', '[A/C]', '12', '7141456'),\n ('202341831114R01C01', '[A/G]', '12', '8042480'),\n ('202341831114R01C01', '[T/C]', '12', '8640908'),\n ('202341831114R01C01', '[A/G]', '12', '8698381'),\n ('202341831114R01C01', '[A/G]', '12', '9388151'),\n ('202341831114R01C01', '[A/G]', '13', '11914689'),\n ('202341831114R01C01', '[T/G]', '13', '130563943'),\n ('202341831114R01C01', '[T/C]', '13', '13269174'),\n ('202341831114R01C01', '[T/C]', '13', '14745565'),\n ('202341831114R01C01', '[A/G]', '13', '15039685'),\n ('202341831114R01C01', '[T/C]', '13', '16392610'),\n ('202341831114R01C01', '[T/C]', '13', '197137305'),\n ('202341831114R01C01', '[A/G]', '13', '198614952'),\n ('202341831114R01C01', '[A/G]', '13', '199149238'),\n ('202341831114R01C01', '[A/G]', '13', '202649490'),\n ('202341831114R01C01', '[A/G]', '13', '203615109'),\n ('202341831114R01C01', '[A/G]', '13', '204166647'),\n ('202341831114R01C01', '[A/G]', '13', '205963680'),\n ('202341831114R01C01', '[T/G]', '13', '206406481'),\n ('202341831114R01C01', '[T/C]', '13', '207788876'),\n ('202341831114R01C01', '[A/G]', '13', '210362429'),\n ('202341831114R01C01', '[A/G]', '13', '211573219'),\n ('202341831114R01C01', '[T/C]', '13', '21201222'),\n ('202341831114R01C01', '[A/G]', '13', '212665886'),\n ('202341831114R01C01', '[T/C]', '13', '213138964'),\n ('202341831114R01C01', '[A/G]', '13', '213253417'),\n ('202341831114R01C01', '[T/C]', '13', '213436825'),\n ('202341831114R01C01', '[T/G]', '13', '213506466'),\n ('202341831114R01C01', '[T/C]', '13', '215619757'),\n ('202341831114R01C01', '[T/G]', '13', '215731085'),\n ('202341831114R01C01', '[A/G]', '13', '217418910'),\n ('202341831114R01C01', '[A/G]', '13', '217709908'),\n ('202341831114R01C01', '[A/G]', '13', '218232151'),\n ('202341831114R01C01', '[T/C]', '13', '218366001'),\n ('202341831114R01C01', '[T/C]', '13', '24506281'),\n ('202341831114R01C01', '[A/C]', '13', '24897082'),\n ('202341831114R01C01', '[A/G]', '13', '25390878'),\n ('202341831114R01C01', '[T/C]', '13', '25415543'),\n ('202341831114R01C01', '[T/C]', '13', '25617094'),\n ('202341831114R01C01', '[T/C]', '13', '25893652'),\n ('202341831114R01C01', '[T/C]', '13', '2613710'),\n ('202341831114R01C01', '[A/G]', '13', '27294661'),\n ('202341831114R01C01', '[T/C]', '13', '28340715'),\n ('202341831114R01C01', '[A/G]', '13', '28364370'),\n ('202341831114R01C01', '[T/G]', '13', '30490635'),\n ('202341831114R01C01', '[T/C]', '13', '30564703'),\n ('202341831114R01C01', '[T/C]', '13', '3139767'),\n ('202341831114R01C01', '[A/G]', '13', '3572747'),\n ('202341831114R01C01', '[A/G]', '13', '4259515'),\n ('202341831114R01C01', '[A/G]', '13', '43100515'),\n ('202341831114R01C01', '[T/C]', '13', '4518042'),\n ('202341831114R01C01', '[A/G]', '13', '48764710'),\n ('202341831114R01C01', '[A/C]', '13', '49280975'),\n ('202341831114R01C01', '[T/C]', '13', '5091745'),\n ('202341831114R01C01', '[A/G]', '13', '80442905'),\n ('202341831114R01C01', '[T/C]', '13', '8705242'),\n ('202341831114R01C01', '[T/C]', '14', '10301329'),\n ('202341831114R01C01', '[T/C]', '14', '115519174'),\n ('202341831114R01C01', '[A/G]', '14', '118163334'),\n ('202341831114R01C01', '[A/G]', '14', '1206858'),\n ('202341831114R01C01', '[A/G]', '14', '12070780'),\n ('202341831114R01C01', '[T/C]', '14', '1228395'),\n ('202341831114R01C01', '[T/C]', '14', '133433839'),\n ('202341831114R01C01', '[T/C]', '14', '134517577'),\n ('202341831114R01C01', '[A/G]', '14', '13789228'),\n ('202341831114R01C01', '[A/G]', '14', '139976955'),\n ('202341831114R01C01', '[T/C]', '14', '140163299'),\n ('202341831114R01C01', '[T/C]', '14', '140726799'),\n ('202341831114R01C01', '[T/C]', '14', '140753986'),\n ('202341831114R01C01', '[A/G]', '14', '140821623'),\n ('202341831114R01C01', '[T/C]', '14', '141548311'),\n ('202341831114R01C01', '[T/C]', '14', '142089249'),\n ('202341831114R01C01', '[T/C]', '14', '142590465'),\n ('202341831114R01C01', '[A/G]', '14', '142930866'),\n ('202341831114R01C01', '[A/G]', '14', '143065540'),\n ('202341831114R01C01', '[A/G]', '14', '144354119'),\n ('202341831114R01C01', '[A/G]', '14', '144727408'),\n ('202341831114R01C01', '[T/C]', '14', '145035688'),\n ('202341831114R01C01', '[A/G]', '14', '145101232'),\n ('202341831114R01C01', '[A/G]', '14', '145936456'),\n ('202341831114R01C01', '[A/G]', '14', '147466215'),\n ('202341831114R01C01', '[T/C]', '14', '147744426'),\n ('202341831114R01C01', '[T/C]', '14', '149708315'),\n ('202341831114R01C01', '[T/C]', '14', '149825559'),\n ('202341831114R01C01', '[A/G]', '14', '150608151'),\n ('202341831114R01C01', '[T/C]', '14', '15311981'),\n ('202341831114R01C01', '[A/G]', '14', '153400081'),\n ('202341831114R01C01', '[A/G]', '14', '16074463'),\n ('202341831114R01C01', '[A/C]', '14', '16204919'),\n ('202341831114R01C01', '[T/C]', '14', '16351943'),\n ('202341831114R01C01', '[T/C]', '14', '19459027'),\n ('202341831114R01C01', '[A/G]', '14', '21091998'),\n ('202341831114R01C01', '[T/C]', '14', '24270543'),\n ('202341831114R01C01', '[A/G]', '14', '24937876'),\n ('202341831114R01C01', '[T/C]', '14', '25105444'),\n ('202341831114R01C01', '[T/C]', '14', '25585069'),\n ('202341831114R01C01', '[A/G]', '14', '25786313'),\n ('202341831114R01C01', '[A/G]', '14', '26683650'),\n ('202341831114R01C01', '[T/C]', '14', '32288075'),\n ('202341831114R01C01', '[T/C]', '14', '33038053'),\n ('202341831114R01C01', '[A/G]', '14', '3776085'),\n ('202341831114R01C01', '[A/C]', '14', '37855236'),\n ('202341831114R01C01', '[T/C]', '14', '3837226'),\n ('202341831114R01C01', '[T/C]', '14', '5516314'),\n ('202341831114R01C01', '[A/G]', '14', '57263991'),\n ('202341831114R01C01', '[T/C]', '14', '57769259'),\n ('202341831114R01C01', '[T/G]', '14', '659413'),\n ('202341831114R01C01', '[T/C]', '14', '7441057'),\n ('202341831114R01C01', '[T/G]', '14', '7733487'),\n ('202341831114R01C01', '[A/G]', '14', '8456068'),\n ('202341831114R01C01', '[T/C]', '14', '95487375'),\n ('202341831114R01C01', '[A/G]', '14', '95770790'),\n ('202341831114R01C01', '[A/C]', '14', '9670625'),\n ('202341831114R01C01', '[T/C]', '15', '107620091'),\n ('202341831114R01C01', '[A/G]', '15', '117142760'),\n ('202341831114R01C01', '[T/C]', '15', '12259850'),\n ('202341831114R01C01', '[T/C]', '15', '124229084'),\n ('202341831114R01C01', '[A/G]', '15', '124795067'),\n ('202341831114R01C01', '[T/C]', '15', '128610788'),\n ('202341831114R01C01', '[A/G]', '15', '129668677'),\n ('202341831114R01C01', '[A/G]', '15', '131513545'),\n ('202341831114R01C01', '[T/G]', '15', '134186131'),\n ('202341831114R01C01', '[T/C]', '15', '135455436'),\n ('202341831114R01C01', '[A/G]', '15', '135945276'),\n ('202341831114R01C01', '[T/C]', '15', '137185053'),\n ('202341831114R01C01', '[A/G]', '15', '137210022'),\n ('202341831114R01C01', '[T/C]', '15', '138108208'),\n ('202341831114R01C01', '[A/G]', '15', '138702014'),\n ('202341831114R01C01', '[A/G]', '15', '139120244'),\n ('202341831114R01C01', '[T/C]', '15', '140208085'),\n ('202341831114R01C01', '[A/G]', '15', '140353725'),\n ('202341831114R01C01', '[T/C]', '15', '140455669'),\n ('202341831114R01C01', '[A/C]', '15', '141834965'),\n ('202341831114R01C01', '[T/C]', '15', '142678396'),\n ('202341831114R01C01', '[T/C]', '15', '142955533'),\n ('202341831114R01C01', '[A/G]', '15', '143476739'),\n ('202341831114R01C01', '[A/G]', '15', '143625344'),\n ('202341831114R01C01', '[A/G]', '15', '146112560'),\n ('202341831114R01C01', '[T/C]', '15', '146575278'),\n ('202341831114R01C01', '[T/C]', '15', '146857085'),\n ('202341831114R01C01', '[T/C]', '15', '146881743'),\n ('202341831114R01C01', '[A/G]', '15', '146944952'),\n ('202341831114R01C01', '[A/G]', '15', '147125875'),\n ('202341831114R01C01', '[T/C]', '15', '149683327'),\n ('202341831114R01C01', '[A/G]', '15', '149874804'),\n ('202341831114R01C01', '[T/C]', '15', '151069575'),\n ('202341831114R01C01', '[T/C]', '15', '152087961'),\n ('202341831114R01C01', '[T/G]', '15', '152112193'),\n ('202341831114R01C01', '[T/C]', '15', '152251440'),\n ('202341831114R01C01', '[T/G]', '15', '152291336'),\n ('202341831114R01C01', '[A/G]', '15', '152623342'),\n ('202341831114R01C01', '[T/C]', '15', '153411892'),\n ('202341831114R01C01', '[A/C]', '15', '154490486'),\n ('202341831114R01C01', '[T/C]', '15', '154609302'),\n ('202341831114R01C01', '[T/C]', '15', '155386146'),\n ('202341831114R01C01', '[T/C]', '15', '157561373'),\n ('202341831114R01C01', '[A/G]', '15', '18009638'),\n ('202341831114R01C01', '[A/G]', '15', '18937142'),\n ('202341831114R01C01', '[A/G]', '15', '20659554'),\n ('202341831114R01C01', '[A/G]', '15', '20894241'),\n ('202341831114R01C01', '[T/C]', '15', '2154617'),\n ('202341831114R01C01', '[A/G]', '15', '28136197'),\n ('202341831114R01C01', '[A/G]', '15', '28466260'),\n ('202341831114R01C01', '[T/C]', '15', '28812137'),\n ('202341831114R01C01', '[T/C]', '15', '31234625'),\n ('202341831114R01C01', '[T/C]', '15', '34573492'),\n ('202341831114R01C01', '[A/G]', '15', '35127964'),\n ('202341831114R01C01', '[T/C]', '15', '35197588'),\n ('202341831114R01C01', '[A/G]', '15', '35401141'),\n ('202341831114R01C01', '[A/G]', '15', '35492063'),\n ('202341831114R01C01', '[T/G]', '15', '36193036'),\n ('202341831114R01C01', '[T/C]', '15', '36798269'),\n ('202341831114R01C01', '[A/G]', '15', '37784363'),\n ('202341831114R01C01', '[T/C]', '15', '4077435'),\n ('202341831114R01C01', '[A/G]', '15', '53269524'),\n ('202341831114R01C01', '[T/C]', '15', '54284665'),\n ('202341831114R01C01', '[A/G]', '15', '56302589'),\n ('202341831114R01C01', '[T/C]', '15', '6570211'),\n ('202341831114R01C01', '[T/C]', '15', '8933458'),\n ('202341831114R01C01', '[T/G]', '15', '9834026'),\n ('202341831114R01C01', '[A/G]', '16', '11368941'),\n ('202341831114R01C01', '[A/G]', '16', '16058371'),\n ('202341831114R01C01', '[A/G]', '16', '19323558'),\n ('202341831114R01C01', '[A/C]', '16', '20322308'),\n ('202341831114R01C01', '[T/C]', '16', '21057941'),\n ('202341831114R01C01', '[A/G]', '16', '22290984'),\n ('202341831114R01C01', '[T/C]', '16', '25793924'),\n ('202341831114R01C01', '[A/G]', '16', '27900868'),\n ('202341831114R01C01', '[T/C]', '16', '3805336'),\n ('202341831114R01C01', '[T/C]', '16', '43657573'),\n ('202341831114R01C01', '[A/G]', '16', '4422820'),\n ('202341831114R01C01', '[A/G]', '16', '4629336'),\n ('202341831114R01C01', '[A/G]', '16', '48265921'),\n ('202341831114R01C01', '[A/G]', '16', '50169750'),\n ('202341831114R01C01', '[A/G]', '16', '525413'),\n ('202341831114R01C01', '[T/C]', '16', '5565652'),\n ('202341831114R01C01', '[T/C]', '16', '5872838'),\n ('202341831114R01C01', '[T/C]', '16', '60265592'),\n ('202341831114R01C01', '[A/G]', '16', '6423784'),\n ('202341831114R01C01', '[T/C]', '16', '71264243'),\n ('202341831114R01C01', '[T/C]', '16', '71514411'),\n ('202341831114R01C01', '[A/C]', '16', '73303759'),\n ('202341831114R01C01', '[A/G]', '16', '74070822'),\n ('202341831114R01C01', '[A/G]', '16', '74456500'),\n ('202341831114R01C01', '[A/G]', '16', '74516315'),\n ('202341831114R01C01', '[T/C]', '16', '75267898'),\n ('202341831114R01C01', '[T/C]', '16', '75506071'),\n ('202341831114R01C01', '[T/C]', '16', '76051853'),\n ('202341831114R01C01', '[T/C]', '16', '76943802'),\n ('202341831114R01C01', '[T/G]', '16', '77266005'),\n ('202341831114R01C01', '[A/G]', '16', '77404037'),\n ('202341831114R01C01', '[A/C]', '16', '77892548'),\n ('202341831114R01C01', '[T/C]', '16', '7819277'),\n ('202341831114R01C01', '[A/G]', '16', '79145762'),\n ('202341831114R01C01', '[T/C]', '16', '7929981'),\n ('202341831114R01C01', '[T/C]', '16', '80710719'),\n ('202341831114R01C01', '[A/G]', '16', '80902706'),\n ('202341831114R01C01', '[T/C]', '16', '81485457'),\n ('202341831114R01C01', '[A/G]', '16', '81838099'),\n ('202341831114R01C01', '[T/C]', '16', '81924369'),\n ('202341831114R01C01', '[T/C]', '16', '83599879'),\n ('202341831114R01C01', '[A/G]', '16', '86492720'),\n ('202341831114R01C01', '[T/C]', '17', '10433072'),\n ('202341831114R01C01', '[A/C]', '17', '11668807'),\n ('202341831114R01C01', '[T/C]', '17', '13447160'),\n ('202341831114R01C01', '[A/G]', '17', '16537323'),\n ('202341831114R01C01', '[T/C]', '17', '17657093'),\n ('202341831114R01C01', '[A/G]', '17', '20666014'),\n ('202341831114R01C01', '[T/C]', '17', '26949014'),\n ('202341831114R01C01', '[A/G]', '17', '30601954'),\n ('202341831114R01C01', '[T/G]', '17', '34815585'),\n ('202341831114R01C01', '[T/C]', '17', '35195474'),\n ('202341831114R01C01', '[A/G]', '17', '35253807'),\n ('202341831114R01C01', '[T/C]', '17', '35896276'),\n ('202341831114R01C01', '[A/G]', '17', '37432113'),\n ('202341831114R01C01', '[T/C]', '17', '37555815'),\n ('202341831114R01C01', '[T/G]', '17', '41518'),\n ('202341831114R01C01', '[A/G]', '17', '45446696'),\n ('202341831114R01C01', '[A/G]', '17', '46898683'),\n ('202341831114R01C01', '[T/C]', '17', '47590057'),\n ('202341831114R01C01', '[T/C]', '17', '49358546'),\n ('202341831114R01C01', '[A/G]', '17', '5152887'),\n ('202341831114R01C01', '[A/G]', '17', '5472919'),\n ('202341831114R01C01', '[T/C]', '17', '54895919'),\n ('202341831114R01C01', '[T/G]', '17', '55973643'),\n ('202341831114R01C01', '[T/C]', '17', '57325415'),\n ('202341831114R01C01', '[A/G]', '17', '57588627'),\n ('202341831114R01C01', '[A/G]', '17', '57674780'),\n ('202341831114R01C01', '[A/G]', '17', '5949940'),\n ('202341831114R01C01', '[T/C]', '17', '59526959'),\n ('202341831114R01C01', '[A/C]', '17', '59716301'),\n ('202341831114R01C01', '[A/G]', '17', '61962111'),\n ('202341831114R01C01', '[T/C]', '17', '63374857'),\n ('202341831114R01C01', '[A/G]', '17', '63726422'),\n ('202341831114R01C01', '[A/G]', '17', '64165097'),\n ('202341831114R01C01', '[A/G]', '17', '64720656'),\n ('202341831114R01C01', '[A/G]', '17', '64880795'),\n ('202341831114R01C01', '[T/C]', '17', '64950698'),\n ('202341831114R01C01', '[T/C]', '17', '65021536'),\n ('202341831114R01C01', '[T/C]', '17', '65399632'),\n ('202341831114R01C01', '[A/G]', '17', '67516950'),\n ('202341831114R01C01', '[T/G]', '17', '68799905'),\n ('202341831114R01C01', '[A/G]', '17', '68870075'),\n ('202341831114R01C01', '[T/G]', '17', '68960575'),\n ('202341831114R01C01', '[A/G]', '17', '69087974'),\n ('202341831114R01C01', '[T/C]', '18', '1329065'),\n ('202341831114R01C01', '[A/G]', '18', '14003636'),\n ('202341831114R01C01', '[A/G]', '18', '1502676'),\n ('202341831114R01C01', '[T/C]', '18', '1527778'),\n ('202341831114R01C01', '[A/G]', '18', '15913751'),\n ('202341831114R01C01', '[T/G]', '18', '16040185'),\n ('202341831114R01C01', '[T/C]', '18', '1665072'),\n ('202341831114R01C01', '[A/G]', '18', '1682532'),\n ('202341831114R01C01', '[T/C]', '18', '1927775'),\n ('202341831114R01C01', '[A/G]', '18', '1983540'),\n ('202341831114R01C01', '[T/C]', '18', '19887610'),\n ('202341831114R01C01', '[T/C]', '18', '20814273'),\n ('202341831114R01C01', '[T/C]', '18', '2227116'),\n ('202341831114R01C01', '[A/G]', '18', '23469777'),\n ('202341831114R01C01', '[T/G]', '18', '2566820'),\n ('202341831114R01C01', '[T/C]', '18', '27116558'),\n ('202341831114R01C01', '[T/C]', '18', '4371535'),\n ('202341831114R01C01', '[T/C]', '18', '44787354'),\n ('202341831114R01C01', '[A/G]', '18', '47006933'),\n ('202341831114R01C01', '[A/G]', '18', '4784847'),\n ('202341831114R01C01', '[A/G]', '18', '48557835'),\n ('202341831114R01C01', '[T/C]', '18', '49599222'),\n ('202341831114R01C01', '[A/G]', '18', '50673957'),\n ('202341831114R01C01', '[T/G]', '18', '5085923'),\n ('202341831114R01C01', '[A/G]', '18', '52049299'),\n ('202341831114R01C01', '[T/G]', '18', '52905690'),\n ('202341831114R01C01', '[A/C]', '18', '53291968'),\n ('202341831114R01C01', '[T/C]', '18', '53440837'),\n ('202341831114R01C01', '[A/G]', '18', '55081710'),\n ('202341831114R01C01', '[T/C]', '18', '55140163'),\n ('202341831114R01C01', '[A/G]', '18', '55184172'),\n ('202341831114R01C01', '[A/G]', '18', '5801938'),\n ('202341831114R01C01', '[T/G]', '18', '60232295'),\n ('202341831114R01C01', '[A/G]', '18', '60710802'),\n ('202341831114R01C01', '[T/G]', '18', '60736651'),\n ('202341831114R01C01', '[A/G]', '18', '60836032'),\n ('202341831114R01C01', '[A/G]', '18', '6565426'),\n ('202341831114R01C01', '[T/C]', '18', '6595066'),\n ('202341831114R01C01', '[T/C]', '18', '880306'),\n ('202341831114R01C01', '[A/G]', '18', '9514197'),\n ('202341831114R01C01', '[T/C]', '18', '9821264'),\n ('202341831114R01C01', '[G/C]', '0', '126183793'),\n ('202341831114R01C01', '[A/G]', '0', '3209227'),\n ('202341831114R01C01', '[A/G]', '0', '4090227'),\n ('202341831114R01C01', '[A/G]', '0', '4891536'),\n ('202341831114R01C01', '[T/C]', '0', '5191086'),\n ('202341831114R01C01', '[T/C]', '0', '845080'),\n ('202341831114R01C01', '[T/C]', '2', '10258539'),\n ('202341831114R01C01', '[A/G]', '2', '10745389'),\n ('202341831114R01C01', '[T/C]', '2', '112830937'),\n ('202341831114R01C01', '[A/C]', '2', '11374940'),\n ('202341831114R01C01', '[T/G]', '2', '11410581'),\n ('202341831114R01C01', '[T/C]', '2', '115215605'),\n ('202341831114R01C01', '[T/G]', '2', '115578347'),\n ('202341831114R01C01', '[A/G]', '2', '119833997'),\n ('202341831114R01C01', '[A/C]', '2', '11994295'),\n ('202341831114R01C01', '[T/C]', '2', '1200744'),\n ('202341831114R01C01', '[A/G]', '2', '130621165'),\n ('202341831114R01C01', '[T/G]', '2', '131397312'),\n ('202341831114R01C01', '[T/C]', '2', '133334925'),\n ('202341831114R01C01', '[T/C]', '2', '133796709'),\n ('202341831114R01C01', '[A/G]', '2', '13421574'),\n ('202341831114R01C01', '[C/G]', '2', '138069646'),\n ('202341831114R01C01', '[T/G]', '2', '138926958'),\n ('202341831114R01C01', '[A/C]', '2', '139035899'),\n ('202341831114R01C01', '[T/C]', '2', '139591532'),\n ('202341831114R01C01', '[T/C]', '2', '140674273'),\n ('202341831114R01C01', '[T/C]', '2', '141011695'),\n ('202341831114R01C01', '[A/G]', '2', '141139095'),\n ('202341831114R01C01', '[T/C]', '2', '142095926'),\n ('202341831114R01C01', '[A/G]', '2', '142254753'),\n ('202341831114R01C01', '[T/C]', '2', '143626845'),\n ('202341831114R01C01', '[A/G]', '2', '14573944'),\n ('202341831114R01C01', '[T/C]', '2', '146270347'),\n ('202341831114R01C01', '[A/G]', '2', '146322483'),\n ('202341831114R01C01', '[A/G]', '2', '146406794'),\n ('202341831114R01C01', '[T/C]', '2', '147647855'),\n ('202341831114R01C01', '[T/C]', '2', '148768880'),\n ('202341831114R01C01', '[A/G]', '2', '149483880'),\n ('202341831114R01C01', '[A/G]', '2', '149779489'),\n ('202341831114R01C01', '[T/C]', '2', '150242691'),\n ('202341831114R01C01', '[T/G]', '2', '150381092'),\n ('202341831114R01C01', '[T/G]', '2', '150836442'),\n ('202341831114R01C01', '[A/G]', '2', '156845774'),\n ('202341831114R01C01', '[T/G]', '2', '157669312'),\n ('202341831114R01C01', '[T/C]', '2', '157930001'),\n ('202341831114R01C01', '[A/G]', '2', '160652621'),\n ('202341831114R01C01', '[T/C]', '2', '160848748'),\n ('202341831114R01C01', '[T/G]', '2', '161686082'),\n ('202341831114R01C01', '[A/G]', '2', '17673217'),\n ('202341831114R01C01', '[T/C]', '2', '18361611'),\n ('202341831114R01C01', '[T/C]', '2', '19036577'),\n ('202341831114R01C01', '[A/C]', '2', '19143702'),\n ('202341831114R01C01', '[T/C]', '2', '26446884'),\n ('202341831114R01C01', '[T/G]', '2', '27642897'),\n ('202341831114R01C01', '[T/C]', '2', '29041727'),\n ('202341831114R01C01', '[A/G]', '2', '29071216'),\n ('202341831114R01C01', '[T/C]', '2', '29868268'),\n ('202341831114R01C01', '[A/G]', '2', '3145661'),\n ('202341831114R01C01', '[T/G]', '2', '3203612'),\n ('202341831114R01C01', '[A/G]', '2', '32547936'),\n ('202341831114R01C01', '[T/C]', '2', '3553794'),\n ('202341831114R01C01', '[A/G]', '2', '3890624'),\n ('202341831114R01C01', '[T/C]', '2', '42034664'),\n ('202341831114R01C01', '[A/G]', '2', '4576436'),\n ('202341831114R01C01', '[A/G]', '2', '46757158'),\n ('202341831114R01C01', '[A/G]', '2', '563882'),\n ('202341831114R01C01', '[A/C]', '2', '56804483'),\n ('202341831114R01C01', '[T/C]', '2', '6003224'),\n ('202341831114R01C01', '[A/G]', '2', '6397571'),\n ('202341831114R01C01', '[T/C]', '2', '6763542'),\n ('202341831114R01C01', '[T/C]', '2', '7126812'),\n ('202341831114R01C01', '[A/G]', '2', '72147745'),\n ('202341831114R01C01', '[T/C]', '2', '9384426'),\n ('202341831114R01C01', '[T/C]', '2', '9454081'),\n ('202341831114R01C01', '[T/C]', '3', '100390806'),\n ('202341831114R01C01', '[T/G]', '3', '1029690'),\n ('202341831114R01C01', '[A/G]', '3', '10461342'),\n ('202341831114R01C01', '[A/G]', '3', '10813310'),\n ('202341831114R01C01', '[A/G]', '3', '10998357'),\n ('202341831114R01C01', '[T/C]', '3', '11125927'),\n ('202341831114R01C01', '[T/G]', '3', '112923908'),\n ('202341831114R01C01', '[A/G]', '3', '11319861'),\n ('202341831114R01C01', '[A/G]', '3', '115294692'),\n ('202341831114R01C01', '[T/G]', '3', '11552126'),\n ('202341831114R01C01', '[T/C]', '3', '116550542'),\n ('202341831114R01C01', '[A/G]', '3', '118102178'),\n ('202341831114R01C01', '[T/C]', '3', '118522224'),\n ('202341831114R01C01', '[A/G]', '3', '119127400'),\n ('202341831114R01C01', '[A/G]', '3', '119509048'),\n ('202341831114R01C01', '[A/C]', '3', '120157245'),\n ('202341831114R01C01', '[T/G]', '3', '120252972'),\n ('202341831114R01C01', '[A/C]', '3', '124725950'),\n ('202341831114R01C01', '[A/G]', '3', '125867651'),\n ('202341831114R01C01', '[T/C]', '3', '126027049'),\n ('202341831114R01C01', '[T/C]', '3', '128776771'),\n ('202341831114R01C01', '[A/G]', '3', '13026823'),\n ('202341831114R01C01', '[A/G]', '3', '131031856'),\n ('202341831114R01C01', '[T/C]', '3', '13126628'),\n ('202341831114R01C01', '[T/C]', '3', '133649174'),\n ('202341831114R01C01', '[A/G]', '3', '133674177'),\n ('202341831114R01C01', '[T/C]', '3', '133824893'),\n ('202341831114R01C01', '[T/C]', '3', '134803687'),\n ('202341831114R01C01', '[T/C]', '3', '135167330'),\n ('202341831114R01C01', '[A/G]', '3', '135282002'),\n ('202341831114R01C01', '[A/G]', '3', '135610302'),\n ('202341831114R01C01', '[A/G]', '3', '137774186'),\n ('202341831114R01C01', '[A/G]', '3', '13874625'),\n ('202341831114R01C01', '[A/G]', '3', '1389228'),\n ('202341831114R01C01', '[A/G]', '3', '140499643'),\n ('202341831114R01C01', '[A/G]', '3', '140608341'),\n ('202341831114R01C01', '[T/C]', '3', '140662560'),\n ('202341831114R01C01', '[T/C]', '3', '140838022'),\n ('202341831114R01C01', '[A/G]', '3', '140895847'),\n ('202341831114R01C01', '[T/C]', '3', '141486147'),\n ('202341831114R01C01', '[A/G]', '3', '141722925'),\n ('202341831114R01C01', '[T/C]', '3', '144692210'),\n ('202341831114R01C01', '[T/G]', '3', '144704243'),\n ('202341831114R01C01', '[T/C]', '3', '144735589'),\n ('202341831114R01C01', '[T/C]', '3', '15588826'),\n ('202341831114R01C01', '[T/C]', '3', '1737255'),\n ('202341831114R01C01', '[T/C]', '3', '17721904'),\n ('202341831114R01C01', '[T/C]', '3', '18402383'),\n ('202341831114R01C01', '[T/G]', '3', '18615696'),\n ('202341831114R01C01', '[A/G]', '3', '2115261'),\n ('202341831114R01C01', '[T/C]', '3', '2186596'),\n ('202341831114R01C01', '[T/C]', '3', '2245945'),\n ('202341831114R01C01', '[T/G]', '3', '2267739'),\n ('202341831114R01C01', '[A/G]', '3', '255953'),\n ('202341831114R01C01', '[A/G]', '3', '2896639'),\n ('202341831114R01C01', '[A/G]', '3', '31375006'),\n ('202341831114R01C01', '[A/C]', '3', '3171187'),\n ('202341831114R01C01', '[A/G]', '3', '3390024'),\n ('202341831114R01C01', '[A/G]', '3', '34766244'),\n ('202341831114R01C01', '[T/C]', '3', '36770901'),\n ('202341831114R01C01', '[A/G]', '3', '37091911'),\n ('202341831114R01C01', '[A/G]', '3', '3746932'),\n ('202341831114R01C01', '[A/G]', '3', '3918766'),\n ('202341831114R01C01', '[A/G]', '3', '3981003'),\n ('202341831114R01C01', '[A/C]', '3', '413355'),\n ('202341831114R01C01', '[T/G]', '3', '45085135'),\n ('202341831114R01C01', '[T/C]', '3', '4692553'),\n ('202341831114R01C01', '[T/C]', '3', '4733469'),\n ('202341831114R01C01', '[A/G]', '3', '48612088'),\n ('202341831114R01C01', '[T/C]', '3', '50052074'),\n ('202341831114R01C01', '[T/C]', '3', '53184752'),\n ('202341831114R01C01', '[A/C]', '3', '54621531'),\n ('202341831114R01C01', '[A/G]', '3', '6702446'),\n ('202341831114R01C01', '[T/C]', '3', '67948880'),\n ('202341831114R01C01', '[A/C]', '3', '68763027'),\n ('202341831114R01C01', '[T/C]', '3', '7154143'),\n ('202341831114R01C01', '[T/C]', '3', '73930510'),\n ('202341831114R01C01', '[A/G]', '3', '747073'),\n ('202341831114R01C01', '[A/G]', '3', '7910826'),\n ('202341831114R01C01', '[T/G]', '3', '80530485'),\n ('202341831114R01C01', '[A/G]', '3', '9654135'),\n ('202341831114R01C01', '[T/C]', '3', '9689251'),\n ('202341831114R01C01', '[A/G]', '3', '9853222'),\n ('202341831114R01C01', '[T/C]', '3', '9872356'),\n ('202341831114R01C01', '[A/G]', '3', '99355861'),\n ('202341831114R01C01', '[T/C]', '3', '99440970'),\n ('202341831114R01C01', '[T/C]', '3', '99655709'),\n ('202341831114R01C01', '[T/C]', '4', '101320050'),\n ('202341831114R01C01', '[T/C]', '4', '101624287'),\n ('202341831114R01C01', '[A/G]', '4', '10376658'),\n ('202341831114R01C01', '[T/C]', '4', '10446275'),\n ('202341831114R01C01', '[T/C]', '4', '113564362'),\n ('202341831114R01C01', '[A/G]', '4', '115184315'),\n ('202341831114R01C01', '[T/C]', '4', '118685497'),\n ('202341831114R01C01', '[A/G]', '4', '118902536'),\n ('202341831114R01C01', '[T/C]', '4', '121830136'),\n ('202341831114R01C01', '[T/C]', '4', '126791679'),\n ('202341831114R01C01', '[A/G]', '4', '129089409'),\n ('202341831114R01C01', '[A/G]', '4', '130995037'),\n ('202341831114R01C01', '[A/G]', '4', '131768963'),\n ('202341831114R01C01', '[T/C]', '4', '132938425'),\n ('202341831114R01C01', '[A/G]', '4', '133002201'),\n ('202341831114R01C01', '[A/G]', '4', '1347741'),\n ('202341831114R01C01', '[A/G]', '4', '135253669'),\n ('202341831114R01C01', '[T/G]', '4', '138200483'),\n ('202341831114R01C01', '[A/C]', '4', '138417207'),\n ('202341831114R01C01', '[T/C]', '4', '138967618'),\n ('202341831114R01C01', '[A/G]', '4', '142652995'),\n ('202341831114R01C01', '[A/G]', '4', '143367914'),\n ('202341831114R01C01', '[T/C]', '4', '14793774'),\n ('202341831114R01C01', '[A/G]', '4', '1537392'),\n ('202341831114R01C01', '[T/G]', '4', '16712711'),\n ('202341831114R01C01', '[T/C]', '4', '17273857'),\n ('202341831114R01C01', '[A/C]', '4', '1956646'),\n ('202341831114R01C01', '[A/G]', '4', '19721814'),\n ('202341831114R01C01', '[A/C]', '4', '21203790'),\n ('202341831114R01C01', '[A/G]', '4', '23119231'),\n ('202341831114R01C01', '[A/G]', '4', '2458807'),\n ('202341831114R01C01', '[A/C]', '4', '2643140'),\n ('202341831114R01C01', '[A/C]', '4', '2969537'),\n ('202341831114R01C01', '[T/G]', '4', '31093152'),\n ('202341831114R01C01', '[A/G]', '4', '3441707'),\n ('202341831114R01C01', '[T/C]', '4', '37001131'),\n ('202341831114R01C01', '[A/G]', '4', '37406737'),\n ('202341831114R01C01', '[T/C]', '4', '3755685'),\n ('202341831114R01C01', '[A/G]', '4', '3909286'),\n ('202341831114R01C01', '[A/G]', '4', '4515815'),\n ('202341831114R01C01', '[A/G]', '4', '5834157'),\n ('202341831114R01C01', '[T/G]', '4', '6041123'),\n ('202341831114R01C01', '[T/C]', '4', '6601590'),\n ('202341831114R01C01', '[T/C]', '4', '66765999'),\n ('202341831114R01C01', '[T/C]', '4', '8311957'),\n ('202341831114R01C01', '[A/G]', '4', '86583962'),\n ('202341831114R01C01', '[T/G]', '4', '87572149'),\n ('202341831114R01C01', '[T/C]', '4', '90027161'),\n ('202341831114R01C01', '[T/C]', '4', '90478510'),\n ('202341831114R01C01', '[A/G]', '4', '9529949'),\n ('202341831114R01C01', '[T/G]', '4', '96337082'),\n ('202341831114R01C01', '[A/G]', '4', '96887568'),\n ('202341831114R01C01', '[A/G]', '4', '99762863'),\n ('202341831114R01C01', '[T/C]', '4', '99974430'),\n ('202341831114R01C01', '[A/G]', '5', '100875204'),\n ('202341831114R01C01', '[A/G]', '5', '102218316'),\n ('202341831114R01C01', '[A/G]', '5', '108321141'),\n ('202341831114R01C01', '[A/G]', '5', '111205014'),\n ('202341831114R01C01', '[A/G]', '5', '111393587'),\n ('202341831114R01C01', '[A/G]', '5', '11145145'),\n ('202341831114R01C01', '[A/G]', '5', '11281543'),\n ('202341831114R01C01', '[A/G]', '5', '13521754'),\n ('202341831114R01C01', '[T/G]', '5', '15600676'),\n ('202341831114R01C01', '[T/C]', '5', '15929693'),\n ('202341831114R01C01', '[T/C]', '5', '17066579'),\n ('202341831114R01C01', '[T/C]', '5', '1712710'),\n ('202341831114R01C01', '[T/C]', '5', '17431013'),\n ('202341831114R01C01', '[A/C]', '5', '17677672'),\n ('202341831114R01C01', '[T/C]', '5', '18104190'),\n ('202341831114R01C01', '[A/G]', '5', '18214612'),\n ('202341831114R01C01', '[A/G]', '5', '2165257'),\n ('202341831114R01C01', '[T/C]', '5', '22828891'),\n ('202341831114R01C01', '[A/C]', '5', '4134274'),\n ('202341831114R01C01', '[A/G]', '5', '5217902'),\n ('202341831114R01C01', '[A/C]', '5', '5257154'),\n ('202341831114R01C01', '[T/C]', '5', '54701338'),\n ('202341831114R01C01', '[A/G]', '5', '56929327'),\n ('202341831114R01C01', '[T/C]', '5', '60042319'),\n ('202341831114R01C01', '[A/G]', '5', '6139359'),\n ('202341831114R01C01', '[A/G]', '5', '63236697'),\n ('202341831114R01C01', '[A/G]', '5', '64522995'),\n ('202341831114R01C01', '[A/G]', '5', '67257457'),\n ('202341831114R01C01', '[T/C]', '5', '67849540'),\n ('202341831114R01C01', '[A/G]', '5', '67933746'),\n ('202341831114R01C01', '[A/G]', '5', '7028448'),\n ('202341831114R01C01', '[A/G]', '5', '72934828'),\n ('202341831114R01C01', '[A/G]', '5', '775856'),\n ('202341831114R01C01', '[A/G]', '5', '7820336'),\n ('202341831114R01C01', '[T/C]', '5', '7871294'),\n ('202341831114R01C01', '[T/C]', '5', '79136237'),\n ('202341831114R01C01', '[T/C]', '5', '80200432'),\n ('202341831114R01C01', '[A/G]', '5', '81434782'),\n ('202341831114R01C01', '[A/G]', '5', '8617350'),\n ('202341831114R01C01', '[T/C]', '5', '87546330'),\n ('202341831114R01C01', '[A/G]', '5', '87842703'),\n ('202341831114R01C01', '[T/C]', '5', '89676486'),\n ('202341831114R01C01', '[T/C]', '5', '9006723'),\n ('202341831114R01C01', '[A/G]', '5', '9113980'),\n ('202341831114R01C01', '[A/G]', '5', '93709765'),\n ('202341831114R01C01', '[T/C]', '5', '95218315'),\n ('202341831114R01C01', '[A/C]', '5', '97829167'),\n ('202341831114R01C01', '[T/C]', '6', '10240460'),\n ('202341831114R01C01', '[T/G]', '6', '1104598'),\n ('202341831114R01C01', '[A/G]', '6', '110731319'),\n ('202341831114R01C01', '[T/C]', '6', '114615391'),\n ('202341831114R01C01', '[A/G]', '6', '125753235'),\n ('202341831114R01C01', '[T/G]', '6', '128219920'),\n ('202341831114R01C01', '[T/C]', '6', '129047411'),\n ('202341831114R01C01', '[T/G]', '6', '131564469'),\n ('202341831114R01C01', '[A/G]', '6', '132932494'),\n ('202341831114R01C01', '[T/G]', '6', '133233252'),\n ('202341831114R01C01', '[T/C]', '6', '134158325'),\n ('202341831114R01C01', '[A/G]', '6', '134941170'),\n ('202341831114R01C01', '[A/G]', '6', '138364034'),\n ('202341831114R01C01', '[A/G]', '6', '138512254'),\n ('202341831114R01C01', '[A/G]', '6', '140149243'),\n ('202341831114R01C01', '[A/G]', '6', '140761520'),\n ('202341831114R01C01', '[T/C]', '6', '140992054'),\n ('202341831114R01C01', '[A/G]', '6', '141397406'),\n ('202341831114R01C01', '[A/G]', '6', '142147253'),\n ('202341831114R01C01', '[A/G]', '6', '142358622'),\n ('202341831114R01C01', '[A/G]', '6', '142569873'),\n ('202341831114R01C01', '[T/C]', '6', '145009479'),\n ('202341831114R01C01', '[T/G]', '6', '14572161'),\n ('202341831114R01C01', '[A/G]', '6', '146016471'),\n ('202341831114R01C01', '[A/C]', '6', '146484348'),\n ('202341831114R01C01', '[T/C]', '6', '148262477'),\n ('202341831114R01C01', '[T/C]', '6', '148919174'),\n ('202341831114R01C01', '[T/C]', '6', '15044838'),\n ('202341831114R01C01', '[A/G]', '6', '151345850'),\n ('202341831114R01C01', '[A/G]', '6', '151551333'),\n ('202341831114R01C01', '[T/C]', '6', '152677547'),\n ('202341831114R01C01', '[T/C]', '6', '153421291'),\n ('202341831114R01C01', '[T/C]', '6', '153887342'),\n ('202341831114R01C01', '[A/C]', '6', '154032483'),\n ('202341831114R01C01', '[T/C]', '6', '156114137'),\n ('202341831114R01C01', '[T/C]', '6', '17389238'),\n ('202341831114R01C01', '[T/C]', '6', '1775500'),\n ('202341831114R01C01', '[T/C]', '6', '1790416'),\n ('202341831114R01C01', '[T/C]', '6', '18502482'),\n ('202341831114R01C01', '[T/C]', '6', '1857083'),\n ('202341831114R01C01', '[T/C]', '6', '18926943'),\n ('202341831114R01C01', '[T/G]', '6', '19041900'),\n ('202341831114R01C01', '[T/C]', '6', '2077458'),\n ('202341831114R01C01', '[T/G]', '6', '2089875'),\n ('202341831114R01C01', '[T/C]', '6', '23290244'),\n ('202341831114R01C01', '[A/C]', '6', '25709468'),\n ('202341831114R01C01', '[A/G]', '6', '2594634'),\n ('202341831114R01C01', '[T/C]', '6', '26655079'),\n ('202341831114R01C01', '[A/G]', '6', '2687731'),\n ('202341831114R01C01', '[A/C]', '6', '2706085'),\n ('202341831114R01C01', '[T/C]', '6', '2729166'),\n ('202341831114R01C01', '[T/C]', '6', '30339179'),\n ('202341831114R01C01', '[T/C]', '6', '30442587'),\n ('202341831114R01C01', '[T/C]', '6', '30855673'),\n ('202341831114R01C01', '[T/C]', '6', '31244598'),\n ('202341831114R01C01', '[A/G]', '6', '33037837'),\n ('202341831114R01C01', '[T/C]', '6', '35380772'),\n ('202341831114R01C01', '[T/C]', '6', '35438842'),\n ('202341831114R01C01', '[T/C]', '6', '3548563'),\n ('202341831114R01C01', '[T/C]', '6', '35497900'),\n ('202341831114R01C01', '[A/G]', '6', '35786427'),\n ('202341831114R01C01', '[A/G]', '6', '36363935'),\n ('202341831114R01C01', '[A/C]', '6', '36856633'),\n ('202341831114R01C01', '[A/C]', '6', '37390283'),\n ('202341831114R01C01', '[T/C]', '6', '38280016'),\n ('202341831114R01C01', '[T/G]', '6', '3868243'),\n ('202341831114R01C01', '[T/G]', '6', '39108493'),\n ('202341831114R01C01', '[A/G]', '6', '39449526'),\n ('202341831114R01C01', '[A/G]', '6', '39730770'),\n ('202341831114R01C01', '[T/C]', '6', '39773090'),\n ('202341831114R01C01', '[A/G]', '6', '40106594'),\n ('202341831114R01C01', '[A/G]', '6', '42837939'),\n ('202341831114R01C01', '[A/G]', '6', '43031042'),\n ('202341831114R01C01', '[A/G]', '6', '43731895'),\n ('202341831114R01C01', '[T/C]', '6', '4506300'),\n ('202341831114R01C01', '[A/C]', '6', '4636397'),\n ('202341831114R01C01', '[A/G]', '6', '5147223'),\n ('202341831114R01C01', '[T/C]', '6', '534430'),\n ('202341831114R01C01', '[T/C]', '6', '57167528'),\n ('202341831114R01C01', '[T/C]', '6', '57741392'),\n ('202341831114R01C01', '[A/G]', '6', '58037295'),\n ('202341831114R01C01', '[T/C]', '6', '58424941'),\n ('202341831114R01C01', '[T/C]', '6', '58753925'),\n ('202341831114R01C01', '[A/G]', '6', '59527435'),\n ('202341831114R01C01', '[T/C]', '6', '59569487'),\n ('202341831114R01C01', '[T/C]', '6', '61039097'),\n ('202341831114R01C01', '[A/G]', '6', '61837722'),\n ('202341831114R01C01', '[T/C]', '6', '61980526'),\n ('202341831114R01C01', '[T/C]', '6', '62303692'),\n ('202341831114R01C01', '[T/G]', '6', '64254696'),\n ('202341831114R01C01', '[T/C]', '6', '65034833'),\n ('202341831114R01C01', '[T/C]', '6', '66655005'),\n ('202341831114R01C01', '[A/G]', '6', '66678674'),\n ('202341831114R01C01', '[A/G]', '6', '67574712'),\n ('202341831114R01C01', '[A/G]', '6', '7108333'),\n ('202341831114R01C01', '[A/C]', '6', '7187864'),\n ('202341831114R01C01', '[A/G]', '6', '7399896'),\n ('202341831114R01C01', '[A/G]', '6', '742969'),\n ('202341831114R01C01', '[T/C]', '6', '75652532'),\n ('202341831114R01C01', '[T/C]', '6', '77344778'),\n ('202341831114R01C01', '[A/G]', '6', '81478105'),\n ('202341831114R01C01', '[A/G]', '6', '81879368'),\n ('202341831114R01C01', '[T/C]', '6', '82993763'),\n ('202341831114R01C01', '[T/C]', '6', '83501092'),\n ('202341831114R01C01', '[T/G]', '6', '87908433'),\n ('202341831114R01C01', '[A/G]', '6', '89869256'),\n ('202341831114R01C01', '[A/G]', '6', '90539828'),\n ('202341831114R01C01', '[T/C]', '6', '9774019'),\n ('202341831114R01C01', '[A/C]', '7', '101815318'),\n ('202341831114R01C01', '[T/G]', '7', '10227945'),\n ('202341831114R01C01', '[T/C]', '7', '10598851'),\n ('202341831114R01C01', '[A/G]', '7', '10823520'),\n ('202341831114R01C01', '[T/C]', '7', '109118037'),\n ('202341831114R01C01', '[A/G]', '7', '11356097'),\n ('202341831114R01C01', '[T/C]', '7', '113760803'),\n ('202341831114R01C01', '[A/G]', '7', '116117286'),\n ('202341831114R01C01', '[A/G]', '7', '116186460'),\n ('202341831114R01C01', '[T/G]', '7', '116213621'),\n ('202341831114R01C01', '[T/G]', '7', '116863610'),\n ('202341831114R01C01', '[A/G]', '7', '116921035'),\n ('202341831114R01C01', '[T/C]', '7', '117384001'),\n ('202341831114R01C01', '[T/C]', '7', '117431836'),\n ('202341831114R01C01', '[T/C]', '7', '117786299'),\n ('202341831114R01C01', '[T/C]', '7', '118187084'),\n ('202341831114R01C01', '[A/G]', '7', '121668940'),\n ('202341831114R01C01', '[A/G]', '7', '12258174'),\n ('202341831114R01C01', '[A/G]', '7', '122986020'),\n ('202341831114R01C01', '[A/G]', '7', '123243053'),\n ('202341831114R01C01', '[A/G]', '7', '123798255'),\n ('202341831114R01C01', '[T/C]', '7', '123911352'),\n ('202341831114R01C01', '[A/G]', '7', '128144872'),\n ('202341831114R01C01', '[T/C]', '7', '130234958'),\n ('202341831114R01C01', '[A/G]', '7', '134762912'),\n ('202341831114R01C01', '[T/C]', '7', '13861618'),\n ('202341831114R01C01', '[T/C]', '7', '1548942'),\n ('202341831114R01C01', '[A/G]', '7', '19031837'),\n ('202341831114R01C01', '[A/G]', '7', '25362080'),\n ('202341831114R01C01', '[T/C]', '7', '27004047'),\n ('202341831114R01C01', '[A/G]', '7', '3117029'),\n ('202341831114R01C01', '[A/G]', '7', '36128459'),\n ('202341831114R01C01', '[T/C]', '7', '36746843'),\n ('202341831114R01C01', '[T/C]', '7', '41530649'),\n ('202341831114R01C01', '[A/G]', '7', '46842917'),\n ('202341831114R01C01', '[A/G]', '7', '47239016'),\n ('202341831114R01C01', '[T/C]', '7', '47475050'),\n ('202341831114R01C01', '[A/G]', '7', '48333670'),\n ('202341831114R01C01', '[T/G]', '7', '49851076'),\n ('202341831114R01C01', '[T/C]', '7', '58103527'),\n ('202341831114R01C01', '[T/C]', '7', '67038250'),\n ('202341831114R01C01', '[A/C]', '7', '88026734'),\n ('202341831114R01C01', '[A/G]', '7', '95445510'),\n ('202341831114R01C01', '[A/G]', '7', '99613149'),\n ('202341831114R01C01', '[A/G]', '8', '105142214'),\n ('202341831114R01C01', '[A/G]', '8', '11085484'),\n ('202341831114R01C01', '[T/G]', '8', '115156757'),\n ('202341831114R01C01', '[T/C]', '8', '116482035'),\n ('202341831114R01C01', '[A/G]', '8', '11760068'),\n ('202341831114R01C01', '[T/C]', '8', '120655475'),\n ('202341831114R01C01', '[A/G]', '8', '120684402'),\n ('202341831114R01C01', '[T/C]', '8', '120901808'),\n ('202341831114R01C01', '[A/C]', '8', '12231894'),\n ('202341831114R01C01', '[T/C]', '8', '125811463'),\n ('202341831114R01C01', '[A/G]', '8', '126727629'),\n ('202341831114R01C01', '[A/G]', '8', '129102150'),\n ('202341831114R01C01', '[A/G]', '8', '129659040'),\n ('202341831114R01C01', '[A/G]', '8', '130672174'),\n ('202341831114R01C01', '[A/G]', '8', '130734412'),\n ('202341831114R01C01', '[T/C]', '8', '130930399'),\n ('202341831114R01C01', '[T/C]', '8', '135432861'),\n ('202341831114R01C01', '[T/C]', '8', '136076149'),\n ('202341831114R01C01', '[A/G]', '8', '136710054'),\n ('202341831114R01C01', '[T/C]', '8', '140334302'),\n ('202341831114R01C01', '[T/G]', '8', '141634500'),\n ('202341831114R01C01', '[T/C]', '8', '141708771'),\n ('202341831114R01C01', '[A/C]', '8', '141923418'),\n ('202341831114R01C01', '[A/G]', '8', '142317746'),\n ('202341831114R01C01', '[T/C]', '8', '144744932'),\n ('202341831114R01C01', '[T/C]', '8', '19204012'),\n ('202341831114R01C01', '[T/C]', '8', '2293129'),\n ('202341831114R01C01', '[T/C]', '8', '2399360'),\n ('202341831114R01C01', '[A/G]', '8', '2829905'),\n ('202341831114R01C01', '[A/G]', '8', '30567639'),\n ('202341831114R01C01', '[T/C]', '8', '3109074'),\n ('202341831114R01C01', '[T/C]', '8', '3557192'),\n ('202341831114R01C01', '[T/C]', '8', '35595756'),\n ('202341831114R01C01', '[T/C]', '8', '3680248'),\n ('202341831114R01C01', '[T/C]', '8', '38607318'),\n ('202341831114R01C01', '[A/G]', '8', '4226846'),\n ('202341831114R01C01', '[T/C]', '8', '4376061'),\n ('202341831114R01C01', '[T/G]', '8', '4430777'),\n ('202341831114R01C01', '[T/C]', '8', '45720135'),\n ('202341831114R01C01', '[T/G]', '8', '48032802'),\n ('202341831114R01C01', '[A/G]', '8', '5540000'),\n ('202341831114R01C01', '[A/G]', '8', '70332752'),\n ('202341831114R01C01', '[A/G]', '8', '75465041'),\n ('202341831114R01C01', '[T/G]', '8', '76175513'),\n ('202341831114R01C01', '[T/C]', '8', '77210167'),\n ('202341831114R01C01', '[T/C]', '8', '78496996'),\n ('202341831114R01C01', '[A/C]', '8', '78738796'),\n ('202341831114R01C01', '[T/G]', '8', '7910433'),\n ('202341831114R01C01', '[A/G]', '8', '79861137'),\n ('202341831114R01C01', '[A/G]', '8', '79996610'),\n ('202341831114R01C01', '[T/C]', '8', '8573854'),\n ('202341831114R01C01', '[T/G]', '8', '8795393'),\n ('202341831114R01C01', '[A/G]', '8', '88264735'),\n ('202341831114R01C01', '[A/G]', '8', '92407'),\n ('202341831114R01C01', '[T/C]', '8', '9748482'),\n ('202341831114R01C01', '[A/G]', '8', '996018'),\n ('202341831114R01C01', '[A/G]', '9', '104386933'),\n ('202341831114R01C01', '[A/G]', '9', '105318148'),\n ...]"
     },
     "execution_count": 37,
     "metadata": {},
     "output_type": "execute_result"
    }
   ],
   "source": [
    "select_query = \"\"\"\n",
    "                SELECT \"Sample ID\", SNP, Chr, Position\n",
    "                FROM genstudio\n",
    "                WHERE \"GC score\" >= 0.5\n",
    "\t\t\t\t\"\"\"\n",
    "connection.execute(select_query).fetchall()"
   ],
   "metadata": {
    "collapsed": false,
    "pycharm": {
     "name": "#%%\n"
    }
   }
  },
  {
   "cell_type": "markdown",
   "source": [
    "**Selecting data from joined db**"
   ],
   "metadata": {
    "collapsed": false
   }
  },
  {
   "cell_type": "code",
   "execution_count": 36,
   "outputs": [
    {
     "data": {
      "text/plain": "[('202341831114R01C01', 0.0, 'Д'),\n ('202341831114R01C01', 0.8272, 'Д'),\n ('202341831114R01C01', 0.8316, 'Д'),\n ('202341831114R01C01', 0.3781, 'Д'),\n ('202341831114R01C01', 0.9038, 'Д'),\n ('202341831114R01C01', 0.9043, 'Д'),\n ('202341831114R01C01', 0.2429, 'Д'),\n ('202341831114R01C01', 0.0, 'Д'),\n ('202341831114R01C01', 0.8237, 'Д'),\n ('202341831114R01C01', 0.9271, 'Д'),\n ('202341831114R01C01', 0.8944, 'Д'),\n ('202341831114R01C01', 0.8973, 'Д'),\n ('202341831114R01C01', 0.87, 'Д'),\n ('202341831114R01C01', 0.957, 'Д'),\n ('202341831114R01C01', 0.2154, 'Д'),\n ('202341831114R01C01', 0.7977, 'Д'),\n ('202341831114R01C01', 0.7128, 'Д'),\n ('202341831114R01C01', 0.4271, 'Д'),\n ('202341831114R01C01', 0.9383, 'Д'),\n ('202341831114R01C01', 0.7609999999999999, 'Д'),\n ('202341831114R01C01', 0.0, 'Д'),\n ('202341831114R01C01', 0.0, 'Д'),\n ('202341831114R01C01', 0.8919, 'Д'),\n ('202341831114R01C01', 0.5483, 'Д'),\n ('202341831114R01C01', 0.0, 'Д'),\n ('202341831114R01C01', 0.9298, 'Д'),\n ('202341831114R01C01', 0.6431, 'Д'),\n ('202341831114R01C01', 0.0, 'Д'),\n ('202341831114R01C01', 0.8959999999999999, 'Д'),\n ('202341831114R01C01', 0.7358, 'Д'),\n ('202341831114R01C01', 0.8184, 'Д'),\n ('202341831114R01C01', 0.0, 'Д'),\n ('202341831114R01C01', 0.3122, 'Д'),\n ('202341831114R01C01', 0.2122, 'Д'),\n ('202341831114R01C01', 0.5757, 'Д'),\n ('202341831114R01C01', 0.0, 'Д'),\n ('202341831114R01C01', 0.0, 'Д'),\n ('202341831114R01C01', 0.5469, 'Д'),\n ('202341831114R01C01', 0.0, 'Д'),\n ('202341831114R01C01', 0.8270000000000001, 'Д'),\n ('202341831114R01C01', 0.8478, 'Д'),\n ('202341831114R01C01', 0.2785, 'Д'),\n ('202341831114R01C01', 0.3987, 'Д'),\n ('202341831114R01C01', 0.8576, 'Д'),\n ('202341831114R01C01', 0.8637, 'Д'),\n ('202341831114R01C01', 0.8553, 'Д'),\n ('202341831114R01C01', 0.0, 'Д'),\n ('202341831114R01C01', 0.8320000000000001, 'Д'),\n ('202341831114R01C01', 0.21, 'Д'),\n ('202341831114R01C01', 0.0, 'Д'),\n ('202341831114R01C01', 0.2036, 'Д'),\n ('202341831114R01C01', 0.2035, 'Д'),\n ('202341831114R01C01', 0.0, 'Д'),\n ('202341831114R01C01', 0.7088, 'Д'),\n ('202341831114R01C01', 0.8593, 'Д'),\n ('202341831114R01C01', 0.9061, 'Д'),\n ('202341831114R01C01', 0.2399, 'Д'),\n ('202341831114R01C01', 0.7107, 'Д'),\n ('202341831114R01C01', 0.6811, 'Д'),\n ('202341831114R01C01', 0.7004, 'Д'),\n ('202341831114R01C01', 0.7678, 'Д'),\n ('202341831114R01C01', 0.9501, 'Д'),\n ('202341831114R01C01', 0.9247, 'Д'),\n ('202341831114R01C01', 0.0, 'Д'),\n ('202341831114R01C01', 0.2193, 'Д'),\n ('202341831114R01C01', 0.2518, 'Д'),\n ('202341831114R01C01', 0.9395, 'Д'),\n ('202341831114R01C01', 0.2798, 'Д'),\n ('202341831114R01C01', 0.3529, 'Д'),\n ('202341831114R01C01', 0.944, 'Д'),\n ('202341831114R01C01', 0.8201, 'Д'),\n ('202341831114R01C01', 0.3905, 'Д'),\n ('202341831114R01C01', 0.8835, 'Д'),\n ('202341831114R01C01', 0.0, 'Д'),\n ('202341831114R01C01', 0.0, 'Д'),\n ('202341831114R01C01', 0.8928, 'Д'),\n ('202341831114R01C01', 0.9191, 'Д'),\n ('202341831114R01C01', 0.2358, 'Д'),\n ('202341831114R01C01', 0.0, 'Д'),\n ('202341831114R01C01', 0.9337, 'Д'),\n ('202341831114R01C01', 0.0, 'Д'),\n ('202341831114R01C01', 0.58, 'Д'),\n ('202341831114R01C01', 0.8848, 'Д'),\n ('202341831114R01C01', 0.9154, 'Д'),\n ('202341831114R01C01', 0.0, 'Д'),\n ('202341831114R01C01', 0.0, 'Д'),\n ('202341831114R01C01', 0.2092, 'Д'),\n ('202341831114R01C01', 0.8404, 'Д'),\n ('202341831114R01C01', 0.0, 'Д'),\n ('202341831114R01C01', 0.9065, 'Д'),\n ('202341831114R01C01', 0.2035, 'Д'),\n ('202341831114R01C01', 0.0, 'Д'),\n ('202341831114R01C01', 0.8902, 'Д'),\n ('202341831114R01C01', 0.0, 'Д'),\n ('202341831114R01C01', 0.7871, 'Д'),\n ('202341831114R01C01', 0.0, 'Д'),\n ('202341831114R01C01', 0.9298, 'Д'),\n ('202341831114R01C01', 0.9463, 'Д'),\n ('202341831114R01C01', 0.0, 'Д'),\n ('202341831114R01C01', 0.7139, 'Д'),\n ('202341831114R01C01', 0.8393, 'Д'),\n ('202341831114R01C01', 0.8842, 'Д'),\n ('202341831114R01C01', 0.2035, 'Д'),\n ('202341831114R01C01', 0.4224, 'Д'),\n ('202341831114R01C01', 0.4979, 'Д'),\n ('202341831114R01C01', 0.8737, 'Д'),\n ('202341831114R01C01', 0.7834, 'Д'),\n ('202341831114R01C01', 0.8222, 'Д'),\n ('202341831114R01C01', 0.8991, 'Д'),\n ('202341831114R01C01', 0.777, 'Д'),\n ('202341831114R01C01', 0.9492, 'Д'),\n ('202341831114R01C01', 0.4104, 'Д'),\n ('202341831114R01C01', 0.0, 'Д'),\n ('202341831114R01C01', 0.5365, 'Д'),\n ('202341831114R01C01', 0.0, 'Д'),\n ('202341831114R01C01', 0.9541, 'Д'),\n ('202341831114R01C01', 0.6254, 'Д'),\n ('202341831114R01C01', 0.8842, 'Д'),\n ('202341831114R01C01', 0.7402, 'Д'),\n ('202341831114R01C01', 0.0, 'Д'),\n ('202341831114R01C01', 0.3264, 'Д'),\n ('202341831114R01C01', 0.7657, 'Д'),\n ('202341831114R01C01', 0.9592, 'Д'),\n ('202341831114R01C01', 0.0, 'Д'),\n ('202341831114R01C01', 0.8817, 'Д'),\n ('202341831114R01C01', 0.9162, 'Д'),\n ('202341831114R01C01', 0.0, 'Д'),\n ('202341831114R01C01', 0.0, 'Д'),\n ('202341831114R01C01', 0.7833, 'Д'),\n ('202341831114R01C01', 0.9043, 'Д'),\n ('202341831114R01C01', 0.4723, 'Д'),\n ('202341831114R01C01', 0.0, 'Д'),\n ('202341831114R01C01', 0.0, 'Д'),\n ('202341831114R01C01', 0.8442, 'Д'),\n ('202341831114R01C01', 0.0, 'Д'),\n ('202341831114R01C01', 0.0, 'Д'),\n ('202341831114R01C01', 0.0, 'Д'),\n ('202341831114R01C01', 0.9517, 'Д'),\n ('202341831114R01C01', 0.0, 'Д'),\n ('202341831114R01C01', 0.4603, 'Д'),\n ('202341831114R01C01', 0.8903, 'Д'),\n ('202341831114R01C01', 0.0, 'Д'),\n ('202341831114R01C01', 0.8074, 'Д'),\n ('202341831114R01C01', 0.2052, 'Д'),\n ('202341831114R01C01', 0.0, 'Д'),\n ('202341831114R01C01', 0.0, 'Д'),\n ('202341831114R01C01', 0.8339, 'Д'),\n ('202341831114R01C01', 0.8192, 'Д'),\n ('202341831114R01C01', 0.0, 'Д'),\n ('202341831114R01C01', 0.8969, 'Д'),\n ('202341831114R01C01', 0.2722, 'Д'),\n ('202341831114R01C01', 0.0, 'Д'),\n ('202341831114R01C01', 0.2379, 'Д'),\n ('202341831114R01C01', 0.3829, 'Д'),\n ('202341831114R01C01', 0.9174, 'Д'),\n ('202341831114R01C01', 0.7635, 'Д'),\n ('202341831114R01C01', 0.8541, 'Д'),\n ('202341831114R01C01', 0.0, 'Д'),\n ('202341831114R01C01', 0.0, 'Д'),\n ('202341831114R01C01', 0.2429, 'Д'),\n ('202341831114R01C01', 0.848, 'Д'),\n ('202341831114R01C01', 0.7459, 'Д'),\n ('202341831114R01C01', 0.9528, 'Д'),\n ('202341831114R01C01', 0.2379, 'Д'),\n ('202341831114R01C01', 0.6658, 'Д'),\n ('202341831114R01C01', 0.7841, 'Д'),\n ('202341831114R01C01', 0.7636, 'Д'),\n ('202341831114R01C01', 0.7962, 'Д'),\n ('202341831114R01C01', 0.0, 'Д'),\n ('202341831114R01C01', 0.6237, 'Д'),\n ('202341831114R01C01', 0.9346, 'Д'),\n ('202341831114R01C01', 0.2199, 'Д'),\n ('202341831114R01C01', 0.0, 'Д'),\n ('202341831114R01C01', 0.8531, 'Д'),\n ('202341831114R01C01', 0.3271, 'Д'),\n ('202341831114R01C01', 0.6478, 'Д'),\n ('202341831114R01C01', 0.7978, 'Д'),\n ('202341831114R01C01', 0.2268, 'Д'),\n ('202341831114R01C01', 0.7482, 'Д'),\n ('202341831114R01C01', 0.9399, 'Д'),\n ('202341831114R01C01', 0.8126, 'Д'),\n ('202341831114R01C01', 0.2371, 'Д'),\n ('202341831114R01C01', 0.0, 'Д'),\n ('202341831114R01C01', 0.0, 'Д'),\n ('202341831114R01C01', 0.69, 'Д'),\n ('202341831114R01C01', 0.0, 'Д'),\n ('202341831114R01C01', 0.0, 'Д'),\n ('202341831114R01C01', 0.7816, 'Д'),\n ('202341831114R01C01', 0.7376, 'Д'),\n ('202341831114R01C01', 0.8465, 'Д'),\n ('202341831114R01C01', 0.0, 'Д'),\n ('202341831114R01C01', 0.7252, 'Д'),\n ('202341831114R01C01', 0.8328, 'Д'),\n ('202341831114R01C01', 0.0, 'Д'),\n ('202341831114R01C01', 0.9412, 'Д'),\n ('202341831114R01C01', 0.0, 'Д'),\n ('202341831114R01C01', 0.8672, 'Д'),\n ('202341831114R01C01', 0.6256, 'Д'),\n ('202341831114R01C01', 0.9011, 'Д'),\n ('202341831114R01C01', 0.3221, 'Д'),\n ('202341831114R01C01', 0.3476, 'Д'),\n ('202341831114R01C01', 0.6723, 'Д'),\n ('202341831114R01C01', 0.7917, 'Д'),\n ('202341831114R01C01', 0.225, 'Д'),\n ('202341831114R01C01', 0.5275, 'Д'),\n ('202341831114R01C01', 0.8873, 'Д'),\n ('202341831114R01C01', 0.9218, 'Д'),\n ('202341831114R01C01', 0.6632, 'Д'),\n ('202341831114R01C01', 0.8639, 'Д'),\n ('202341831114R01C01', 0.3351, 'Д'),\n ('202341831114R01C01', 0.9206, 'Д'),\n ('202341831114R01C01', 0.8326, 'Д'),\n ('202341831114R01C01', 0.8666, 'Д'),\n ('202341831114R01C01', 0.7871, 'Д'),\n ('202341831114R01C01', 0.7519, 'Д'),\n ('202341831114R01C01', 0.0, 'Д'),\n ('202341831114R01C01', 0.0, 'Д'),\n ('202341831114R01C01', 0.9137, 'Д'),\n ('202341831114R01C01', 0.8533, 'Д'),\n ('202341831114R01C01', 0.0, 'Д'),\n ('202341831114R01C01', 0.889, 'Д'),\n ('202341831114R01C01', 0.0, 'Д'),\n ('202341831114R01C01', 0.7959, 'Д'),\n ('202341831114R01C01', 0.7919, 'Д'),\n ('202341831114R01C01', 0.5137, 'Д'),\n ('202341831114R01C01', 0.935, 'Д'),\n ('202341831114R01C01', 0.8009999999999999, 'Д'),\n ('202341831114R01C01', 0.0, 'Д'),\n ('202341831114R01C01', 0.9332, 'Д'),\n ('202341831114R01C01', 0.0, 'Д'),\n ('202341831114R01C01', 0.0, 'Д'),\n ('202341831114R01C01', 0.8196, 'Д'),\n ('202341831114R01C01', 0.8342, 'Д'),\n ('202341831114R01C01', 0.9528, 'Д'),\n ('202341831114R01C01', 0.7575, 'Д'),\n ('202341831114R01C01', 0.0, 'Д'),\n ('202341831114R01C01', 0.0, 'Д'),\n ('202341831114R01C01', 0.0, 'Д'),\n ('202341831114R01C01', 0.9106, 'Д'),\n ('202341831114R01C01', 0.7456, 'Д'),\n ('202341831114R01C01', 0.4849, 'Д'),\n ('202341831114R01C01', 0.9018, 'Д'),\n ('202341831114R01C01', 0.9495, 'Д'),\n ('202341831114R01C01', 0.9077, 'Д'),\n ('202341831114R01C01', 0.2629, 'Д'),\n ('202341831114R01C01', 0.7991, 'Д'),\n ('202341831114R01C01', 0.8657, 'Д'),\n ('202341831114R01C01', 0.9203, 'Д'),\n ('202341831114R01C01', 0.9315, 'Д'),\n ('202341831114R01C01', 0.0, 'Д'),\n ('202341831114R01C01', 0.8188, 'Д'),\n ('202341831114R01C01', 0.492, 'Д'),\n ('202341831114R01C01', 0.2062, 'Д'),\n ('202341831114R01C01', 0.8273, 'Д'),\n ('202341831114R01C01', 0.7374, 'Д'),\n ('202341831114R01C01', 0.6622, 'Д'),\n ('202341831114R01C01', 0.8919, 'Д'),\n ('202341831114R01C01', 0.0, 'Д'),\n ('202341831114R01C01', 0.0, 'Д'),\n ('202341831114R01C01', 0.0, 'Д'),\n ('202341831114R01C01', 0.7653, 'Д'),\n ('202341831114R01C01', 0.0, 'Д'),\n ('202341831114R01C01', 0.7934, 'Д'),\n ('202341831114R01C01', 0.0, 'Д'),\n ('202341831114R01C01', 0.8287, 'Д'),\n ('202341831114R01C01', 0.2164, 'Д'),\n ('202341831114R01C01', 0.8855, 'Д'),\n ('202341831114R01C01', 0.0, 'Д'),\n ('202341831114R01C01', 0.0, 'Д'),\n ('202341831114R01C01', 0.0, 'Д'),\n ('202341831114R01C01', 0.7624, 'Д'),\n ('202341831114R01C01', 0.5685, 'Д'),\n ('202341831114R01C01', 0.89, 'Д'),\n ('202341831114R01C01', 0.0, 'Д'),\n ('202341831114R01C01', 0.9465, 'Д'),\n ('202341831114R01C01', 0.0, 'Д'),\n ('202341831114R01C01', 0.8406, 'Д'),\n ('202341831114R01C01', 0.8513, 'Д'),\n ('202341831114R01C01', 0.8689, 'Д'),\n ('202341831114R01C01', 0.2105, 'Д'),\n ('202341831114R01C01', 0.9304, 'Д'),\n ('202341831114R01C01', 0.0, 'Д'),\n ('202341831114R01C01', 0.936, 'Д'),\n ('202341831114R01C01', 0.5739, 'Д'),\n ('202341831114R01C01', 0.9058, 'Д'),\n ('202341831114R01C01', 0.943, 'Д'),\n ('202341831114R01C01', 0.9286, 'Д'),\n ('202341831114R01C01', 0.0, 'Д'),\n ('202341831114R01C01', 0.8837, 'Д'),\n ('202341831114R01C01', 0.856, 'Д'),\n ('202341831114R01C01', 0.8756, 'Д'),\n ('202341831114R01C01', 0.8931, 'Д'),\n ('202341831114R01C01', 0.8205, 'Д'),\n ('202341831114R01C01', 0.8914, 'Д'),\n ('202341831114R01C01', 0.3159, 'Д'),\n ('202341831114R01C01', 0.0, 'Д'),\n ('202341831114R01C01', 0.0, 'Д'),\n ('202341831114R01C01', 0.836, 'Д'),\n ('202341831114R01C01', 0.9343, 'Д'),\n ('202341831114R01C01', 0.0, 'Д'),\n ('202341831114R01C01', 0.8140000000000001, 'Д'),\n ('202341831114R01C01', 0.9101, 'Д'),\n ('202341831114R01C01', 0.0, 'Д'),\n ('202341831114R01C01', 0.0, 'Д'),\n ('202341831114R01C01', 0.0, 'Д'),\n ('202341831114R01C01', 0.6671, 'Д'),\n ('202341831114R01C01', 0.6902, 'Д'),\n ('202341831114R01C01', 0.8953, 'Д'),\n ('202341831114R01C01', 0.0, 'Д'),\n ('202341831114R01C01', 0.0, 'Д'),\n ('202341831114R01C01', 0.9479, 'Д'),\n ('202341831114R01C01', 0.7535, 'Д'),\n ('202341831114R01C01', 0.88, 'Д'),\n ('202341831114R01C01', 0.0, 'Д'),\n ('202341831114R01C01', 0.8627, 'Д'),\n ('202341831114R01C01', 0.2644, 'Д'),\n ('202341831114R01C01', 0.8873, 'Д'),\n ('202341831114R01C01', 0.7889, 'Д'),\n ('202341831114R01C01', 0.9239, 'Д'),\n ('202341831114R01C01', 0.9451, 'Д'),\n ('202341831114R01C01', 0.0, 'Д'),\n ('202341831114R01C01', 0.4609, 'Д'),\n ('202341831114R01C01', 0.0, 'Д'),\n ('202341831114R01C01', 0.8493, 'Д'),\n ('202341831114R01C01', 0.5843, 'Д'),\n ('202341831114R01C01', 0.0, 'Д'),\n ('202341831114R01C01', 0.596, 'Д'),\n ('202341831114R01C01', 0.8497, 'Д'),\n ('202341831114R01C01', 0.7908, 'Д'),\n ('202341831114R01C01', 0.9004, 'Д'),\n ('202341831114R01C01', 0.8549, 'Д'),\n ('202341831114R01C01', 0.0, 'Д'),\n ('202341831114R01C01', 0.7945, 'Д'),\n ('202341831114R01C01', 0.8534, 'Д'),\n ('202341831114R01C01', 0.0, 'Д'),\n ('202341831114R01C01', 0.8731, 'Д'),\n ('202341831114R01C01', 0.9446, 'Д'),\n ('202341831114R01C01', 0.9267, 'Д'),\n ('202341831114R01C01', 0.2239999999999999, 'Д'),\n ('202341831114R01C01', 0.7549, 'Д'),\n ('202341831114R01C01', 0.0, 'Д'),\n ('202341831114R01C01', 0.0, 'Д'),\n ('202341831114R01C01', 0.9593, 'Д'),\n ('202341831114R01C01', 0.0, 'Д'),\n ('202341831114R01C01', 0.7537, 'Д'),\n ('202341831114R01C01', 0.0, 'Д'),\n ('202341831114R01C01', 0.6057, 'Д'),\n ('202341831114R01C01', 0.9115, 'Д'),\n ('202341831114R01C01', 0.8445, 'Д'),\n ('202341831114R01C01', 0.0, 'Д'),\n ('202341831114R01C01', 0.0, 'Д'),\n ('202341831114R01C01', 0.8398, 'Д'),\n ('202341831114R01C01', 0.7642, 'Д'),\n ('202341831114R01C01', 0.895, 'Д'),\n ('202341831114R01C01', 0.6166, 'Д'),\n ('202341831114R01C01', 0.9567, 'Д'),\n ('202341831114R01C01', 0.8341, 'Д'),\n ('202341831114R01C01', 0.9005, 'Д'),\n ('202341831114R01C01', 0.8599, 'Д'),\n ('202341831114R01C01', 0.2909, 'Д'),\n ('202341831114R01C01', 0.5245, 'Д'),\n ('202341831114R01C01', 0.2439, 'Д'),\n ('202341831114R01C01', 0.8390000000000001, 'Д'),\n ('202341831114R01C01', 0.0, 'Д'),\n ('202341831114R01C01', 0.9009, 'Д'),\n ('202341831114R01C01', 0.8093, 'Д'),\n ('202341831114R01C01', 0.8895, 'Д'),\n ('202341831114R01C01', 0.0, 'Д'),\n ('202341831114R01C01', 0.0, 'Д'),\n ('202341831114R01C01', 0.7036, 'Д'),\n ('202341831114R01C01', 0.8259, 'Д'),\n ('202341831114R01C01', 0.8658, 'Д'),\n ('202341831114R01C01', 0.8316, 'Д'),\n ('202341831114R01C01', 0.8074, 'Д'),\n ('202341831114R01C01', 0.4711, 'Д'),\n ('202341831114R01C01', 0.0, 'Д'),\n ('202341831114R01C01', 0.0, 'Д'),\n ('202341831114R01C01', 0.7985, 'Д'),\n ('202341831114R01C01', 0.5449, 'Д'),\n ('202341831114R01C01', 0.2186, 'Д'),\n ('202341831114R01C01', 0.2367, 'Д'),\n ('202341831114R01C01', 0.8302, 'Д'),\n ('202341831114R01C01', 0.8235, 'Д'),\n ('202341831114R01C01', 0.2242, 'Д'),\n ('202341831114R01C01', 0.6729, 'Д'),\n ('202341831114R01C01', 0.0, 'Д'),\n ('202341831114R01C01', 0.947, 'Д'),\n ('202341831114R01C01', 0.8392, 'Д'),\n ('202341831114R01C01', 0.8382, 'Д'),\n ('202341831114R01C01', 0.782, 'Д'),\n ('202341831114R01C01', 0.9088, 'Д'),\n ('202341831114R01C01', 0.7928, 'Д'),\n ('202341831114R01C01', 0.9009, 'Д'),\n ('202341831114R01C01', 0.0, 'Д'),\n ('202341831114R01C01', 0.9369, 'Д'),\n ('202341831114R01C01', 0.9516, 'Д'),\n ('202341831114R01C01', 0.0, 'Д'),\n ('202341831114R01C01', 0.0, 'Д'),\n ('202341831114R01C01', 0.9158, 'Д'),\n ('202341831114R01C01', 0.8796, 'Д'),\n ('202341831114R01C01', 0.9404, 'Д'),\n ('202341831114R01C01', 0.2492, 'Д'),\n ('202341831114R01C01', 0.0, 'Д'),\n ('202341831114R01C01', 0.5771, 'Д'),\n ('202341831114R01C01', 0.0, 'Д'),\n ('202341831114R01C01', 0.0, 'Д'),\n ('202341831114R01C01', 0.0, 'Д'),\n ('202341831114R01C01', 0.6741, 'Д'),\n ('202341831114R01C01', 0.0, 'Д'),\n ('202341831114R01C01', 0.6836, 'Д'),\n ('202341831114R01C01', 0.7136, 'Д'),\n ('202341831114R01C01', 0.0, 'Д'),\n ('202341831114R01C01', 0.4166, 'Д'),\n ('202341831114R01C01', 0.2212, 'Д'),\n ('202341831114R01C01', 0.9269, 'Д'),\n ('202341831114R01C01', 0.9031, 'Д'),\n ('202341831114R01C01', 0.9061, 'Д'),\n ('202341831114R01C01', 0.9277, 'Д'),\n ('202341831114R01C01', 0.2182, 'Д'),\n ('202341831114R01C01', 0.2644, 'Д'),\n ('202341831114R01C01', 0.8414, 'Д'),\n ('202341831114R01C01', 0.0, 'Д'),\n ('202341831114R01C01', 0.2703, 'Д'),\n ('202341831114R01C01', 0.2559, 'Д'),\n ('202341831114R01C01', 0.8648, 'Д'),\n ('202341831114R01C01', 0.8979, 'Д'),\n ('202341831114R01C01', 0.9302, 'Д'),\n ('202341831114R01C01', 0.8429, 'Д'),\n ('202341831114R01C01', 0.8463, 'Д'),\n ('202341831114R01C01', 0.9269, 'Д'),\n ('202341831114R01C01', 0.0, 'Д'),\n ('202341831114R01C01', 0.9087, 'Д'),\n ('202341831114R01C01', 0.7825, 'Д'),\n ('202341831114R01C01', 0.9357, 'Д'),\n ('202341831114R01C01', 0.2377, 'Д'),\n ('202341831114R01C01', 0.0, 'Д'),\n ('202341831114R01C01', 0.8144, 'Д'),\n ('202341831114R01C01', 0.9316, 'Д'),\n ('202341831114R01C01', 0.0, 'Д'),\n ('202341831114R01C01', 0.9174, 'Д'),\n ('202341831114R01C01', 0.8162, 'Д'),\n ('202341831114R01C01', 0.8236, 'Д'),\n ('202341831114R01C01', 0.9108, 'Д'),\n ('202341831114R01C01', 0.0, 'Д'),\n ('202341831114R01C01', 0.9248, 'Д'),\n ('202341831114R01C01', 0.0, 'Д'),\n ('202341831114R01C01', 0.8622, 'Д'),\n ('202341831114R01C01', 0.2703, 'Д'),\n ('202341831114R01C01', 0.9498, 'Д'),\n ('202341831114R01C01', 0.3048, 'Д'),\n ('202341831114R01C01', 0.7347, 'Д'),\n ('202341831114R01C01', 0.436, 'Д'),\n ('202341831114R01C01', 0.9115, 'Д'),\n ('202341831114R01C01', 0.9542, 'Д'),\n ('202341831114R01C01', 0.7962, 'Д'),\n ('202341831114R01C01', 0.9378, 'Д'),\n ('202341831114R01C01', 0.7054, 'Д'),\n ('202341831114R01C01', 0.8212, 'Д'),\n ('202341831114R01C01', 0.8372, 'Д'),\n ('202341831114R01C01', 0.2264, 'Д'),\n ('202341831114R01C01', 0.0, 'Д'),\n ('202341831114R01C01', 0.8969, 'Д'),\n ('202341831114R01C01', 0.21, 'Д'),\n ('202341831114R01C01', 0.4153, 'Д'),\n ('202341831114R01C01', 0.8204, 'Д'),\n ('202341831114R01C01', 0.9323, 'Д'),\n ('202341831114R01C01', 0.6185, 'Д'),\n ('202341831114R01C01', 0.9277, 'Д'),\n ('202341831114R01C01', 0.8019, 'Д'),\n ('202341831114R01C01', 0.0, 'Д'),\n ('202341831114R01C01', 0.9338, 'Д'),\n ('202341831114R01C01', 0.5585, 'Д'),\n ('202341831114R01C01', 0.0, 'Д'),\n ('202341831114R01C01', 0.9524, 'Д'),\n ('202341831114R01C01', 0.0, 'Д'),\n ('202341831114R01C01', 0.7705, 'Д'),\n ('202341831114R01C01', 0.0, 'Д'),\n ('202341831114R01C01', 0.9145, 'Д'),\n ('202341831114R01C01', 0.8981, 'Д'),\n ('202341831114R01C01', 0.8471, 'Д'),\n ('202341831114R01C01', 0.8314, 'Д'),\n ('202341831114R01C01', 0.8390000000000001, 'Д'),\n ('202341831114R01C01', 0.895, 'Д'),\n ('202341831114R01C01', 0.8308, 'Д'),\n ('202341831114R01C01', 0.9186, 'Д'),\n ('202341831114R01C01', 0.8817, 'Д'),\n ('202341831114R01C01', 0.8271, 'Д'),\n ('202341831114R01C01', 0.7098, 'Д'),\n ('202341831114R01C01', 0.2239, 'Д'),\n ('202341831114R01C01', 0.6548, 'Д'),\n ('202341831114R01C01', 0.5159, 'Д'),\n ('202341831114R01C01', 0.2231, 'Д'),\n ('202341831114R01C01', 0.8452, 'Д'),\n ('202341831114R01C01', 0.0, 'Д'),\n ('202341831114R01C01', 0.888, 'Д'),\n ('202341831114R01C01', 0.8716, 'Д'),\n ('202341831114R01C01', 0.8591, 'Д'),\n ('202341831114R01C01', 0.9572, 'Д'),\n ('202341831114R01C01', 0.0, 'Д'),\n ('202341831114R01C01', 0.9116, 'Д'),\n ('202341831114R01C01', 0.9001, 'Д'),\n ('202341831114R01C01', 0.875, 'Д'),\n ('202341831114R01C01', 0.909, 'Д'),\n ('202341831114R01C01', 0.9349, 'Д'),\n ('202341831114R01C01', 0.7763, 'Д'),\n ('202341831114R01C01', 0.317, 'Д'),\n ('202341831114R01C01', 0.8022, 'Д'),\n ('202341831114R01C01', 0.8455, 'Д'),\n ('202341831114R01C01', 0.7208, 'Д'),\n ('202341831114R01C01', 0.0, 'Д'),\n ('202341831114R01C01', 0.3098, 'Д'),\n ('202341831114R01C01', 0.0, 'Д'),\n ('202341831114R01C01', 0.728, 'Д'),\n ('202341831114R01C01', 0.9316, 'Д'),\n ('202341831114R01C01', 0.8483, 'Д'),\n ('202341831114R01C01', 0.8899, 'Д'),\n ('202341831114R01C01', 0.8190000000000001, 'Д'),\n ('202341831114R01C01', 0.8804, 'Д'),\n ('202341831114R01C01', 0.2785, 'Д'),\n ('202341831114R01C01', 0.0, 'Д'),\n ('202341831114R01C01', 0.9561, 'Д'),\n ('202341831114R01C01', 0.7929, 'Д'),\n ('202341831114R01C01', 0.8769, 'Д'),\n ('202341831114R01C01', 0.2644, 'Д'),\n ('202341831114R01C01', 0.2356, 'Д'),\n ('202341831114R01C01', 0.7519, 'Д'),\n ('202341831114R01C01', 0.8666, 'Д'),\n ('202341831114R01C01', 0.3077, 'Д'),\n ('202341831114R01C01', 0.2115, 'Д'),\n ('202341831114R01C01', 0.3105, 'Д'),\n ('202341831114R01C01', 0.9461, 'Д'),\n ('202341831114R01C01', 0.6534, 'Д'),\n ('202341831114R01C01', 0.7276, 'Д'),\n ('202341831114R01C01', 0.5317, 'Д'),\n ('202341831114R01C01', 0.7794, 'Д'),\n ('202341831114R01C01', 0.0, 'Д'),\n ('202341831114R01C01', 0.9524, 'Д'),\n ('202341831114R01C01', 0.9319, 'Д'),\n ('202341831114R01C01', 0.7708, 'Д'),\n ('202341831114R01C01', 0.9089, 'Д'),\n ('202341831114R01C01', 0.9526, 'Д'),\n ('202341831114R01C01', 0.9582, 'Д'),\n ('202341831114R01C01', 0.2379, 'Д'),\n ('202341831114R01C01', 0.2802, 'Д'),\n ('202341831114R01C01', 0.6958, 'Д'),\n ('202341831114R01C01', 0.0, 'Д'),\n ('202341831114R01C01', 0.4889, 'Д'),\n ('202341831114R01C01', 0.7996, 'Д'),\n ('202341831114R01C01', 0.2009, 'Д'),\n ('202341831114R01C01', 0.6001, 'Д'),\n ('202341831114R01C01', 0.957, 'Д'),\n ('202341831114R01C01', 0.878, 'Д'),\n ('202341831114R01C01', 0.9295, 'Д'),\n ('202341831114R01C01', 0.7402, 'Д'),\n ('202341831114R01C01', 0.9452, 'Д'),\n ('202341831114R01C01', 0.929, 'Д'),\n ('202341831114R01C01', 0.0, 'Д'),\n ('202341831114R01C01', 0.8234, 'Д'),\n ('202341831114R01C01', 0.0, 'Д'),\n ('202341831114R01C01', 0.7748, 'Д'),\n ('202341831114R01C01', 0.0, 'Д'),\n ('202341831114R01C01', 0.0, 'Д'),\n ('202341831114R01C01', 0.0, 'Д'),\n ('202341831114R01C01', 0.4466, 'Д'),\n ('202341831114R01C01', 0.5656, 'Д'),\n ('202341831114R01C01', 0.7932, 'Д'),\n ('202341831114R01C01', 0.9458, 'Д'),\n ('202341831114R01C01', 0.9338, 'Д'),\n ('202341831114R01C01', 0.9388, 'Д'),\n ('202341831114R01C01', 0.6829, 'Д'),\n ('202341831114R01C01', 0.2713, 'Д'),\n ('202341831114R01C01', 0.8612, 'Д'),\n ('202341831114R01C01', 0.0, 'Д'),\n ('202341831114R01C01', 0.3313, 'Д'),\n ('202341831114R01C01', 0.4313, 'Д'),\n ('202341831114R01C01', 0.0, 'Д'),\n ('202341831114R01C01', 0.0, 'Д'),\n ('202341831114R01C01', 0.8652, 'Д'),\n ('202341831114R01C01', 0.8222, 'Д'),\n ('202341831114R01C01', 0.9461, 'Д'),\n ('202341831114R01C01', 0.9496, 'Д'),\n ('202341831114R01C01', 0.904, 'Д'),\n ('202341831114R01C01', 0.8196, 'Д'),\n ('202341831114R01C01', 0.9579, 'Д'),\n ('202341831114R01C01', 0.5765, 'Д'),\n ('202341831114R01C01', 0.0, 'Д'),\n ('202341831114R01C01', 0.6924, 'Д'),\n ('202341831114R01C01', 0.8692, 'Д'),\n ('202341831114R01C01', 0.7376, 'Д'),\n ('202341831114R01C01', 0.9241, 'Д'),\n ('202341831114R01C01', 0.887, 'Д'),\n ('202341831114R01C01', 0.7797, 'Д'),\n ('202341831114R01C01', 0.9596, 'Д'),\n ('202341831114R01C01', 0.8887, 'Д'),\n ('202341831114R01C01', 0.0, 'Д'),\n ('202341831114R01C01', 0.209, 'Д'),\n ('202341831114R01C01', 0.8997, 'Д'),\n ('202341831114R01C01', 0.9143, 'Д'),\n ('202341831114R01C01', 0.0, 'Д'),\n ('202341831114R01C01', 0.0, 'Д'),\n ('202341831114R01C01', 0.0, 'Д'),\n ('202341831114R01C01', 0.8696, 'Д'),\n ('202341831114R01C01', 0.0, 'Д'),\n ('202341831114R01C01', 0.436, 'Д'),\n ('202341831114R01C01', 0.0, 'Д'),\n ('202341831114R01C01', 0.7432, 'Д'),\n ('202341831114R01C01', 0.0, 'Д'),\n ('202341831114R01C01', 0.2239, 'Д'),\n ('202341831114R01C01', 0.0, 'Д'),\n ('202341831114R01C01', 0.0, 'Д'),\n ('202341831114R01C01', 0.6156, 'Д'),\n ('202341831114R01C01', 0.0, 'Д'),\n ('202341831114R01C01', 0.9088, 'Д'),\n ('202341831114R01C01', 0.2181, 'Д'),\n ('202341831114R01C01', 0.9262, 'Д'),\n ('202341831114R01C01', 0.8656, 'Д'),\n ('202341831114R01C01', 0.2868, 'Д'),\n ('202341831114R01C01', 0.4144, 'Д'),\n ('202341831114R01C01', 0.2299, 'Д'),\n ('202341831114R01C01', 0.8369, 'Д'),\n ('202341831114R01C01', 0.0, 'Д'),\n ('202341831114R01C01', 0.0, 'Д'),\n ('202341831114R01C01', 0.8825, 'Д'),\n ('202341831114R01C01', 0.9061, 'Д'),\n ('202341831114R01C01', 0.7624, 'Д'),\n ('202341831114R01C01', 0.3959, 'Д'),\n ('202341831114R01C01', 0.0, 'Д'),\n ('202341831114R01C01', 0.5489999999999999, 'Д'),\n ('202341831114R01C01', 0.9591, 'Д'),\n ('202341831114R01C01', 0.2035, 'Д'),\n ('202341831114R01C01', 0.9416, 'Д'),\n ('202341831114R01C01', 0.0, 'Д'),\n ('202341831114R01C01', 0.0, 'Д'),\n ('202341831114R01C01', 0.7717, 'Д'),\n ('202341831114R01C01', 0.0, 'Д'),\n ('202341831114R01C01', 0.9103, 'Д'),\n ('202341831114R01C01', 0.0, 'Д'),\n ('202341831114R01C01', 0.9582, 'Д'),\n ('202341831114R01C01', 0.7581, 'Д'),\n ('202341831114R01C01', 0.8576, 'Д'),\n ('202341831114R01C01', 0.7276, 'Д'),\n ('202341831114R01C01', 0.0, 'Д'),\n ('202341831114R01C01', 0.2824, 'Д'),\n ('202341831114R01C01', 0.0, 'Д'),\n ('202341831114R01C01', 0.0, 'Д'),\n ('202341831114R01C01', 0.0, 'Д'),\n ('202341831114R01C01', 0.7424, 'Д'),\n ('202341831114R01C01', 0.2092, 'Д'),\n ('202341831114R01C01', 0.873, 'Д'),\n ('202341831114R01C01', 0.2198, 'Д'),\n ('202341831114R01C01', 0.0, 'Д'),\n ('202341831114R01C01', 0.8459, 'Д'),\n ('202341831114R01C01', 0.7228, 'Д'),\n ('202341831114R01C01', 0.4688, 'Д'),\n ('202341831114R01C01', 0.8519, 'Д'),\n ('202341831114R01C01', 0.8824, 'Д'),\n ('202341831114R01C01', 0.8648, 'Д'),\n ('202341831114R01C01', 0.7576, 'Д'),\n ('202341831114R01C01', 0.8734, 'Д'),\n ('202341831114R01C01', 0.8903, 'Д'),\n ('202341831114R01C01', 0.8945, 'Д'),\n ('202341831114R01C01', 0.5332, 'Д'),\n ('202341831114R01C01', 0.9528, 'Д'),\n ('202341831114R01C01', 0.8544, 'Д'),\n ('202341831114R01C01', 0.3295, 'Д'),\n ('202341831114R01C01', 0.8839, 'Д'),\n ('202341831114R01C01', 0.2379, 'Д'),\n ('202341831114R01C01', 0.2561, 'Д'),\n ('202341831114R01C01', 0.8584, 'Д'),\n ('202341831114R01C01', 0.4421, 'Д'),\n ('202341831114R01C01', 0.0, 'Д'),\n ('202341831114R01C01', 0.8289, 'Д'),\n ('202341831114R01C01', 0.9588, 'Д'),\n ('202341831114R01C01', 0.2189, 'Д'),\n ('202341831114R01C01', 0.9344, 'Д'),\n ('202341831114R01C01', 0.5327, 'Д'),\n ('202341831114R01C01', 0.9406, 'Д'),\n ('202341831114R01C01', 0.7593, 'Д'),\n ('202341831114R01C01', 0.928, 'Д'),\n ('202341831114R01C01', 0.475, 'Д'),\n ('202341831114R01C01', 0.2298, 'Д'),\n ('202341831114R01C01', 0.0, 'Д'),\n ('202341831114R01C01', 0.0, 'Д'),\n ('202341831114R01C01', 0.9437, 'Д'),\n ('202341831114R01C01', 0.8192, 'Д'),\n ('202341831114R01C01', 0.8706, 'Д'),\n ('202341831114R01C01', 0.0, 'Д'),\n ('202341831114R01C01', 0.6484, 'Д'),\n ('202341831114R01C01', 0.8082, 'Д'),\n ('202341831114R01C01', 0.6769, 'Д'),\n ('202341831114R01C01', 0.6181, 'Д'),\n ('202341831114R01C01', 0.0, 'Д'),\n ('202341831114R01C01', 0.0, 'Д'),\n ('202341831114R01C01', 0.2541, 'Д'),\n ('202341831114R01C01', 0.0, 'Д'),\n ('202341831114R01C01', 0.8652, 'Д'),\n ('202341831114R01C01', 0.8567, 'Д'),\n ('202341831114R01C01', 0.8316, 'Д'),\n ('202341831114R01C01', 0.2202, 'Д'),\n ('202341831114R01C01', 0.8192, 'Д'),\n ('202341831114R01C01', 0.6705, 'Д'),\n ('202341831114R01C01', 0.2271, 'Д'),\n ('202341831114R01C01', 0.0, 'Д'),\n ('202341831114R01C01', 0.7997, 'Д'),\n ('202341831114R01C01', 0.7704, 'Д'),\n ('202341831114R01C01', 0.7431, 'Д'),\n ('202341831114R01C01', 0.7716, 'Д'),\n ('202341831114R01C01', 0.0, 'Д'),\n ('202341831114R01C01', 0.9091, 'Д'),\n ('202341831114R01C01', 0.7742, 'Д'),\n ('202341831114R01C01', 0.8562, 'Д'),\n ('202341831114R01C01', 0.809, 'Д'),\n ('202341831114R01C01', 0.0, 'Д'),\n ('202341831114R01C01', 0.2122, 'Д'),\n ('202341831114R01C01', 0.885, 'Д'),\n ('202341831114R01C01', 0.8825, 'Д'),\n ('202341831114R01C01', 0.0, 'Д'),\n ('202341831114R01C01', 0.2713, 'Д'),\n ('202341831114R01C01', 0.9657, 'Д'),\n ('202341831114R01C01', 0.9604, 'Д'),\n ('202341831114R01C01', 0.5959, 'Д'),\n ('202341831114R01C01', 0.0, 'Д'),\n ('202341831114R01C01', 0.7018, 'Д'),\n ('202341831114R01C01', 0.8298, 'Д'),\n ('202341831114R01C01', 0.9382, 'Д'),\n ('202341831114R01C01', 0.0, 'Д'),\n ('202341831114R01C01', 0.6035, 'Д'),\n ('202341831114R01C01', 0.2092, 'Д'),\n ('202341831114R01C01', 0.2541, 'Д'),\n ('202341831114R01C01', 0.8353, 'Д'),\n ('202341831114R01C01', 0.8191, 'Д'),\n ('202341831114R01C01', 0.0, 'Д'),\n ('202341831114R01C01', 0.8554, 'Д'),\n ('202341831114R01C01', 0.5191, 'Д'),\n ('202341831114R01C01', 0.4105, 'Д'),\n ('202341831114R01C01', 0.8866, 'Д'),\n ('202341831114R01C01', 0.9363, 'Д'),\n ('202341831114R01C01', 0.0, 'Д'),\n ('202341831114R01C01', 0.8295, 'Д'),\n ('202341831114R01C01', 0.8320000000000001, 'Д'),\n ('202341831114R01C01', 0.6731, 'Д'),\n ('202341831114R01C01', 0.9307, 'Д'),\n ('202341831114R01C01', 0.9078, 'Д'),\n ('202341831114R01C01', 0.6651, 'Д'),\n ('202341831114R01C01', 0.5242, 'Д'),\n ('202341831114R01C01', 0.9366, 'Д'),\n ('202341831114R01C01', 0.4506, 'Д'),\n ('202341831114R01C01', 0.6009, 'Д'),\n ('202341831114R01C01', 0.8370000000000001, 'Д'),\n ('202341831114R01C01', 0.0, 'Д'),\n ('202341831114R01C01', 0.8381, 'Д'),\n ('202341831114R01C01', 0.0, 'Д'),\n ('202341831114R01C01', 0.9125, 'Д'),\n ('202341831114R01C01', 0.326, 'Д'),\n ('202341831114R01C01', 0.7538, 'Д'),\n ('202341831114R01C01', 0.0, 'Д'),\n ('202341831114R01C01', 0.7733, 'Д'),\n ('202341831114R01C01', 0.0, 'Д'),\n ('202341831114R01C01', 0.762, 'Д'),\n ('202341831114R01C01', 0.8685, 'Д'),\n ('202341831114R01C01', 0.0, 'Д'),\n ('202341831114R01C01', 0.503, 'Д'),\n ('202341831114R01C01', 0.7371, 'Д'),\n ('202341831114R01C01', 0.7551, 'Д'),\n ('202341831114R01C01', 0.8937, 'Д'),\n ('202341831114R01C01', 0.0, 'Д'),\n ('202341831114R01C01', 0.9337, 'Д'),\n ('202341831114R01C01', 0.7993, 'Д'),\n ('202341831114R01C01', 0.8821, 'Д'),\n ('202341831114R01C01', 0.0, 'Д'),\n ('202341831114R01C01', 0.8922, 'Д'),\n ('202341831114R01C01', 0.0, 'Д'),\n ('202341831114R01C01', 0.0, 'Д'),\n ('202341831114R01C01', 0.907, 'Д'),\n ('202341831114R01C01', 0.0, 'Д'),\n ('202341831114R01C01', 0.8942, 'Д'),\n ('202341831114R01C01', 0.8934, 'Д'),\n ('202341831114R01C01', 0.9362, 'Д'),\n ('202341831114R01C01', 0.0, 'Д'),\n ('202341831114R01C01', 0.7651, 'Д'),\n ('202341831114R01C01', 0.9511, 'Д'),\n ('202341831114R01C01', 0.7622, 'Д'),\n ('202341831114R01C01', 0.9343, 'Д'),\n ('202341831114R01C01', 0.9228, 'Д'),\n ('202341831114R01C01', 0.2062, 'Д'),\n ('202341831114R01C01', 0.8962, 'Д'),\n ('202341831114R01C01', 0.7305, 'Д'),\n ('202341831114R01C01', 0.6589, 'Д'),\n ('202341831114R01C01', 0.0, 'Д'),\n ('202341831114R01C01', 0.9378, 'Д'),\n ('202341831114R01C01', 0.0, 'Д'),\n ('202341831114R01C01', 0.7462, 'Д'),\n ('202341831114R01C01', 0.9189, 'Д'),\n ('202341831114R01C01', 0.3921, 'Д'),\n ('202341831114R01C01', 0.0, 'Д'),\n ('202341831114R01C01', 0.0, 'Д'),\n ('202341831114R01C01', 0.0, 'Д'),\n ('202341831114R01C01', 0.8336, 'Д'),\n ('202341831114R01C01', 0.9346, 'Д'),\n ('202341831114R01C01', 0.9537, 'Д'),\n ('202341831114R01C01', 0.653, 'Д'),\n ('202341831114R01C01', 0.0, 'Д'),\n ('202341831114R01C01', 0.8314, 'Д'),\n ('202341831114R01C01', 0.9131, 'Д'),\n ('202341831114R01C01', 0.8317, 'Д'),\n ('202341831114R01C01', 0.856, 'Д'),\n ('202341831114R01C01', 0.8391, 'Д'),\n ('202341831114R01C01', 0.0, 'Д'),\n ('202341831114R01C01', 0.0, 'Д'),\n ('202341831114R01C01', 0.9639, 'Д'),\n ('202341831114R01C01', 0.0, 'Д'),\n ('202341831114R01C01', 0.948, 'Д'),\n ('202341831114R01C01', 0.7831, 'Д'),\n ('202341831114R01C01', 0.5851, 'Д'),\n ('202341831114R01C01', 0.7668, 'Д'),\n ('202341831114R01C01', 0.0, 'Д'),\n ('202341831114R01C01', 0.2006, 'Д'),\n ('202341831114R01C01', 0.0, 'Д'),\n ('202341831114R01C01', 0.7696, 'Д'),\n ('202341831114R01C01', 0.0, 'Д'),\n ('202341831114R01C01', 0.0, 'Д'),\n ('202341831114R01C01', 0.821, 'Д'),\n ('202341831114R01C01', 0.0, 'Д'),\n ('202341831114R01C01', 0.9265, 'Д'),\n ('202341831114R01C01', 0.8958, 'Д'),\n ('202341831114R01C01', 0.7089, 'Д'),\n ('202341831114R01C01', 0.9026, 'Д'),\n ('202341831114R01C01', 0.7409, 'Д'),\n ('202341831114R01C01', 0.0, 'Д'),\n ('202341831114R01C01', 0.3811, 'Д'),\n ('202341831114R01C01', 0.6815, 'Д'),\n ('202341831114R01C01', 0.8259, 'Д'),\n ('202341831114R01C01', 0.9357, 'Д'),\n ('202341831114R01C01', 0.2122, 'Д'),\n ('202341831114R01C01', 0.2429, 'Д'),\n ('202341831114R01C01', 0.6116, 'Д'),\n ('202341831114R01C01', 0.7644, 'Д'),\n ('202341831114R01C01', 0.8902, 'Д'),\n ('202341831114R01C01', 0.8503, 'Д'),\n ('202341831114R01C01', 0.6022, 'Д'),\n ('202341831114R01C01', 0.5533, 'Д'),\n ('202341831114R01C01', 0.9139, 'Д'),\n ('202341831114R01C01', 0.2131, 'Д'),\n ('202341831114R01C01', 0.0, 'Д'),\n ('202341831114R01C01', 0.2956, 'Д'),\n ('202341831114R01C01', 0.3849, 'Д'),\n ('202341831114R01C01', 0.8708, 'Д'),\n ('202341831114R01C01', 0.9279, 'Д'),\n ('202341831114R01C01', 0.4899, 'Д'),\n ('202341831114R01C01', 0.9483, 'Д'),\n ('202341831114R01C01', 0.6702, 'Д'),\n ('202341831114R01C01', 0.7959, 'Д'),\n ('202341831114R01C01', 0.6749, 'Д'),\n ('202341831114R01C01', 0.8528, 'Д'),\n ('202341831114R01C01', 0.8495, 'Д'),\n ('202341831114R01C01', 0.8545, 'Д'),\n ('202341831114R01C01', 0.8304, 'Д'),\n ('202341831114R01C01', 0.7053, 'Д'),\n ('202341831114R01C01', 0.7316, 'Д'),\n ('202341831114R01C01', 0.0, 'Д'),\n ('202341831114R01C01', 0.6454, 'Д'),\n ('202341831114R01C01', 0.0, 'Д'),\n ('202341831114R01C01', 0.9538, 'Д'),\n ('202341831114R01C01', 0.8776, 'Д'),\n ('202341831114R01C01', 0.0, 'Д'),\n ('202341831114R01C01', 0.0, 'Д'),\n ('202341831114R01C01', 0.0, 'Д'),\n ('202341831114R01C01', 0.7562, 'Д'),\n ('202341831114R01C01', 0.8411, 'Д'),\n ('202341831114R01C01', 0.908, 'Д'),\n ('202341831114R01C01', 0.6497, 'Д'),\n ('202341831114R01C01', 0.7635, 'Д'),\n ('202341831114R01C01', 0.9161, 'Д'),\n ('202341831114R01C01', 0.8115, 'Д'),\n ('202341831114R01C01', 0.6896, 'Д'),\n ('202341831114R01C01', 0.2231, 'Д'),\n ('202341831114R01C01', 0.8759, 'Д'),\n ('202341831114R01C01', 0.8106, 'Д'),\n ('202341831114R01C01', 0.4112, 'Д'),\n ('202341831114R01C01', 0.85, 'Д'),\n ('202341831114R01C01', 0.7340000000000001, 'Д'),\n ('202341831114R01C01', 0.8232, 'Д'),\n ('202341831114R01C01', 0.9197, 'Д'),\n ('202341831114R01C01', 0.933, 'Д'),\n ('202341831114R01C01', 0.9592, 'Д'),\n ('202341831114R01C01', 0.8235, 'Д'),\n ('202341831114R01C01', 0.8691, 'Д'),\n ('202341831114R01C01', 0.9354, 'Д'),\n ('202341831114R01C01', 0.902, 'Д'),\n ('202341831114R01C01', 0.9335, 'Д'),\n ('202341831114R01C01', 0.7872, 'Д'),\n ('202341831114R01C01', 0.8351, 'Д'),\n ('202341831114R01C01', 0.0, 'Д'),\n ('202341831114R01C01', 0.0, 'Д'),\n ('202341831114R01C01', 0.8479, 'Д'),\n ('202341831114R01C01', 0.4331, 'Д'),\n ('202341831114R01C01', 0.8423, 'Д'),\n ('202341831114R01C01', 0.4283, 'Д'),\n ('202341831114R01C01', 0.596, 'Д'),\n ('202341831114R01C01', 0.2362, 'Д'),\n ('202341831114R01C01', 0.8022, 'Д'),\n ('202341831114R01C01', 0.9362, 'Д'),\n ('202341831114R01C01', 0.9218, 'Д'),\n ('202341831114R01C01', 0.8457, 'Д'),\n ('202341831114R01C01', 0.0, 'Д'),\n ('202341831114R01C01', 0.9151, 'Д'),\n ('202341831114R01C01', 0.8151, 'Д'),\n ('202341831114R01C01', 0.2131, 'Д'),\n ('202341831114R01C01', 0.9215, 'Д'),\n ('202341831114R01C01', 0.9446, 'Д'),\n ('202341831114R01C01', 0.3601, 'Д'),\n ('202341831114R01C01', 0.7831, 'Д'),\n ('202341831114R01C01', 0.8434, 'Д'),\n ('202341831114R01C01', 0.0, 'Д'),\n ('202341831114R01C01', 0.8657, 'Д'),\n ('202341831114R01C01', 0.8901, 'Д'),\n ('202341831114R01C01', 0.3615, 'Д'),\n ('202341831114R01C01', 0.8111, 'Д'),\n ('202341831114R01C01', 0.2127, 'Д'),\n ('202341831114R01C01', 0.8277, 'Д'),\n ('202341831114R01C01', 0.6402, 'Д'),\n ('202341831114R01C01', 0.4217, 'Д'),\n ('202341831114R01C01', 0.0, 'Д'),\n ('202341831114R01C01', 0.9395, 'Д'),\n ('202341831114R01C01', 0.0, 'Д'),\n ('202341831114R01C01', 0.0, 'Д'),\n ('202341831114R01C01', 0.0, 'Д'),\n ('202341831114R01C01', 0.0, 'Д'),\n ('202341831114R01C01', 0.8568, 'Д'),\n ('202341831114R01C01', 0.9457, 'Д'),\n ('202341831114R01C01', 0.7225, 'Д'),\n ('202341831114R01C01', 0.0, 'Д'),\n ('202341831114R01C01', 0.2319999999999999, 'Д'),\n ('202341831114R01C01', 0.9387, 'Д'),\n ('202341831114R01C01', 0.0, 'Д'),\n ('202341831114R01C01', 0.917, 'Д'),\n ('202341831114R01C01', 0.0, 'Д'),\n ('202341831114R01C01', 0.8102, 'Д'),\n ('202341831114R01C01', 0.0, 'Д'),\n ('202341831114R01C01', 0.9295, 'Д'),\n ('202341831114R01C01', 0.2155, 'Д'),\n ('202341831114R01C01', 0.8242, 'Д'),\n ('202341831114R01C01', 0.0, 'Д'),\n ('202341831114R01C01', 0.0, 'Д'),\n ('202341831114R01C01', 0.0, 'Д'),\n ('202341831114R01C01', 0.2216, 'Д'),\n ('202341831114R01C01', 0.2662, 'Д'),\n ('202341831114R01C01', 0.0, 'Д'),\n ('202341831114R01C01', 0.2191, 'Д'),\n ('202341831114R01C01', 0.8108, 'Д'),\n ('202341831114R01C01', 0.6213, 'Д'),\n ('202341831114R01C01', 0.272, 'Д'),\n ('202341831114R01C01', 0.9469, 'Д'),\n ('202341831114R01C01', 0.2378, 'Д'),\n ('202341831114R01C01', 0.0, 'Д'),\n ('202341831114R01C01', 0.8972, 'Д'),\n ('202341831114R01C01', 0.9115, 'Д'),\n ('202341831114R01C01', 0.8184, 'Д'),\n ('202341831114R01C01', 0.7835, 'Д'),\n ('202341831114R01C01', 0.8693, 'Д'),\n ('202341831114R01C01', 0.8648, 'Д'),\n ('202341831114R01C01', 0.2564, 'Д'),\n ('202341831114R01C01', 0.8509, 'Д'),\n ('202341831114R01C01', 0.9464, 'Д'),\n ('202341831114R01C01', 0.0, 'Д'),\n ('202341831114R01C01', 0.0, 'Д'),\n ('202341831114R01C01', 0.8633, 'Д'),\n ('202341831114R01C01', 0.9323, 'Д'),\n ('202341831114R01C01', 0.0, 'Д'),\n ('202341831114R01C01', 0.9644, 'Д'),\n ('202341831114R01C01', 0.6293, 'Д'),\n ('202341831114R01C01', 0.8031, 'Д'),\n ('202341831114R01C01', 0.6594, 'Д'),\n ('202341831114R01C01', 0.4811, 'Д'),\n ('202341831114R01C01', 0.9114, 'Д'),\n ('202341831114R01C01', 0.0, 'Д'),\n ('202341831114R01C01', 0.9346, 'Д'),\n ('202341831114R01C01', 0.9395, 'Д'),\n ('202341831114R01C01', 0.7741, 'Д'),\n ('202341831114R01C01', 0.0, 'Д'),\n ('202341831114R01C01', 0.0, 'Д'),\n ('202341831114R01C01', 0.0, 'Д'),\n ('202341831114R01C01', 0.0, 'Д'),\n ('202341831114R01C01', 0.242, 'Д'),\n ('202341831114R01C01', 0.0, 'Д'),\n ('202341831114R01C01', 0.0, 'Д'),\n ('202341831114R01C01', 0.8716, 'Д'),\n ('202341831114R01C01', 0.8405, 'Д'),\n ('202341831114R01C01', 0.0, 'Д'),\n ('202341831114R01C01', 0.0, 'Д'),\n ('202341831114R01C01', 0.6943, 'Д'),\n ('202341831114R01C01', 0.8416, 'Д'),\n ('202341831114R01C01', 0.9387, 'Д'),\n ('202341831114R01C01', 0.2007, 'Д'),\n ('202341831114R01C01', 0.9372, 'Д'),\n ('202341831114R01C01', 0.7490000000000001, 'Д'),\n ('202341831114R01C01', 0.2164, 'Д'),\n ('202341831114R01C01', 0.2128, 'Д'),\n ('202341831114R01C01', 0.0, 'Д'),\n ('202341831114R01C01', 0.9521, 'Д'),\n ...]"
     },
     "execution_count": 36,
     "metadata": {},
     "output_type": "execute_result"
    }
   ],
   "source": [
    "joined_select = \"\"\"SELECT genstudio.'Sample ID', genstudio.'GC score', metadata.breed FROM genstudio\n",
    "JOIN metadata ON genstudio.'Sample ID' = metadata.dna_chip_id;\"\"\"\n",
    "connection.execute(joined_select).fetchall()"
   ],
   "metadata": {
    "collapsed": false,
    "pycharm": {
     "name": "#%%\n"
    }
   }
  },
  {
   "cell_type": "markdown",
   "source": [
    "**Adding data**"
   ],
   "metadata": {
    "collapsed": false
   }
  },
  {
   "cell_type": "code",
   "execution_count": 64,
   "outputs": [],
   "source": [
    "add_string = ['[T/C]', 3, 12345]"
   ],
   "metadata": {
    "collapsed": false,
    "pycharm": {
     "name": "#%%\n"
    }
   }
  },
  {
   "cell_type": "code",
   "execution_count": 65,
   "outputs": [],
   "source": [
    "add_query = \"\"\"INSERT INTO genstudio (SNP, Chr, Position)\n",
    "Values (?, ?, ?)\"\"\"\n",
    "\n",
    "connection.execute(add_query, add_string)\n",
    "connection.commit()"
   ],
   "metadata": {
    "collapsed": false,
    "pycharm": {
     "name": "#%%\n"
    }
   }
  },
  {
   "cell_type": "markdown",
   "source": [
    "**Delete columns**"
   ],
   "metadata": {
    "collapsed": false
   }
  },
  {
   "cell_type": "code",
   "execution_count": 66,
   "outputs": [],
   "source": [
    "drop_query = \"\"\"ALTER TABLE genstudio\n",
    "DROP COLUMN Theta;\"\"\"\n",
    "connection.execute(drop_query)\n",
    "connection.commit()"
   ],
   "metadata": {
    "collapsed": false,
    "pycharm": {
     "name": "#%%\n"
    }
   }
  },
  {
   "cell_type": "code",
   "execution_count": 89,
   "outputs": [],
   "source": [
    "connection.close()"
   ],
   "metadata": {
    "collapsed": false,
    "pycharm": {
     "name": "#%%\n"
    }
   }
  }
 ],
 "metadata": {
  "kernelspec": {
   "display_name": "Python 3",
   "language": "python",
   "name": "python3"
  },
  "language_info": {
   "codemirror_mode": {
    "name": "ipython",
    "version": 2
   },
   "file_extension": ".py",
   "mimetype": "text/x-python",
   "name": "python",
   "nbconvert_exporter": "python",
   "pygments_lexer": "ipython2",
   "version": "2.7.6"
  }
 },
 "nbformat": 4,
 "nbformat_minor": 0
}